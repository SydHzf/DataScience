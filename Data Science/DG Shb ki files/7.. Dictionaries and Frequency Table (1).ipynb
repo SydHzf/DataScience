{
 "cells": [
  {
   "cell_type": "markdown",
   "metadata": {},
   "source": [
    "# Dictionary\n",
    "    * Dictionary is a key value pair\n",
    "    * key data type string, int, float\n",
    "    * value data type string, int, float, dict, list"
   ]
  },
  {
   "cell_type": "code",
   "execution_count": 1,
   "metadata": {},
   "outputs": [
    {
     "data": {
      "text/plain": [
       "['Sharjeel', 20, 45000]"
      ]
     },
     "execution_count": 1,
     "metadata": {},
     "output_type": "execute_result"
    }
   ],
   "source": [
    "employee1 = [\"Sharjeel\", 20, 45000]\n",
    "employee1"
   ]
  },
  {
   "cell_type": "code",
   "execution_count": 2,
   "metadata": {},
   "outputs": [
    {
     "data": {
      "text/plain": [
       "{'Name': 'Danial', 'Age': 22, 'Salary': 4500}"
      ]
     },
     "execution_count": 2,
     "metadata": {},
     "output_type": "execute_result"
    }
   ],
   "source": [
    "employee2 = {\"Name\":\"Danial\",\"Age\":22,\"Salary\":4500}\n",
    "employee2"
   ]
  },
  {
   "cell_type": "code",
   "execution_count": 4,
   "metadata": {},
   "outputs": [
    {
     "data": {
      "text/plain": [
       "['Sharjeel Ahmed', 20, 45000]"
      ]
     },
     "execution_count": 4,
     "metadata": {},
     "output_type": "execute_result"
    }
   ],
   "source": [
    "employee1[0] = \"Sharjeel Ahmed\"\n",
    "employee1"
   ]
  },
  {
   "cell_type": "code",
   "execution_count": 6,
   "metadata": {},
   "outputs": [
    {
     "data": {
      "text/plain": [
       "{'Name': 'Danial Gauhar', 'Age': 22, 'Salary': 4500}"
      ]
     },
     "execution_count": 6,
     "metadata": {},
     "output_type": "execute_result"
    }
   ],
   "source": [
    "employee2[\"Name\"] = \"Danial Gauhar\"\n",
    "employee2"
   ]
  },
  {
   "cell_type": "code",
   "execution_count": 7,
   "metadata": {},
   "outputs": [
    {
     "data": {
      "text/plain": [
       "['Sharjeel Ahmed', 20, 45000, 'Gulshan Branch']"
      ]
     },
     "execution_count": 7,
     "metadata": {},
     "output_type": "execute_result"
    }
   ],
   "source": [
    "employee1.append(\"Gulshan Branch\")\n",
    "employee1"
   ]
  },
  {
   "cell_type": "code",
   "execution_count": 9,
   "metadata": {},
   "outputs": [
    {
     "data": {
      "text/plain": [
       "{'Name': 'Danial Gauhar',\n",
       " 'Age': 22,\n",
       " 'Salary': 4500,\n",
       " 'Location': 'Jauhar Branch'}"
      ]
     },
     "execution_count": 9,
     "metadata": {},
     "output_type": "execute_result"
    }
   ],
   "source": [
    "employee2[\"Location\"] = \"Jauhar Branch\"\n",
    "employee2"
   ]
  },
  {
   "cell_type": "code",
   "execution_count": 11,
   "metadata": {},
   "outputs": [
    {
     "data": {
      "text/plain": [
       "{'Name': 'Danial Gauhar', 'Salary': 4500, 'Location': 'Jauhar Branch'}"
      ]
     },
     "execution_count": 11,
     "metadata": {},
     "output_type": "execute_result"
    }
   ],
   "source": [
    "del employee2[\"Age\"]\n",
    "employee2"
   ]
  },
  {
   "cell_type": "code",
   "execution_count": 12,
   "metadata": {},
   "outputs": [
    {
     "data": {
      "text/plain": [
       "['Sharjeel', 'Abdullah', 'Mubashir', 'Sarim']"
      ]
     },
     "execution_count": 12,
     "metadata": {},
     "output_type": "execute_result"
    }
   ],
   "source": [
    "club = [\"Sharjeel\",\"Abdullah\",\"Mubashir\",\"Sarim\"]\n",
    "club"
   ]
  },
  {
   "cell_type": "code",
   "execution_count": 14,
   "metadata": {},
   "outputs": [
    {
     "data": {
      "text/plain": [
       "False"
      ]
     },
     "execution_count": 14,
     "metadata": {},
     "output_type": "execute_result"
    }
   ],
   "source": [
    "\"Sharjeel\" not in club"
   ]
  },
  {
   "cell_type": "code",
   "execution_count": 15,
   "metadata": {},
   "outputs": [],
   "source": [
    "fruits = [\"Banana\",\"Mango\",\"Peach\",\"Apple\",\"Mango\",\"Peach\",\"Apple\",\\\n",
    "         \"Mango\",\"Peach\",\"Apple\",\"Banana\",\"Mango\",\"Banana\",\"Mango\"]"
   ]
  },
  {
   "cell_type": "code",
   "execution_count": 16,
   "metadata": {},
   "outputs": [
    {
     "data": {
      "text/plain": [
       "{'Mango': 5}"
      ]
     },
     "execution_count": 16,
     "metadata": {},
     "output_type": "execute_result"
    }
   ],
   "source": [
    "frq = {\"Mango\":0}\n",
    "\n",
    "for i in fruits:\n",
    "    if i == \"Mango\":\n",
    "        frq[i] += 1\n",
    "frq"
   ]
  },
  {
   "cell_type": "code",
   "execution_count": 20,
   "metadata": {},
   "outputs": [
    {
     "name": "stdout",
     "output_type": "stream",
     "text": [
      "['Banana', 'Mango', 'Peach', 'Apple', 'Mango', 'Peach', 'Apple', 'Mango', 'Peach', 'Apple', 'Banana', 'Mango', 'Banana', 'Mango']\n"
     ]
    }
   ],
   "source": [
    "print(fruits)"
   ]
  },
  {
   "cell_type": "code",
   "execution_count": 21,
   "metadata": {},
   "outputs": [],
   "source": [
    "frq_table = {} # {\"Banana\":1,\"Mango\":1}\n",
    "\n",
    "for i in fruits: #Banana\n",
    "    if i not in frq_table: # True\n",
    "        frq_table[i] = 1\n",
    "    else:\n",
    "        frq_table[i] += 1"
   ]
  },
  {
   "cell_type": "code",
   "execution_count": 22,
   "metadata": {},
   "outputs": [
    {
     "data": {
      "text/plain": [
       "{'Banana': 3, 'Mango': 5, 'Peach': 3, 'Apple': 3}"
      ]
     },
     "execution_count": 22,
     "metadata": {},
     "output_type": "execute_result"
    }
   ],
   "source": [
    "frq_table"
   ]
  },
  {
   "cell_type": "code",
   "execution_count": null,
   "metadata": {},
   "outputs": [],
   "source": []
  }
 ],
 "metadata": {
  "kernelspec": {
   "display_name": "Python 3",
   "language": "python",
   "name": "python3"
  },
  "language_info": {
   "codemirror_mode": {
    "name": "ipython",
    "version": 3
   },
   "file_extension": ".py",
   "mimetype": "text/x-python",
   "name": "python",
   "nbconvert_exporter": "python",
   "pygments_lexer": "ipython3",
   "version": "3.8.3"
  }
 },
 "nbformat": 4,
 "nbformat_minor": 4
}
