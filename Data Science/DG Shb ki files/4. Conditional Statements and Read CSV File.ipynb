{
 "cells": [
  {
   "cell_type": "markdown",
   "metadata": {},
   "source": [
    "# Conditional Statement\n",
    " * syntax :\n",
    "     * if conditon :\n",
    "           statement\n",
    "       else:\n",
    "           statement"
   ]
  },
  {
   "cell_type": "code",
   "execution_count": 1,
   "metadata": {},
   "outputs": [
    {
     "name": "stdout",
     "output_type": "stream",
     "text": [
      "Eligible to vote\n"
     ]
    }
   ],
   "source": [
    "age = 23\n",
    "\n",
    "if age >= 18:\n",
    "    print(\"Eligible to vote\")\n",
    "else:\n",
    "    print(\"Not Eligible to vote\")"
   ]
  },
  {
   "cell_type": "code",
   "execution_count": 2,
   "metadata": {},
   "outputs": [
    {
     "data": {
      "text/plain": [
       "True"
      ]
     },
     "execution_count": 2,
     "metadata": {},
     "output_type": "execute_result"
    }
   ],
   "source": [
    "age >= 18"
   ]
  },
  {
   "cell_type": "code",
   "execution_count": 3,
   "metadata": {},
   "outputs": [
    {
     "name": "stdout",
     "output_type": "stream",
     "text": [
      "Not Eligible to vote\n"
     ]
    }
   ],
   "source": [
    "if False:\n",
    "    print(\"Eligible to vote\")\n",
    "else:\n",
    "    print(\"Not Eligible to vote\")"
   ]
  },
  {
   "cell_type": "markdown",
   "metadata": {},
   "source": [
    "# Relational Operations\n",
    "    * greater than >\n",
    "    * less than <\n",
    "    * greater than or equal too >=\n",
    "    * less than or equal too <=\n",
    "    * not equal !=\n",
    "    * equal too"
   ]
  },
  {
   "cell_type": "code",
   "execution_count": 4,
   "metadata": {},
   "outputs": [
    {
     "name": "stdout",
     "output_type": "stream",
     "text": [
      "Eligible to vote\n"
     ]
    }
   ],
   "source": [
    "age = 18\n",
    "\n",
    "if age >= 18:\n",
    "    print(\"Eligible to vote\")\n",
    "else:\n",
    "    print(\"Not Eligible to vote\")"
   ]
  },
  {
   "cell_type": "code",
   "execution_count": 5,
   "metadata": {},
   "outputs": [],
   "source": [
    "import csv\n",
    "\n",
    "open_file = open(\"data.csv\", encoding = \"utf-8\")\n",
    "read_file = csv.reader(open_file)\n",
    "dataset = list(read_file)"
   ]
  },
  {
   "cell_type": "code",
   "execution_count": 6,
   "metadata": {},
   "outputs": [
    {
     "data": {
      "text/plain": [
       "[['roll no', 'Name', 'Chemistry', 'Physics', 'Math'],\n",
       " ['101', 'Aliza', '50', '23', '87'],\n",
       " ['102', 'Fareed', '45', '24', '88'],\n",
       " ['103', 'Basit', '46', '25', '89'],\n",
       " ['104', 'Abdullah', '47', '26', '90'],\n",
       " ['105', 'Ali', '48', '27', '67'],\n",
       " ['106', 'Mubashir', '49', '28', '68'],\n",
       " ['107', 'Waleed', '50', '29', '69'],\n",
       " ['108', 'Mansoor', '51', '30', '70'],\n",
       " ['109', 'Zain', '52', '31', '71'],\n",
       " ['110', 'Mohsin', '53', '67', '72'],\n",
       " ['111', 'Shahmeer', '54', '68', '73'],\n",
       " ['112', 'Rao', '55', '69', '74'],\n",
       " ['113', 'Aurangzeb', '56', '70', '75'],\n",
       " ['114', 'Zeeshan', '57', '71', '76'],\n",
       " ['115', 'Humza', '58', '72', '77'],\n",
       " ['116', 'Hamza', '59', '73', '78'],\n",
       " ['117', 'Khalid', '60', '74', '79'],\n",
       " ['118', 'Behroz', '61', '75', '80'],\n",
       " ['119', 'Justin', '62', '76', '81'],\n",
       " ['120', 'Danial', '63', '77', '82']]"
      ]
     },
     "execution_count": 6,
     "metadata": {},
     "output_type": "execute_result"
    }
   ],
   "source": [
    "dataset"
   ]
  },
  {
   "cell_type": "code",
   "execution_count": 7,
   "metadata": {},
   "outputs": [
    {
     "data": {
      "text/plain": [
       "[['101', 'Aliza', '50', '23', '87'],\n",
       " ['102', 'Fareed', '45', '24', '88'],\n",
       " ['103', 'Basit', '46', '25', '89'],\n",
       " ['104', 'Abdullah', '47', '26', '90'],\n",
       " ['105', 'Ali', '48', '27', '67'],\n",
       " ['106', 'Mubashir', '49', '28', '68'],\n",
       " ['107', 'Waleed', '50', '29', '69'],\n",
       " ['108', 'Mansoor', '51', '30', '70'],\n",
       " ['109', 'Zain', '52', '31', '71'],\n",
       " ['110', 'Mohsin', '53', '67', '72'],\n",
       " ['111', 'Shahmeer', '54', '68', '73'],\n",
       " ['112', 'Rao', '55', '69', '74'],\n",
       " ['113', 'Aurangzeb', '56', '70', '75'],\n",
       " ['114', 'Zeeshan', '57', '71', '76'],\n",
       " ['115', 'Humza', '58', '72', '77'],\n",
       " ['116', 'Hamza', '59', '73', '78'],\n",
       " ['117', 'Khalid', '60', '74', '79'],\n",
       " ['118', 'Behroz', '61', '75', '80'],\n",
       " ['119', 'Justin', '62', '76', '81'],\n",
       " ['120', 'Danial', '63', '77', '82']]"
      ]
     },
     "execution_count": 7,
     "metadata": {},
     "output_type": "execute_result"
    }
   ],
   "source": [
    "dataset[1:]"
   ]
  },
  {
   "cell_type": "code",
   "execution_count": 8,
   "metadata": {},
   "outputs": [],
   "source": [
    "marks_chem = []\n",
    "\n",
    "for i in dataset[1:]: # i : ['101', 'Aliza', '50', '23', '87']\n",
    "    i[2] = int(i[2]) \n",
    "#     print(type(i[2]))\n",
    "    marks_chem.append(i[2])"
   ]
  },
  {
   "cell_type": "code",
   "execution_count": 9,
   "metadata": {},
   "outputs": [
    {
     "name": "stdout",
     "output_type": "stream",
     "text": [
      "[50, 45, 46, 47, 48, 49, 50, 51, 52, 53, 54, 55, 56, 57, 58, 59, 60, 61, 62, 63]\n"
     ]
    },
    {
     "data": {
      "text/plain": [
       "[['roll no', 'Name', 'Chemistry', 'Physics', 'Math'],\n",
       " ['101', 'Aliza', 50, '23', '87'],\n",
       " ['102', 'Fareed', 45, '24', '88'],\n",
       " ['103', 'Basit', 46, '25', '89'],\n",
       " ['104', 'Abdullah', 47, '26', '90'],\n",
       " ['105', 'Ali', 48, '27', '67'],\n",
       " ['106', 'Mubashir', 49, '28', '68'],\n",
       " ['107', 'Waleed', 50, '29', '69'],\n",
       " ['108', 'Mansoor', 51, '30', '70'],\n",
       " ['109', 'Zain', 52, '31', '71'],\n",
       " ['110', 'Mohsin', 53, '67', '72'],\n",
       " ['111', 'Shahmeer', 54, '68', '73'],\n",
       " ['112', 'Rao', 55, '69', '74'],\n",
       " ['113', 'Aurangzeb', 56, '70', '75'],\n",
       " ['114', 'Zeeshan', 57, '71', '76'],\n",
       " ['115', 'Humza', 58, '72', '77'],\n",
       " ['116', 'Hamza', 59, '73', '78'],\n",
       " ['117', 'Khalid', 60, '74', '79'],\n",
       " ['118', 'Behroz', 61, '75', '80'],\n",
       " ['119', 'Justin', 62, '76', '81'],\n",
       " ['120', 'Danial', 63, '77', '82']]"
      ]
     },
     "execution_count": 9,
     "metadata": {},
     "output_type": "execute_result"
    }
   ],
   "source": [
    "print(marks_chem)\n",
    "dataset"
   ]
  },
  {
   "cell_type": "code",
   "execution_count": 10,
   "metadata": {},
   "outputs": [],
   "source": [
    "s = sum(marks_chem)"
   ]
  },
  {
   "cell_type": "code",
   "execution_count": 11,
   "metadata": {},
   "outputs": [],
   "source": [
    "l = len(marks_chem)"
   ]
  },
  {
   "cell_type": "code",
   "execution_count": 12,
   "metadata": {},
   "outputs": [
    {
     "data": {
      "text/plain": [
       "53.8"
      ]
     },
     "execution_count": 12,
     "metadata": {},
     "output_type": "execute_result"
    }
   ],
   "source": [
    "avg = s/l\n",
    "avg"
   ]
  },
  {
   "cell_type": "code",
   "execution_count": 13,
   "metadata": {},
   "outputs": [],
   "source": [
    "for i in dataset[1:]:\n",
    "    chem = i[2]\n",
    "    phy = int(i[3])\n",
    "    math = int(i[-1])\n",
    "    percentage = (chem + phy + math) / 300 * 100\n",
    "    rd = round(percentage,2)\n",
    "    i.append(rd)"
   ]
  },
  {
   "cell_type": "code",
   "execution_count": 14,
   "metadata": {},
   "outputs": [
    {
     "data": {
      "text/plain": [
       "[['roll no', 'Name', 'Chemistry', 'Physics', 'Math', 'Percentage'],\n",
       " ['101', 'Aliza', 50, '23', '87', 53.33],\n",
       " ['102', 'Fareed', 45, '24', '88', 52.33],\n",
       " ['103', 'Basit', 46, '25', '89', 53.33],\n",
       " ['104', 'Abdullah', 47, '26', '90', 54.33],\n",
       " ['105', 'Ali', 48, '27', '67', 47.33],\n",
       " ['106', 'Mubashir', 49, '28', '68', 48.33],\n",
       " ['107', 'Waleed', 50, '29', '69', 49.33],\n",
       " ['108', 'Mansoor', 51, '30', '70', 50.33],\n",
       " ['109', 'Zain', 52, '31', '71', 51.33],\n",
       " ['110', 'Mohsin', 53, '67', '72', 64.0],\n",
       " ['111', 'Shahmeer', 54, '68', '73', 65.0],\n",
       " ['112', 'Rao', 55, '69', '74', 66.0],\n",
       " ['113', 'Aurangzeb', 56, '70', '75', 67.0],\n",
       " ['114', 'Zeeshan', 57, '71', '76', 68.0],\n",
       " ['115', 'Humza', 58, '72', '77', 69.0],\n",
       " ['116', 'Hamza', 59, '73', '78', 70.0],\n",
       " ['117', 'Khalid', 60, '74', '79', 71.0],\n",
       " ['118', 'Behroz', 61, '75', '80', 72.0],\n",
       " ['119', 'Justin', 62, '76', '81', 73.0],\n",
       " ['120', 'Danial', 63, '77', '82', 74.0]]"
      ]
     },
     "execution_count": 14,
     "metadata": {},
     "output_type": "execute_result"
    }
   ],
   "source": [
    "dataset[0].append(\"Percentage\")\n",
    "dataset"
   ]
  },
  {
   "cell_type": "code",
   "execution_count": null,
   "metadata": {},
   "outputs": [],
   "source": []
  }
 ],
 "metadata": {
  "kernelspec": {
   "display_name": "Python 3",
   "language": "python",
   "name": "python3"
  },
  "language_info": {
   "codemirror_mode": {
    "name": "ipython",
    "version": 3
   },
   "file_extension": ".py",
   "mimetype": "text/x-python",
   "name": "python",
   "nbconvert_exporter": "python",
   "pygments_lexer": "ipython3",
   "version": "3.8.5"
  }
 },
 "nbformat": 4,
 "nbformat_minor": 4
}
