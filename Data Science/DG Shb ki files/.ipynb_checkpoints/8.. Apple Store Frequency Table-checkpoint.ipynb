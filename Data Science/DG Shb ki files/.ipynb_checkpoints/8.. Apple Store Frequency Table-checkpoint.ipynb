{
 "cells": [
  {
   "cell_type": "code",
   "execution_count": 1,
   "metadata": {},
   "outputs": [],
   "source": [
    "from csv import reader"
   ]
  },
  {
   "cell_type": "code",
   "execution_count": 27,
   "metadata": {},
   "outputs": [],
   "source": [
    "applestore = list(reader(open(\"AppleStore.csv\", encoding = \"utf-8\")))"
   ]
  },
  {
   "cell_type": "code",
   "execution_count": 28,
   "metadata": {},
   "outputs": [
    {
     "data": {
      "text/plain": [
       "['id',\n",
       " 'track_name',\n",
       " 'size_bytes',\n",
       " 'currency',\n",
       " 'price',\n",
       " 'rating_count_tot',\n",
       " 'rating_count_ver',\n",
       " 'user_rating',\n",
       " 'user_rating_ver',\n",
       " 'ver',\n",
       " 'cont_rating',\n",
       " 'prime_genre',\n",
       " 'sup_devices.num',\n",
       " 'ipadSc_urls.num',\n",
       " 'lang.num',\n",
       " 'vpp_lic']"
      ]
     },
     "execution_count": 28,
     "metadata": {},
     "output_type": "execute_result"
    }
   ],
   "source": [
    "header = applestore[0]\n",
    "header"
   ]
  },
  {
   "cell_type": "code",
   "execution_count": 29,
   "metadata": {},
   "outputs": [],
   "source": [
    "applestore = applestore[1:]"
   ]
  },
  {
   "cell_type": "code",
   "execution_count": 30,
   "metadata": {},
   "outputs": [
    {
     "data": {
      "text/plain": [
       "['284882215',\n",
       " 'Facebook',\n",
       " '389879808',\n",
       " 'USD',\n",
       " '0',\n",
       " '2974676',\n",
       " '212',\n",
       " '3.5',\n",
       " '3.5',\n",
       " '95',\n",
       " '4+',\n",
       " 'Social Networking',\n",
       " '37',\n",
       " '1',\n",
       " '29',\n",
       " '1']"
      ]
     },
     "execution_count": 30,
     "metadata": {},
     "output_type": "execute_result"
    }
   ],
   "source": [
    "applestore[0]"
   ]
  },
  {
   "cell_type": "code",
   "execution_count": 31,
   "metadata": {},
   "outputs": [
    {
     "data": {
      "text/plain": [
       "['header']"
      ]
     },
     "execution_count": 31,
     "metadata": {},
     "output_type": "execute_result"
    }
   ],
   "source": [
    "lst = [[\"header\"],[\"record1\"],[\"record2\"]]\n",
    "h = lst[0]\n",
    "h"
   ]
  },
  {
   "cell_type": "code",
   "execution_count": 32,
   "metadata": {},
   "outputs": [
    {
     "data": {
      "text/plain": [
       "[['record1'], ['record2']]"
      ]
     },
     "execution_count": 32,
     "metadata": {},
     "output_type": "execute_result"
    }
   ],
   "source": [
    "lst[1:]"
   ]
  },
  {
   "cell_type": "code",
   "execution_count": 33,
   "metadata": {},
   "outputs": [],
   "source": [
    "lst = lst[1:]"
   ]
  },
  {
   "cell_type": "code",
   "execution_count": 34,
   "metadata": {},
   "outputs": [
    {
     "data": {
      "text/plain": [
       "['record1']"
      ]
     },
     "execution_count": 34,
     "metadata": {},
     "output_type": "execute_result"
    }
   ],
   "source": [
    "lst[0]"
   ]
  },
  {
   "cell_type": "code",
   "execution_count": 36,
   "metadata": {},
   "outputs": [
    {
     "data": {
      "text/plain": [
       "11"
      ]
     },
     "execution_count": 36,
     "metadata": {},
     "output_type": "execute_result"
    }
   ],
   "source": [
    "header.index('prime_genre')"
   ]
  },
  {
   "cell_type": "code",
   "execution_count": 38,
   "metadata": {},
   "outputs": [
    {
     "data": {
      "text/plain": [
       "{'Social Networking': 167,\n",
       " 'Photo & Video': 349,\n",
       " 'Games': 3862,\n",
       " 'Music': 138,\n",
       " 'Reference': 64,\n",
       " 'Health & Fitness': 180,\n",
       " 'Weather': 72,\n",
       " 'Utilities': 248,\n",
       " 'Travel': 81,\n",
       " 'Shopping': 122,\n",
       " 'News': 75,\n",
       " 'Navigation': 46,\n",
       " 'Lifestyle': 144,\n",
       " 'Entertainment': 535,\n",
       " 'Food & Drink': 63,\n",
       " 'Sports': 114,\n",
       " 'Book': 112,\n",
       " 'Finance': 104,\n",
       " 'Education': 453,\n",
       " 'Productivity': 178,\n",
       " 'Business': 57,\n",
       " 'Catalogs': 10,\n",
       " 'Medical': 23}"
      ]
     },
     "execution_count": 38,
     "metadata": {},
     "output_type": "execute_result"
    }
   ],
   "source": [
    "genre = {} # {Social Networking:2}\n",
    "\n",
    "for i in applestore: # [facebook record]\n",
    "    prime = i[11] # Social Networking\n",
    "    if prime in genre:\n",
    "        genre[prime] += 1\n",
    "    else:\n",
    "        genre[prime] = 1\n",
    "\n",
    "genre"
   ]
  },
  {
   "cell_type": "markdown",
   "metadata": {},
   "source": [
    "### * Genrate a frequency table of prime genre for free Apps"
   ]
  },
  {
   "cell_type": "code",
   "execution_count": 40,
   "metadata": {},
   "outputs": [],
   "source": [
    "free_frq = {} # {Music:2}\n",
    "\n",
    "for i in applestore:\n",
    "    price = float(i[4]) # 0.0\n",
    "    genre = i[11] # Music\n",
    "    if price == 0: # T\n",
    "        if genre in free_frq:\n",
    "            free_frq[genre] += 1\n",
    "        else:\n",
    "            free_frq[genre] = 1"
   ]
  },
  {
   "cell_type": "code",
   "execution_count": 41,
   "metadata": {},
   "outputs": [
    {
     "data": {
      "text/plain": [
       "{'Social Networking': 143,\n",
       " 'Photo & Video': 167,\n",
       " 'Games': 2257,\n",
       " 'Music': 67,\n",
       " 'Reference': 20,\n",
       " 'Health & Fitness': 76,\n",
       " 'Weather': 31,\n",
       " 'Utilities': 109,\n",
       " 'Travel': 56,\n",
       " 'Shopping': 121,\n",
       " 'News': 58,\n",
       " 'Navigation': 20,\n",
       " 'Lifestyle': 94,\n",
       " 'Entertainment': 334,\n",
       " 'Food & Drink': 43,\n",
       " 'Sports': 79,\n",
       " 'Book': 66,\n",
       " 'Finance': 84,\n",
       " 'Education': 132,\n",
       " 'Productivity': 62,\n",
       " 'Business': 20,\n",
       " 'Catalogs': 9,\n",
       " 'Medical': 8}"
      ]
     },
     "execution_count": 41,
     "metadata": {},
     "output_type": "execute_result"
    }
   ],
   "source": [
    "free_frq"
   ]
  },
  {
   "cell_type": "markdown",
   "metadata": {},
   "source": [
    "# Class Task\n",
    "* Genrate a frequency table of prime genre for paid Apps where user rating is greater than 4\n"
   ]
  },
  {
   "cell_type": "code",
   "execution_count": 42,
   "metadata": {},
   "outputs": [
    {
     "data": {
      "text/plain": [
       "{'Games': 813,\n",
       " 'Music': 34,\n",
       " 'Photo & Video': 89,\n",
       " 'Business': 18,\n",
       " 'Weather': 16,\n",
       " 'Health & Fitness': 67,\n",
       " 'Entertainment': 55,\n",
       " 'Utilities': 36,\n",
       " 'Education': 114,\n",
       " 'Reference': 21,\n",
       " 'Productivity': 57,\n",
       " 'Lifestyle': 17,\n",
       " 'Book': 29,\n",
       " 'Finance': 10,\n",
       " 'Sports': 10,\n",
       " 'Medical': 9,\n",
       " 'Shopping': 1,\n",
       " 'Food & Drink': 9,\n",
       " 'News': 4,\n",
       " 'Navigation': 9,\n",
       " 'Social Networking': 6,\n",
       " 'Travel': 10,\n",
       " 'Catalogs': 1}"
      ]
     },
     "execution_count": 42,
     "metadata": {},
     "output_type": "execute_result"
    }
   ],
   "source": [
    "paid_apps = {}\n",
    "for i in applestore:\n",
    "    price = float(i[4])\n",
    "    rating = float(i[7])\n",
    "    genre = i[11]\n",
    "    if price != 0 and rating > 4:\n",
    "        if genre in paid_apps:\n",
    "            paid_apps[genre] += 1\n",
    "        else:\n",
    "            paid_apps[genre] = 1\n",
    "paid_apps            \n",
    "    "
   ]
  },
  {
   "cell_type": "code",
   "execution_count": 43,
   "metadata": {},
   "outputs": [],
   "source": [
    "covid = list(reader(open(\"2019_nCoV_data.csv\", encoding = \"utf-8\")))"
   ]
  },
  {
   "cell_type": "code",
   "execution_count": 45,
   "metadata": {},
   "outputs": [],
   "source": [
    "header = covid[0]\n",
    "covid = covid[1:]"
   ]
  },
  {
   "cell_type": "code",
   "execution_count": 46,
   "metadata": {},
   "outputs": [],
   "source": [
    "country={}\n",
    "\n",
    "for i in covid:\n",
    "    c=i[3]\n",
    "    if c in country:\n",
    "        country[c] +=1\n",
    "    else: \n",
    "        country[c] =1\n",
    "        "
   ]
  },
  {
   "cell_type": "code",
   "execution_count": 48,
   "metadata": {},
   "outputs": [
    {
     "data": {
      "text/plain": [
       "{'China': 364,\n",
       " 'US': 1502,\n",
       " 'Japan': 59,\n",
       " 'Thailand': 59,\n",
       " 'South Korea': 48,\n",
       " 'Mainland China': 1486,\n",
       " 'Hong Kong': 47,\n",
       " 'Macau': 47,\n",
       " 'Taiwan': 48,\n",
       " 'Singapore': 58,\n",
       " 'Philippines': 52,\n",
       " 'Malaysia': 57,\n",
       " 'Vietnam': 57,\n",
       " 'Australia': 306,\n",
       " 'Mexico': 23,\n",
       " 'Brazil': 25,\n",
       " 'France': 109,\n",
       " 'Nepal': 56,\n",
       " 'Canada': 231,\n",
       " 'Cambodia': 54,\n",
       " 'Sri Lanka': 54,\n",
       " 'Ivory Coast': 1,\n",
       " 'Germany': 54,\n",
       " 'Finland': 52,\n",
       " 'United Arab Emirates': 52,\n",
       " 'India': 51,\n",
       " 'Italy': 51,\n",
       " 'Sweden': 50,\n",
       " 'Russia': 49,\n",
       " 'Spain': 50,\n",
       " 'UK': 40,\n",
       " 'Belgium': 46,\n",
       " 'Others': 33,\n",
       " 'Egypt': 36,\n",
       " 'Iran': 30,\n",
       " 'Israel': 29,\n",
       " 'Lebanon': 29,\n",
       " 'Iraq': 27,\n",
       " 'Oman': 26,\n",
       " 'Afghanistan': 26,\n",
       " 'Bahrain': 26,\n",
       " 'Kuwait': 26,\n",
       " 'Austria': 25,\n",
       " 'Algeria': 25,\n",
       " 'Croatia': 25,\n",
       " 'Switzerland': 25,\n",
       " 'Pakistan': 24,\n",
       " 'Georgia': 24,\n",
       " 'Greece': 24,\n",
       " 'North Macedonia': 24,\n",
       " 'Norway': 24,\n",
       " 'Romania': 24,\n",
       " 'Denmark': 35,\n",
       " 'Estonia': 23,\n",
       " 'Netherlands': 32,\n",
       " 'San Marino': 23,\n",
       " ' Azerbaijan': 1,\n",
       " 'Belarus': 22,\n",
       " 'Iceland': 22,\n",
       " 'Lithuania': 22,\n",
       " 'New Zealand': 22,\n",
       " 'Nigeria': 22,\n",
       " 'North Ireland': 1,\n",
       " 'Ireland': 21,\n",
       " 'Luxembourg': 21,\n",
       " 'Monaco': 21,\n",
       " 'Qatar': 21,\n",
       " 'Ecuador': 20,\n",
       " 'Azerbaijan': 20,\n",
       " 'Czech Republic': 10,\n",
       " 'Armenia': 20,\n",
       " 'Dominican Republic': 20,\n",
       " 'Indonesia': 19,\n",
       " 'Portugal': 19,\n",
       " 'Andorra': 19,\n",
       " 'Latvia': 19,\n",
       " 'Morocco': 19,\n",
       " 'Saudi Arabia': 19,\n",
       " 'Senegal': 19,\n",
       " 'Argentina': 18,\n",
       " 'Chile': 18,\n",
       " 'Jordan': 18,\n",
       " 'Ukraine': 18,\n",
       " 'Saint Barthelemy': 7,\n",
       " 'Hungary': 17,\n",
       " 'Faroe Islands': 7,\n",
       " 'Gibraltar': 7,\n",
       " 'Liechtenstein': 17,\n",
       " 'Poland': 17,\n",
       " 'Tunisia': 17,\n",
       " 'Palestine': 5,\n",
       " 'Bosnia and Herzegovina': 16,\n",
       " 'Slovenia': 16,\n",
       " 'South Africa': 16,\n",
       " '3/6/2020 22:00': 1,\n",
       " 'Bhutan': 15,\n",
       " 'Cameroon': 15,\n",
       " 'Colombia': 15,\n",
       " 'Costa Rica': 15,\n",
       " 'Peru': 15,\n",
       " 'Serbia': 15,\n",
       " 'Slovakia': 15,\n",
       " 'Togo': 15,\n",
       " 'Vatican City': 4,\n",
       " 'French Guiana': 13,\n",
       " 'Malta': 14,\n",
       " 'Martinique': 14,\n",
       " 'Republic of Ireland': 1,\n",
       " 'Bulgaria': 13,\n",
       " 'Maldives': 13,\n",
       " 'Bangladesh': 13,\n",
       " 'Moldova': 12,\n",
       " 'Paraguay': 13,\n",
       " 'Albania': 12,\n",
       " 'Cyprus': 12,\n",
       " 'St. Martin': 1,\n",
       " 'Brunei': 12,\n",
       " 'Iran (Islamic Republic of)': 1,\n",
       " 'Republic of Korea': 1,\n",
       " 'Hong Kong SAR': 1,\n",
       " 'Taipei and environs': 1,\n",
       " 'Viet Nam': 1,\n",
       " 'occupied Palestinian territory': 5,\n",
       " 'Macao SAR': 1,\n",
       " 'Russian Federation': 1,\n",
       " 'Republic of Moldova': 1,\n",
       " 'Saint Martin': 1,\n",
       " 'Burkina Faso': 11,\n",
       " 'Channel Islands': 1,\n",
       " 'Holy See': 11,\n",
       " 'Mongolia': 11,\n",
       " 'Panama': 11,\n",
       " 'Korea, South': 10,\n",
       " 'Cruise Ship': 10,\n",
       " 'United Kingdom': 41,\n",
       " 'Czechia': 10,\n",
       " 'Taiwan*': 9,\n",
       " 'Bolivia': 10,\n",
       " 'Honduras': 10,\n",
       " 'Congo (Kinshasa)': 10,\n",
       " \"Cote d'Ivoire\": 10,\n",
       " 'Jamaica': 10,\n",
       " 'Reunion': 10,\n",
       " 'Turkey': 10,\n",
       " 'Cuba': 9,\n",
       " 'Guyana': 9,\n",
       " 'Kazakhstan': 8,\n",
       " 'Cayman Islands': 3,\n",
       " 'Guadeloupe': 8,\n",
       " 'Ethiopia': 8,\n",
       " 'Sudan': 8,\n",
       " 'Guinea': 8,\n",
       " 'Antigua and Barbuda': 8,\n",
       " 'Aruba': 7,\n",
       " 'Kenya': 8,\n",
       " 'Uruguay': 7,\n",
       " 'Ghana': 7,\n",
       " 'Jersey': 7,\n",
       " 'Namibia': 7,\n",
       " 'Seychelles': 7,\n",
       " 'Trinidad and Tobago': 7,\n",
       " 'Venezuela': 7,\n",
       " 'Curacao': 2,\n",
       " 'Eswatini': 7,\n",
       " 'Gabon': 7,\n",
       " 'Guatemala': 7,\n",
       " 'Guernsey': 7,\n",
       " 'Mauritania': 7,\n",
       " 'Rwanda': 7,\n",
       " 'Saint Lucia': 7,\n",
       " 'Saint Vincent and the Grenadines': 7,\n",
       " 'Suriname': 7,\n",
       " 'Kosovo': 6,\n",
       " 'Central African Republic': 6,\n",
       " 'Congo (Brazzaville)': 6,\n",
       " 'Equatorial Guinea': 6,\n",
       " 'Uzbekistan': 6,\n",
       " 'Guam': 5,\n",
       " 'Puerto Rico': 5,\n",
       " 'Benin': 5,\n",
       " 'Greenland': 5,\n",
       " 'Liberia': 5,\n",
       " 'Mayotte': 5,\n",
       " 'Republic of the Congo': 5,\n",
       " 'Somalia': 5,\n",
       " 'Tanzania': 5,\n",
       " 'The Bahamas': 5,\n",
       " 'Barbados': 4,\n",
       " 'Montenegro': 4,\n",
       " 'The Gambia': 4,\n",
       " 'Kyrgyzstan': 3,\n",
       " 'Mauritius': 3,\n",
       " 'Zambia': 3,\n",
       " 'Djibouti': 3,\n",
       " 'Gambia, The': 3,\n",
       " 'Bahamas, The': 2,\n",
       " 'Chad': 2,\n",
       " 'El Salvador': 2,\n",
       " 'Fiji': 2,\n",
       " 'Nicaragua': 2,\n",
       " 'Madagascar': 1,\n",
       " 'Haiti': 1,\n",
       " 'Angola': 1,\n",
       " 'Cabo Verde': 1,\n",
       " 'Niger': 1,\n",
       " 'Papua New Guinea': 1,\n",
       " 'Zimbabwe': 1}"
      ]
     },
     "execution_count": 48,
     "metadata": {},
     "output_type": "execute_result"
    }
   ],
   "source": [
    "country"
   ]
  },
  {
   "cell_type": "code",
   "execution_count": null,
   "metadata": {},
   "outputs": [],
   "source": []
  }
 ],
 "metadata": {
  "kernelspec": {
   "display_name": "Python 3",
   "language": "python",
   "name": "python3"
  },
  "language_info": {
   "codemirror_mode": {
    "name": "ipython",
    "version": 3
   },
   "file_extension": ".py",
   "mimetype": "text/x-python",
   "name": "python",
   "nbconvert_exporter": "python",
   "pygments_lexer": "ipython3",
   "version": "3.8.5"
  }
 },
 "nbformat": 4,
 "nbformat_minor": 4
}
