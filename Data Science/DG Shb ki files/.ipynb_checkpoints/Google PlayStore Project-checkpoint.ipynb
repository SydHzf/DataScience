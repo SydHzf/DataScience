{
 "cells": [
  {
   "cell_type": "markdown",
   "metadata": {},
   "source": [
    "# Profitable app profiles\n",
    "\n",
    "# Scenario\n",
    "\n",
    "Our aim in this project is to find mobile app profiles that are profitable. Assuming We're working as data analysts for a company that builds mobile apps, and our job is to enable our team of developers to make data-driven decisions with respect to the kind of apps they build.\n",
    "\n",
    "At our company, we only build apps that are free to download and install, and our main source of revenue consists of in-app ads. This means that our revenue for any given app is mostly influenced by the number of users that use our app. Our goal for this project is to analyze data to help our developers understand what kinds of apps are likely to attract more users.\n",
    "\n"
   ]
  },
  {
   "cell_type": "code",
   "execution_count": 1,
   "metadata": {},
   "outputs": [],
   "source": [
    "def read_file(filename):\n",
    "    from csv import reader\n",
    "    return list(reader(open(filename, encoding = \"utf-8\")))"
   ]
  },
  {
   "cell_type": "code",
   "execution_count": 2,
   "metadata": {},
   "outputs": [
    {
     "data": {
      "text/plain": [
       "10842"
      ]
     },
     "execution_count": 2,
     "metadata": {},
     "output_type": "execute_result"
    }
   ],
   "source": [
    "android = read_file(\"googleplaystore.csv\")\n",
    "len(android)"
   ]
  },
  {
   "cell_type": "code",
   "execution_count": 3,
   "metadata": {},
   "outputs": [],
   "source": [
    "header = android[0]\n",
    "android = android[1:]"
   ]
  },
  {
   "cell_type": "code",
   "execution_count": 4,
   "metadata": {},
   "outputs": [],
   "source": [
    "for i in android:\n",
    "    if i[1] == \"\":\n",
    "        print(i[1])"
   ]
  },
  {
   "cell_type": "code",
   "execution_count": 5,
   "metadata": {},
   "outputs": [
    {
     "name": "stdout",
     "output_type": "stream",
     "text": [
      "['ART_AND_DESIGN', 'AUTO_AND_VEHICLES', 'BEAUTY', 'BOOKS_AND_REFERENCE', 'BUSINESS', 'COMICS', 'COMMUNICATION', 'DATING', 'EDUCATION', 'ENTERTAINMENT', 'EVENTS', 'FINANCE', 'FOOD_AND_DRINK', 'HEALTH_AND_FITNESS', 'HOUSE_AND_HOME', 'LIBRARIES_AND_DEMO', 'LIFESTYLE', 'GAME', 'FAMILY', 'MEDICAL', 'SOCIAL', 'SHOPPING', 'PHOTOGRAPHY', 'SPORTS', 'TRAVEL_AND_LOCAL', 'TOOLS', 'PERSONALIZATION', 'PRODUCTIVITY', 'PARENTING', 'WEATHER', 'VIDEO_PLAYERS', 'NEWS_AND_MAGAZINES', 'MAPS_AND_NAVIGATION', '1.9']\n"
     ]
    }
   ],
   "source": [
    "lst = [] # [ART_AND_DESIGN,]\n",
    "\n",
    "for i in android:\n",
    "    if i[1] not in lst: # ART_AND_DESIGN\n",
    "        lst.append(i[1])\n",
    "\n",
    "print(lst)"
   ]
  },
  {
   "cell_type": "code",
   "execution_count": 6,
   "metadata": {},
   "outputs": [
    {
     "name": "stdout",
     "output_type": "stream",
     "text": [
      "['Life Made WI-Fi Touchscreen Photo Frame', '1.9', '19', '3.0M', '1,000+', 'Free', '0', 'Everyone', '', 'February 11, 2018', '1.0.19', '4.0 and up']\n"
     ]
    }
   ],
   "source": [
    "for i in android:\n",
    "    if i[1] == '1.9':\n",
    "        print(i)"
   ]
  },
  {
   "cell_type": "code",
   "execution_count": 7,
   "metadata": {},
   "outputs": [
    {
     "name": "stdout",
     "output_type": "stream",
     "text": [
      "['Photo Editor & Candy Camera & Grid & ScrapBook', 'ART_AND_DESIGN', '4.1', '159', '19M', '10,000+', 'Free', '0', 'Everyone', 'Art & Design', 'January 7, 2018', '1.0.0', '4.0.3 and up']\n"
     ]
    }
   ],
   "source": [
    "print(android[0])"
   ]
  },
  {
   "cell_type": "code",
   "execution_count": 8,
   "metadata": {},
   "outputs": [
    {
     "name": "stdout",
     "output_type": "stream",
     "text": [
      "['App', 'Category', 'Rating', 'Reviews', 'Size', 'Installs', 'Type', 'Price', 'Content Rating', 'Genres', 'Last Updated', 'Current Ver', 'Android Ver']\n"
     ]
    }
   ],
   "source": [
    "print(header)"
   ]
  },
  {
   "cell_type": "code",
   "execution_count": 9,
   "metadata": {},
   "outputs": [
    {
     "data": {
      "text/plain": [
       "12"
      ]
     },
     "execution_count": 9,
     "metadata": {},
     "output_type": "execute_result"
    }
   ],
   "source": [
    "len(['Life Made WI-Fi Touchscreen Photo Frame', '1.9', '19', '3.0M', '1,000+', 'Free', '0', 'Everyone', '', 'February 11, 2018', '1.0.19', '4.0 and up'])"
   ]
  },
  {
   "cell_type": "code",
   "execution_count": 10,
   "metadata": {},
   "outputs": [
    {
     "data": {
      "text/plain": [
       "13"
      ]
     },
     "execution_count": 10,
     "metadata": {},
     "output_type": "execute_result"
    }
   ],
   "source": [
    "len(['Photo Editor & Candy Camera & Grid & ScrapBook', 'ART_AND_DESIGN', '4.1', '159', '19M', '10,000+', 'Free', '0', 'Everyone', 'Art & Design', 'January 7, 2018', '1.0.0', '4.0.3 and up'])"
   ]
  },
  {
   "cell_type": "code",
   "execution_count": 11,
   "metadata": {},
   "outputs": [
    {
     "data": {
      "text/plain": [
       "10472"
      ]
     },
     "execution_count": 11,
     "metadata": {},
     "output_type": "execute_result"
    }
   ],
   "source": [
    "android.index(['Life Made WI-Fi Touchscreen Photo Frame', '1.9', '19', '3.0M', '1,000+', 'Free', '0', 'Everyone', '', 'February 11, 2018', '1.0.19', '4.0 and up'])"
   ]
  },
  {
   "cell_type": "code",
   "execution_count": 13,
   "metadata": {
    "collapsed": true
   },
   "outputs": [
    {
     "data": {
      "text/plain": [
       "['Life Made WI-Fi Touchscreen Photo Frame',\n",
       " '1.9',\n",
       " '19',\n",
       " '3.0M',\n",
       " '1,000+',\n",
       " 'Free',\n",
       " '0',\n",
       " 'Everyone',\n",
       " '',\n",
       " 'February 11, 2018',\n",
       " '1.0.19',\n",
       " '4.0 and up']"
      ]
     },
     "execution_count": 13,
     "metadata": {},
     "output_type": "execute_result"
    }
   ],
   "source": [
    "android[10472]"
   ]
  },
  {
   "cell_type": "code",
   "execution_count": 14,
   "metadata": {},
   "outputs": [
    {
     "data": {
      "text/plain": [
       "True"
      ]
     },
     "execution_count": 14,
     "metadata": {},
     "output_type": "execute_result"
    }
   ],
   "source": [
    "\"LIFESTYLE\" in lst"
   ]
  },
  {
   "cell_type": "code",
   "execution_count": 15,
   "metadata": {},
   "outputs": [
    {
     "data": {
      "text/plain": [
       "['Life Made WI-Fi Touchscreen Photo Frame',\n",
       " 'LIFESTYLE',\n",
       " '1.9',\n",
       " '19',\n",
       " '3.0M',\n",
       " '1,000+',\n",
       " 'Free',\n",
       " '0',\n",
       " 'Everyone',\n",
       " '',\n",
       " 'February 11, 2018',\n",
       " '1.0.19',\n",
       " '4.0 and up']"
      ]
     },
     "execution_count": 15,
     "metadata": {},
     "output_type": "execute_result"
    }
   ],
   "source": [
    "android[10472].insert(1,\"LIFESTYLE\")\n",
    "android[10472]"
   ]
  },
  {
   "cell_type": "code",
   "execution_count": 16,
   "metadata": {
    "collapsed": true
   },
   "outputs": [
    {
     "data": {
      "text/plain": [
       "['Art & Design',\n",
       " 'Art & Design;Pretend Play',\n",
       " 'Art & Design;Creativity',\n",
       " 'Art & Design;Action & Adventure',\n",
       " 'Auto & Vehicles',\n",
       " 'Beauty',\n",
       " 'Books & Reference',\n",
       " 'Business',\n",
       " 'Comics',\n",
       " 'Comics;Creativity',\n",
       " 'Communication',\n",
       " 'Dating',\n",
       " 'Education;Education',\n",
       " 'Education',\n",
       " 'Education;Creativity',\n",
       " 'Education;Music & Video',\n",
       " 'Education;Action & Adventure',\n",
       " 'Education;Pretend Play',\n",
       " 'Education;Brain Games',\n",
       " 'Entertainment',\n",
       " 'Entertainment;Music & Video',\n",
       " 'Entertainment;Brain Games',\n",
       " 'Entertainment;Creativity',\n",
       " 'Events',\n",
       " 'Finance',\n",
       " 'Food & Drink',\n",
       " 'Health & Fitness',\n",
       " 'House & Home',\n",
       " 'Libraries & Demo',\n",
       " 'Lifestyle',\n",
       " 'Lifestyle;Pretend Play',\n",
       " 'Adventure;Action & Adventure',\n",
       " 'Arcade',\n",
       " 'Casual',\n",
       " 'Card',\n",
       " 'Casual;Pretend Play',\n",
       " 'Action',\n",
       " 'Strategy',\n",
       " 'Puzzle',\n",
       " 'Sports',\n",
       " 'Music',\n",
       " 'Word',\n",
       " 'Racing',\n",
       " 'Casual;Creativity',\n",
       " 'Casual;Action & Adventure',\n",
       " 'Simulation',\n",
       " 'Adventure',\n",
       " 'Board',\n",
       " 'Trivia',\n",
       " 'Role Playing',\n",
       " 'Simulation;Education',\n",
       " 'Action;Action & Adventure',\n",
       " 'Casual;Brain Games',\n",
       " 'Simulation;Action & Adventure',\n",
       " 'Educational;Creativity',\n",
       " 'Puzzle;Brain Games',\n",
       " 'Educational;Education',\n",
       " 'Card;Brain Games',\n",
       " 'Educational;Brain Games',\n",
       " 'Educational;Pretend Play',\n",
       " 'Entertainment;Education',\n",
       " 'Casual;Education',\n",
       " 'Music;Music & Video',\n",
       " 'Racing;Action & Adventure',\n",
       " 'Arcade;Pretend Play',\n",
       " 'Role Playing;Action & Adventure',\n",
       " 'Simulation;Pretend Play',\n",
       " 'Puzzle;Creativity',\n",
       " 'Sports;Action & Adventure',\n",
       " 'Educational;Action & Adventure',\n",
       " 'Arcade;Action & Adventure',\n",
       " 'Entertainment;Action & Adventure',\n",
       " 'Puzzle;Action & Adventure',\n",
       " 'Strategy;Action & Adventure',\n",
       " 'Music & Audio;Music & Video',\n",
       " 'Health & Fitness;Education',\n",
       " 'Adventure;Education',\n",
       " 'Board;Brain Games',\n",
       " 'Board;Action & Adventure',\n",
       " 'Board;Pretend Play',\n",
       " 'Casual;Music & Video',\n",
       " 'Role Playing;Pretend Play',\n",
       " 'Entertainment;Pretend Play',\n",
       " 'Video Players & Editors;Creativity',\n",
       " 'Card;Action & Adventure',\n",
       " 'Medical',\n",
       " 'Social',\n",
       " 'Shopping',\n",
       " 'Photography',\n",
       " 'Travel & Local',\n",
       " 'Travel & Local;Action & Adventure',\n",
       " 'Tools',\n",
       " 'Tools;Education',\n",
       " 'Personalization',\n",
       " 'Productivity',\n",
       " 'Parenting',\n",
       " 'Parenting;Music & Video',\n",
       " 'Parenting;Education',\n",
       " 'Parenting;Brain Games',\n",
       " 'Weather',\n",
       " 'Video Players & Editors',\n",
       " 'Video Players & Editors;Music & Video',\n",
       " 'News & Magazines',\n",
       " 'Maps & Navigation',\n",
       " 'Health & Fitness;Action & Adventure',\n",
       " 'Educational',\n",
       " 'Casino',\n",
       " 'Adventure;Brain Games',\n",
       " 'Trivia;Education',\n",
       " 'Lifestyle;Education',\n",
       " 'Books & Reference;Creativity',\n",
       " 'Books & Reference;Education',\n",
       " 'Puzzle;Education',\n",
       " 'Role Playing;Education',\n",
       " 'Role Playing;Brain Games',\n",
       " 'Strategy;Education',\n",
       " 'Racing;Pretend Play',\n",
       " 'Communication;Creativity',\n",
       " '',\n",
       " 'Strategy;Creativity']"
      ]
     },
     "execution_count": 16,
     "metadata": {},
     "output_type": "execute_result"
    }
   ],
   "source": [
    "categories = []\n",
    "\n",
    "for i in android:\n",
    "    if i[-4] not in categories:\n",
    "        categories.append(i[-4])\n",
    "        \n",
    "categories"
   ]
  },
  {
   "cell_type": "code",
   "execution_count": 17,
   "metadata": {},
   "outputs": [
    {
     "name": "stdout",
     "output_type": "stream",
     "text": [
      "['Life Made WI-Fi Touchscreen Photo Frame', 'LIFESTYLE', '1.9', '19', '3.0M', '1,000+', 'Free', '0', 'Everyone', '', 'February 11, 2018', '1.0.19', '4.0 and up']\n"
     ]
    }
   ],
   "source": [
    "for i in android:\n",
    "    if i[-4] == '':\n",
    "        print(i)"
   ]
  },
  {
   "cell_type": "code",
   "execution_count": 18,
   "metadata": {},
   "outputs": [
    {
     "data": {
      "text/plain": [
       "10472"
      ]
     },
     "execution_count": 18,
     "metadata": {},
     "output_type": "execute_result"
    }
   ],
   "source": [
    "android.index(['Life Made WI-Fi Touchscreen Photo Frame', 'LIFESTYLE', '1.9', '19', '3.0M', '1,000+', 'Free', '0', 'Everyone', '', 'February 11, 2018', '1.0.19', '4.0 and up'])"
   ]
  },
  {
   "cell_type": "code",
   "execution_count": 20,
   "metadata": {
    "scrolled": true
   },
   "outputs": [
    {
     "name": "stdout",
     "output_type": "stream",
     "text": [
      "Lifestyle\n",
      "Lifestyle;Pretend Play\n",
      "Lifestyle;Education\n"
     ]
    }
   ],
   "source": [
    "for i in categories:\n",
    "    if \"Lifestyle\" in i:\n",
    "        print(i)"
   ]
  },
  {
   "cell_type": "code",
   "execution_count": 22,
   "metadata": {
    "collapsed": true
   },
   "outputs": [
    {
     "name": "stdout",
     "output_type": "stream",
     "text": [
      "['Dollhouse Decorating Games', 'LIFESTYLE', '4.1', '18968', '32M', '5,000,000+', 'Free', '0', 'Teen', 'Lifestyle', 'April 26, 2018', '5.1', '4.1 and up']\n",
      "['metroZONE', 'LIFESTYLE', '4.1', '47497', '34M', '10,000,000+', 'Free', '0', 'Everyone', 'Lifestyle', 'June 8, 2018', '5.3.0.54.7', '5.0 and up']\n",
      "['Easy Hair Style Design', 'LIFESTYLE', '4.3', '601', '5.1M', '100,000+', 'Free', '0', 'Everyone', 'Lifestyle', 'December 20, 2017', '1.0', '2.3 and up']\n",
      "['Black Wallpaper, AMOLED, Dark Background: Darkify', 'LIFESTYLE', '4.6', '51357', '80M', '5,000,000+', 'Free', '0', 'Everyone', 'Lifestyle', 'July 31, 2018', '8.0', '4.0 and up']\n",
      "['Girly Wallpapers Backgrounds', 'LIFESTYLE', '4.4', '13565', '3.3M', '1,000,000+', 'Free', '0', 'Everyone', 'Lifestyle', 'August 5, 2018', '2.5', '4.0 and up']\n",
      "['Chart - Myanmar Keyboard', 'LIFESTYLE', '4.4', '39364', '28M', '5,000,000+', 'Free', '0', 'Everyone', 'Lifestyle', 'July 17, 2018', '10.19', '4.0.3 and up']\n",
      "['Easy Makeup Tutorials', 'LIFESTYLE', '4.3', '7287', '5.0M', '1,000,000+', 'Free', '0', 'Everyone', 'Lifestyle', 'November 3, 2016', '1.0', '2.3 and up']\n",
      "['Horoscopes – Daily Zodiac Horoscope and Astrology', 'LIFESTYLE', '4.6', '161143', '11M', '10,000,000+', 'Free', '0', 'Everyone 10+', 'Lifestyle', 'June 25, 2018', '5.2.4(881)', '4.0.3 and up']\n",
      "['Entel', 'LIFESTYLE', '3.2', '16168', '55M', '1,000,000+', 'Free', '0', 'Everyone', 'Lifestyle', 'July 26, 2018', '2.2.9', '4.0.3 and up']\n",
      "['ZenUI Safeguard', 'LIFESTYLE', '4.5', '100', '7.1M', '1,000,000+', 'Free', '0', 'Everyone', 'Lifestyle', 'May 9, 2018', '1.0.0.21_180410', '7.0 - 7.1.1']\n",
      "['Live 4D Results ! (MY & SG)', 'LIFESTYLE', '4.6', '116079', '3.2M', '5,000,000+', 'Free', '0', 'Everyone', 'Lifestyle', 'May 20, 2018', '5.8', '2.3 and up']\n",
      "['Diary with lock', 'LIFESTYLE', '4.6', '815893', '4.4M', '10,000,000+', 'Free', '0', 'Everyone', 'Lifestyle', 'June 30, 2018', '4.90', '4.1 and up']\n",
      "['FOSSIL Q: DESIGN YOUR DIAL', 'LIFESTYLE', '4.3', '985', '16M', '500,000+', 'Free', '0', 'Everyone', 'Lifestyle', 'May 31, 2018', '3.7', '7.0 and up']\n",
      "['Telstra', 'LIFESTYLE', '3.0', '4260', '6.3M', '5,000,000+', 'Free', '0', 'Everyone', 'Lifestyle', 'August 8, 2017', '6.1', '2.3.3 and up']\n",
      "['Family Locator - GPS Tracker', 'LIFESTYLE', '4.4', '726074', '45M', '10,000,000+', 'Free', '0', 'Everyone', 'Lifestyle', 'August 2, 2018', '16.7.1', '4.4 and up']\n",
      "['Van Nien 2018 - Lich Van su & Lich Am', 'LIFESTYLE', '4.4', '3829', '23M', '1,000,000+', 'Free', '0', 'Everyone', 'Lifestyle', 'June 1, 2018', '3.9.3', '4.1 and up']\n",
      "['Safeway', 'LIFESTYLE', '4.3', '33572', '37M', '1,000,000+', 'Free', '0', 'Everyone', 'Lifestyle', 'August 2, 2018', '6.2.0', '4.4 and up']\n",
      "['HTC Speak', 'LIFESTYLE', '3.5', '6145', '13M', '10,000,000+', 'Free', '0', 'Everyone', 'Lifestyle', 'June 30, 2016', '8.00.775375', '5.0 and up']\n",
      "['Kawaii Easy Drawing : How to draw Step by Step', 'LIFESTYLE', '4.3', '34327', '8.1M', '5,000,000+', 'Free', '0', 'Everyone', 'Lifestyle', 'July 17, 2018', '2.5.1', '4.0 and up']\n",
      "['Tattoodo - Find your next tattoo', 'LIFESTYLE', '4.5', '7457', '13M', '1,000,000+', 'Free', '0', 'Teen', 'Lifestyle', 'August 3, 2018', '2.4.12-r244', '4.1 and up']\n",
      "['H&M', 'LIFESTYLE', '3.7', '41941', '14M', '10,000,000+', 'Free', '0', 'Everyone', 'Lifestyle', 'July 30, 2018', '9.6.3', '4.4 and up']\n",
      "['Samsung+', 'LIFESTYLE', '4.5', '82145', '30M', '50,000,000+', 'Free', '0', 'Everyone', 'Lifestyle', 'July 5, 2018', '10.19.0.0', '4.4 and up']\n",
      "['Anime Avatar Creator: Make Your Own Avatar', 'LIFESTYLE', '4.2', '10944', '36M', '1,000,000+', 'Free', '0', 'Everyone', 'Lifestyle', 'June 15, 2018', '2.0', '4.1 and up']\n",
      "['Beautiful Design Birthday Cake', 'LIFESTYLE', '4.3', '665', '3.0M', '500,000+', 'Free', '0', 'Everyone', 'Lifestyle', 'August 4, 2018', '2.0', '2.3 and up']\n",
      "['Pronunciation and know the name of the caller from his number', 'LIFESTYLE', '4.6', '2167', '1.4M', '500,000+', 'Free', '0', 'Everyone', 'Lifestyle', 'January 7, 2018', '1.0', '2.3 and up']\n",
      "['Super Slime Simulator - Satisfying Slime App', 'LIFESTYLE', '4.5', '53652', '39M', '1,000,000+', 'Free', '0', 'Everyone', 'Lifestyle', 'August 5, 2018', '2.15', '5.0 and up']\n",
      "['Caf - My Account', 'LIFESTYLE', '3.9', '18961', '1.8M', '5,000,000+', 'Free', '0', 'Everyone', 'Lifestyle', 'September 24, 2015', '1.1.1', '2.3 and up']\n",
      "['H Pack', 'LIFESTYLE', '4.3', '9412', '1.7M', '1,000,000+', 'Free', '0', 'Everyone', 'Lifestyle', 'December 17, 2016', '1.5.1', '4.0.3 and up']\n",
      "['Family convenience store FamilyMart', 'LIFESTYLE', '3.3', '9663', '19M', '1,000,000+', 'Free', '0', 'Everyone', 'Lifestyle', 'July 16, 2018', 'Version:6.97', '4.4 and up']\n",
      "['သိင်္ Astrology - Min Thein Kha BayDin', 'LIFESTYLE', '4.7', '2225', '15M', '100,000+', 'Free', '0', 'Everyone', 'Lifestyle', 'July 26, 2018', '4.2.1', '4.0.3 and up']\n",
      "['w UN map', 'LIFESTYLE', '4.2', '23164', '10.0M', '1,000,000+', 'Free', '0', 'Mature 17+', 'Lifestyle', 'July 24, 2018', '2.6', '5.0 and up']\n",
      "['Official Matsumoto Kiyoshi application', 'LIFESTYLE', '3.2', '3031', '2.7M', '1,000,000+', 'Free', '0', 'Everyone', 'Lifestyle', 'July 3, 2018', '1.5.3', '4.0 and up']\n",
      "['Galaxy Gift', 'LIFESTYLE', '4.4', '95557', '16M', '10,000,000+', 'Free', '0', 'Everyone', 'Lifestyle', 'July 23, 2018', '7.0.8', '4.0.3 and up']\n",
      "['PASS by KT (formerly KT certified)', 'LIFESTYLE', '3.5', '7869', '21M', '1,000,000+', 'Free', '0', 'Everyone', 'Lifestyle', 'August 1, 2018', '02.00.06', '4.4 and up']\n",
      "['Safety stepping stone', 'LIFESTYLE', '3.7', '4212', '20M', '1,000,000+', 'Free', '0', 'Everyone', 'Lifestyle', 'July 25, 2018', '3.4.5', '2.3 and up']\n",
      "['Rate Guide Bill Letter', 'LIFESTYLE', '3.8', '17368', '14M', '10,000,000+', 'Free', '0', 'Everyone', 'Lifestyle', 'June 27, 2018', '5.1.3', '4.0 and up']\n",
      "['US Mission - buy gourmet movie KTV', 'LIFESTYLE', '3.8', '6554', '76M', '500,000+', 'Free', '0', 'Teen', 'Lifestyle', 'June 20, 2018', '9.4.2', '4.1 and up']\n",
      "['OK cashbag [point of pleasure]', 'LIFESTYLE', '3.7', '33264', '18M', '10,000,000+', 'Free', '0', 'Everyone', 'Lifestyle', 'June 15, 2018', '6.2.1', '4.0 and up']\n",
      "['JOANN - Crafts & Coupons', 'LIFESTYLE', '4.6', '34782', '12M', '1,000,000+', 'Free', '0', 'Everyone', 'Lifestyle', 'June 22, 2018', '5.2.2', '4.3 and up']\n",
      "['MK eCatalog', 'LIFESTYLE', '4.0', '6676', '6.2M', '1,000,000+', 'Free', '0', 'Everyone', 'Lifestyle', 'February 21, 2018', '3.0', '4.2 and up']\n",
      "['Vaniday - Beauty Booking App', 'LIFESTYLE', '3.6', '1067', 'Varies with device', '100,000+', 'Free', '0', 'Everyone', 'Lifestyle', 'March 20, 2018', '3.8.15', '4.1 and up']\n",
      "['Fashion in Vogue', 'LIFESTYLE', '3.8', '1797', '6.8M', '100,000+', 'Free', '0', 'Everyone', 'Lifestyle', 'September 27, 2016', '2.0', '4.3 and up']\n",
      "['Mirror', 'LIFESTYLE', '4.1', '367505', 'Varies with device', '10,000,000+', 'Free', '0', 'Everyone', 'Lifestyle', 'July 25, 2018', 'Varies with device', 'Varies with device']\n",
      "['StyleSeat', 'LIFESTYLE', '4.7', '20304', '24M', '500,000+', 'Free', '0', 'Everyone', 'Lifestyle', 'July 31, 2018', '4.35', '4.0.3 and up']\n",
      "['Wedding Countdown Widget', 'LIFESTYLE', '3.9', '7376', '19M', '1,000,000+', 'Free', '0', 'Everyone', 'Lifestyle', 'January 11, 2018', '5.2.2018010801-1', '4.1 and up']\n",
      "['My Day - Countdown Calendar 🗓️', 'LIFESTYLE', '4.1', '49147', '13M', '1,000,000+', 'Free', '0', 'Everyone', 'Lifestyle', 'May 7, 2018', '2.9.5', '4.1 and up']\n",
      "['justWink Greeting Cards', 'LIFESTYLE', '4.6', '69177', '15M', '1,000,000+', 'Free', '0', 'Teen', 'Lifestyle', 'August 2, 2017', '2.7.3', '4.4 and up']\n",
      "['Wedding LookBook by The Knot', 'LIFESTYLE', '4.2', '3448', '13M', '100,000+', 'Free', '0', 'Everyone', 'Lifestyle', 'July 9, 2018', '3.9.5', '4.0.3 and up']\n",
      "['Vaniday - Beauty Booking App', 'LIFESTYLE', '3.6', '1067', 'Varies with device', '100,000+', 'Free', '0', 'Everyone', 'Lifestyle', 'March 20, 2018', '3.8.15', '4.1 and up']\n",
      "['Big Days - Events Countdown', 'LIFESTYLE', '4.6', '39724', 'Varies with device', '1,000,000+', 'Free', '0', 'Everyone', 'Lifestyle', 'June 29, 2018', 'Varies with device', 'Varies with device']\n",
      "['Wedding Planner by WeddingWire - Venues, Checklist', 'LIFESTYLE', '4.2', '3788', '44M', '1,000,000+', 'Free', '0', 'Everyone', 'Lifestyle', 'July 24, 2018', '8.5.1', '5.0 and up']\n",
      "['Been Together (Ad) - D-day', 'LIFESTYLE', '4.4', '95736', 'Varies with device', '10,000,000+', 'Free', '0', 'Everyone', 'Lifestyle', 'July 30, 2018', 'Varies with device', 'Varies with device']\n",
      "['WedMeGood - Wedding Planner', 'LIFESTYLE', '4.6', '1658', '9.7M', '100,000+', 'Free', '0', 'Everyone', 'Lifestyle', 'July 31, 2018', '2.0.9', '4.4 and up']\n",
      "['StyleSeat', 'LIFESTYLE', '4.7', '20304', '24M', '500,000+', 'Free', '0', 'Everyone', 'Lifestyle', 'July 31, 2018', '4.35', '4.0.3 and up']\n",
      "['DIY Garden Ideas', 'LIFESTYLE', '4.1', '3309', '13M', '500,000+', 'Free', '0', 'Everyone', 'Lifestyle', 'August 5, 2018', '10.0', '4.0 and up']\n",
      "['Brit + Co', 'LIFESTYLE', '3.9', '987', '4.5M', '10,000+', 'Free', '0', 'Everyone', 'Lifestyle', 'August 29, 2017', '2.0.4', '4.0 and up']\n",
      "['Creative Ideas - DIY & Craft', 'LIFESTYLE', '4.0', '5208', '4.5M', '100,000+', 'Free', '0', 'Teen', 'Lifestyle', 'November 23, 2017', '1.37', '4.0 and up']\n",
      "['Homestyler Interior Design & Decorating Ideas', 'LIFESTYLE', '4.1', '78298', '29M', '5,000,000+', 'Free', '0', 'Everyone', 'Lifestyle', 'August 2, 2018', '3.1.2.1', '4.1 and up']\n",
      "['JOANN - Crafts & Coupons', 'LIFESTYLE', '4.6', '34802', '12M', '1,000,000+', 'Free', '0', 'Everyone', 'Lifestyle', 'June 22, 2018', '5.2.2', '4.3 and up']\n",
      "['Wheretoget: Shop in style', 'LIFESTYLE', '4.1', '6808', '12M', '500,000+', 'Free', '0', 'Teen', 'Lifestyle', 'June 5, 2017', '3.2.0', '4.1 and up']\n",
      "['My Dressing - Fashion closet', 'LIFESTYLE', '4.1', '12452', 'Varies with device', '500,000+', 'Free', '0', 'Everyone', 'Lifestyle', 'January 26, 2017', 'Varies with device', 'Varies with device']\n",
      "['Chictopia', 'LIFESTYLE', '4.1', '360', '4.6M', '10,000+', 'Free', '0', 'Everyone', 'Lifestyle', 'April 30, 2014', '1.6.2', '2.2 and up']\n",
      "['Scarf Fashion Designer', 'LIFESTYLE', '4.4', '16637', '10M', '1,000,000+', 'Free', '0', 'Everyone', 'Lifestyle', 'June 18, 2017', '1.8', '2.3 and up']\n",
      "['Fashion in Vogue', 'LIFESTYLE', '3.8', '1797', '6.8M', '100,000+', 'Free', '0', 'Everyone', 'Lifestyle', 'September 27, 2016', '2.0', '4.3 and up']\n",
      "['Zara', 'LIFESTYLE', '4.3', '95904', '33M', '10,000,000+', 'Free', '0', 'Everyone', 'Lifestyle', 'July 30, 2018', '4.1.0', '4.1 and up']\n",
      "['Wheretoget: Shop in style', 'LIFESTYLE', '4.1', '6808', '12M', '500,000+', 'Free', '0', 'Teen', 'Lifestyle', 'June 5, 2017', '3.2.0', '4.1 and up']\n",
      "['My Dressing - Fashion closet', 'LIFESTYLE', '4.1', '12452', 'Varies with device', '500,000+', 'Free', '0', 'Everyone', 'Lifestyle', 'January 26, 2017', 'Varies with device', 'Varies with device']\n",
      "['Chictopia', 'LIFESTYLE', '4.1', '360', '4.6M', '10,000+', 'Free', '0', 'Everyone', 'Lifestyle', 'April 30, 2014', '1.6.2', '2.2 and up']\n",
      "['Scarf Fashion Designer', 'LIFESTYLE', '4.4', '16637', '10M', '1,000,000+', 'Free', '0', 'Everyone', 'Lifestyle', 'June 18, 2017', '1.8', '2.3 and up']\n",
      "['Fashion in Vogue', 'LIFESTYLE', '3.8', '1797', '6.8M', '100,000+', 'Free', '0', 'Everyone', 'Lifestyle', 'September 27, 2016', '2.0', '4.3 and up']\n",
      "['Zara', 'LIFESTYLE', '4.3', '95905', '33M', '10,000,000+', 'Free', '0', 'Everyone', 'Lifestyle', 'July 30, 2018', '4.1.0', '4.1 and up']\n",
      "['Real Estate by Movoto', 'LIFESTYLE', '4.4', '3114', '13M', '100,000+', 'Free', '0', 'Everyone', 'Lifestyle', 'February 20, 2018', '6.1', '4.0.3 and up']\n",
      "['Etta Homes', 'LIFESTYLE', '4.2', '220', '15M', '50,000+', 'Free', '0', 'Everyone', 'Lifestyle', 'July 26, 2018', '9.1.0', '5.0 and up']\n",
      "['Houlihan Lawrence', 'LIFESTYLE', '4.4', '33', '23M', '5,000+', 'Free', '0', 'Everyone', 'Lifestyle', 'October 12, 2017', '3.9.5', '4.2 and up']\n",
      "['Home Scouting® MLS Mobile', 'LIFESTYLE', '4.3', '1533', '7.7M', '100,000+', 'Free', '0', 'Everyone', 'Lifestyle', 'September 27, 2016', '2.2.6', '2.2 and up']\n",
      "['Housing-Real Estate & Property', 'LIFESTYLE', '4.1', '28301', 'Varies with device', '1,000,000+', 'Free', '0', 'Everyone', 'Lifestyle', 'July 13, 2018', '12.1.0', '4.1 and up']\n",
      "['ZipRealty Real Estate & Homes', 'LIFESTYLE', '4.0', '3937', '15M', '100,000+', 'Free', '0', 'Everyone', 'Lifestyle', 'July 27, 2018', '8.3.3', '4.4 and up']\n",
      "[\"Sotheby's International Realty\", 'LIFESTYLE', '4.2', '894', '25M', '50,000+', 'Free', '0', 'Everyone', 'Lifestyle', 'April 9, 2018', '5.600.42', '4.0.3 and up']\n",
      "['Zoopla Property Search UK - Home to buy & rent', 'LIFESTYLE', '4.1', '21195', 'Varies with device', '1,000,000+', 'Free', '0', 'Everyone', 'Lifestyle', 'June 22, 2018', 'Varies with device', 'Varies with device']\n",
      "['Neighborhoods & Apartments', 'LIFESTYLE', '3.9', '2042', '3.0M', '100,000+', 'Free', '0', 'Everyone', 'Lifestyle', 'August 28, 2015', '3.1.6', '4.0 and up']\n",
      "['Keller Williams Real Estate', 'LIFESTYLE', '4.4', '13213', '22M', '1,000,000+', 'Free', '0', 'Everyone', 'Lifestyle', 'March 28, 2018', '5.800.04', '4.0.3 and up']\n",
      "['Relax Rain ~ Rain Sounds', 'LIFESTYLE', '4.6', '118034', 'Varies with device', '5,000,000+', 'Free', '0', 'Everyone', 'Lifestyle', 'August 2, 2018', 'Varies with device', 'Varies with device']\n",
      "['Relax Ocean ~ Nature Sounds', 'LIFESTYLE', '4.5', '9464', 'Varies with device', '500,000+', 'Free', '0', 'Everyone', 'Lifestyle', 'July 18, 2017', 'Varies with device', 'Varies with device']\n",
      "['Bed Time Fan - White Noise Sleep Sounds', 'LIFESTYLE', '4.5', '10097', '7.5M', '500,000+', 'Free', '0', 'Everyone', 'Lifestyle', 'April 26, 2018', '1.2', '4.0 and up']\n",
      "['Nature Sounds', 'LIFESTYLE', '4.8', '28588', '24M', '1,000,000+', 'Free', '0', 'Everyone', 'Lifestyle', 'March 1, 2018', '3.1.8', '4.0.3 and up']\n",
      "['SleepyTime: Bedtime Calculator', 'LIFESTYLE', '4.4', '19621', 'Varies with device', '500,000+', 'Free', '0', 'Everyone', 'Lifestyle', 'February 27, 2016', 'Varies with device', 'Varies with device']\n",
      "['White Noise Baby', 'LIFESTYLE', '4.5', '10544', '44M', '1,000,000+', 'Free', '0', 'Everyone', 'Lifestyle', 'June 18, 2018', '5.3', '4.1 and up']\n",
      "['White Noise ~ Sleeping Sounds', 'LIFESTYLE', '4.5', '4427', 'Varies with device', '100,000+', 'Free', '0', 'Everyone', 'Lifestyle', 'June 23, 2017', 'Varies with device', 'Varies with device']\n",
      "['Journey - Diary, Journal', 'LIFESTYLE', '4.6', '50338', 'Varies with device', '1,000,000+', 'Free', '0', 'Everyone', 'Lifestyle', 'July 23, 2018', 'Varies with device', 'Varies with device']\n",
      "['7 Day Food Journal Challenge', 'LIFESTYLE', '4.5', '3346', '14M', '100,000+', 'Free', '0', 'Teen', 'Lifestyle', 'March 8, 2017', '3.6.3', '4.0.3 and up']\n",
      "['B-Dubs®', 'LIFESTYLE', '3.1', '3042', 'Varies with device', '500,000+', 'Free', '0', 'Everyone', 'Lifestyle', 'July 5, 2018', 'Varies with device', 'Varies with device']\n",
      "['Diary with lock', 'LIFESTYLE', '4.6', '815280', '4.4M', '10,000,000+', 'Free', '0', 'Everyone', 'Lifestyle', 'June 30, 2018', '4.90', '4.1 and up']\n",
      "['C by GE', 'LIFESTYLE', '1.7', '686', '6.6M', '10,000+', 'Free', '0', 'Everyone', 'Lifestyle', 'July 11, 2018', '4.1.07', '4.3 and up']\n",
      "['CPlus for Craigslist - Officially Licensed', 'LIFESTYLE', '4.5', '8096', '16M', '1,000,000+', 'Free', '0', 'Mature 17+', 'Lifestyle', 'August 3, 2018', '1.6.4', '4.1 and up']\n",
      "['Community by C Space', 'LIFESTYLE', '4.7', '707', '26M', '5,000+', 'Free', '0', 'Everyone', 'Lifestyle', 'July 17, 2018', '2.2.0', '4.4 and up']\n",
      "['Moto LED for Moto X & E [Root]', 'LIFESTYLE', '3.4', '4082', '318k', '500,000+', 'Free', '0', 'Everyone', 'Lifestyle', 'October 16, 2014', '1.0', '4.2 and up']\n",
      "[\"f'east\", 'LIFESTYLE', '3.8', '38', '4.8M', '5,000+', 'Free', '0', 'Everyone', 'Lifestyle', 'April 17, 2018', '2.6.3', '4.0 and up']\n",
      "['G-SHOCK+', 'LIFESTYLE', '3.0', '4710', 'Varies with device', '100,000+', 'Free', '0', 'Everyone', 'Lifestyle', 'November 1, 2017', 'Varies with device', 'Varies with device']\n",
      "['G-SHOCK Connected', 'LIFESTYLE', '3.0', '543', '94M', '50,000+', 'Free', '0', 'Everyone', 'Lifestyle', 'July 2, 2018', '1.4.1(0629A)', '5.0 and up']\n",
      "['G-Homa', 'LIFESTYLE', '3.1', '777', '14M', '50,000+', 'Free', '0', 'Everyone', 'Lifestyle', 'May 4, 2018', '3.0.20', '4.0 and up']\n",
      "['A41 WatchFace for Android Wear Smart Watch', 'LIFESTYLE', '4.5', '231', '5.7M', '5,000+', 'Paid', '$0.99', 'Everyone', 'Lifestyle', 'December 24, 2017', '7.0.1', '4.3 and up']\n",
      "['H&M', 'LIFESTYLE', '3.7', '41917', '14M', '10,000,000+', 'Free', '0', 'Everyone', 'Lifestyle', 'July 30, 2018', '9.6.3', '4.4 and up']\n",
      "['H*nest Meditation', 'LIFESTYLE', '4.9', '145', '48M', '5,000+', 'Paid', '$1.99', 'Mature 17+', 'Lifestyle', 'April 7, 2016', '1.0', '4.0.3 and up']\n",
      "['Niche: College, K-12, and Neighborhood Search', 'LIFESTYLE', '4.0', '42', '26M', '5,000+', 'Free', '0', 'Everyone', 'Lifestyle', 'July 6, 2018', '1.0.1', '4.4 and up']\n",
      "['L.POINT - 엘포인트 [ 포인트, 멤버십, 적립, 사용, 모바일 카드, 쿠폰, 롯데]', 'LIFESTYLE', '4.0', '45224', '49M', '5,000,000+', 'Free', '0', 'Everyone', 'Lifestyle', 'August 1, 2018', '6.5.1', '4.1 and up']\n",
      "[\"💎 I'm rich\", 'LIFESTYLE', '3.8', '718', '26M', '10,000+', 'Paid', '$399.99', 'Everyone', 'Lifestyle', 'March 11, 2018', '1.0.0', '4.4 and up']\n",
      "[\"I'm Rich - Trump Edition\", 'LIFESTYLE', '3.6', '275', '7.3M', '10,000+', 'Paid', '$400.00', 'Everyone', 'Lifestyle', 'May 3, 2018', '1.0.1', '4.1 and up']\n",
      "[\"Cook'n Recipe App\", 'LIFESTYLE', '3.4', '552', '22M', '10,000+', 'Free', '0', 'Everyone', 'Lifestyle', 'August 2, 2018', '3.0.4', '4.4 and up']\n",
      "[\"Eat'n Park\", 'LIFESTYLE', '3.5', '292', '20M', '50,000+', 'Free', '0', 'Everyone', 'Lifestyle', 'December 18, 2017', '3.1.3', '4.0 and up']\n",
      "[\"Band O'Clock\", 'LIFESTYLE', '3.8', '1140', '746k', '100,000+', 'Free', '0', 'Everyone', 'Lifestyle', 'December 3, 2011', '0.11', '2.1 and up']\n",
      "['Fossil Q', 'LIFESTYLE', '2.9', '6627', '18M', '500,000+', 'Free', '0', 'Everyone', 'Lifestyle', 'August 1, 2018', '2.5.1', '4.4 and up']\n",
      "['Fossil Q Legacy', 'LIFESTYLE', '2.6', '680', '60M', '50,000+', 'Free', '0', 'Everyone', 'Lifestyle', 'September 19, 2017', '1.0.1', '4.4 and up']\n",
      "['Type S LED', 'LIFESTYLE', '3.5', '628', 'Varies with device', '100,000+', 'Free', '0', 'Everyone', 'Lifestyle', 'August 14, 2017', 'Varies with device', '4.3 and up']\n",
      "['Tinder', 'LIFESTYLE', '4.0', '2789775', '68M', '100,000,000+', 'Free', '0', 'Mature 17+', 'Lifestyle', 'August 2, 2018', '9.5.0', '4.4 and up']\n",
      "['AT&T Digital Life', 'LIFESTYLE', '4.1', '10067', 'Varies with device', '1,000,000+', 'Free', '0', 'Everyone', 'Lifestyle', 'December 7, 2017', 'Varies with device', '4.3 and up']\n",
      "['AT&T Smart Limits℠', 'LIFESTYLE', '3.8', '2300', 'Varies with device', '10,000,000+', 'Free', '0', 'Everyone', 'Lifestyle', 'March 7, 2017', 'Varies with device', 'Varies with device']\n",
      "['T-Mobile Tuesdays', 'LIFESTYLE', '4.0', '53144', '21M', '5,000,000+', 'Free', '0', 'Everyone', 'Lifestyle', 'July 13, 2018', '4.8.0', '5.0 and up']\n",
      "['T-shirt design - Snaptee', 'LIFESTYLE', '4.2', '29756', '45M', '1,000,000+', 'Free', '0', 'Everyone', 'Lifestyle', 'July 19, 2018', '1.1.6.1', '4.1 and up']\n",
      "['Kicker U', 'LIFESTYLE', '4.1', '124', '37M', '5,000+', 'Paid', '$3.99', 'Everyone', 'Lifestyle', 'June 13, 2018', '3.04', '4.0.3 and up']\n",
      "['Kicker U Lite', 'LIFESTYLE', '4.1', '438', '26M', '50,000+', 'Free', '0', 'Everyone', 'Lifestyle', 'September 27, 2013', '2.0.0', '2.1 and up']\n",
      "['Alarmy (Sleep If U Can) - Pro', 'LIFESTYLE', '4.8', '10249', 'Varies with device', '10,000+', 'Paid', '$2.49', 'Everyone', 'Lifestyle', 'July 30, 2018', 'Varies with device', 'Varies with device']\n",
      "['Be U Salons Hair-Beauty Deals In Delhi & Bangalore', 'LIFESTYLE', '4.0', '889', '16M', '100,000+', 'Free', '0', 'Everyone', 'Lifestyle', 'August 2, 2018', '1.1.4.38', '4.2 and up']\n",
      "['WowBox', 'LIFESTYLE', '4.4', '101957', '8.2M', '5,000,000+', 'Free', '0', 'Everyone', 'Lifestyle', 'April 23, 2018', '2.11.0', '4.0.3 and up']\n",
      "['PLAYBULB X', 'LIFESTYLE', '2.9', '2160', '15M', '100,000+', 'Free', '0', 'Everyone', 'Lifestyle', 'June 25, 2018', '1.6.5', '4.3 and up']\n",
      "['Z App', 'LIFESTYLE', '2.8', '405', '25M', '50,000+', 'Free', '0', 'Everyone', 'Lifestyle', 'June 22, 2018', '4.2.45', '4.4 and up']\n",
      "['Best Blood Type AB: Food Diet & Personality', 'LIFESTYLE', 'NaN', '3', '37M', '1,000+', 'Free', '0', 'Everyone', 'Lifestyle', 'July 11, 2018', '1.2', '4.0.3 and up']\n",
      "['Kenmore Smart AC', 'LIFESTYLE', '1.9', '71', '24M', '5,000+', 'Free', '0', 'Everyone', 'Lifestyle', 'May 8, 2017', '1.0.11', '4.4 and up']\n",
      "['LG AC Smart Diagnosis', 'LIFESTYLE', '3.4', '377', '6.1M', '100,000+', 'Free', '0', 'Everyone', 'Lifestyle', 'March 21, 2017', '1.1.4', '4.0 and up']\n",
      "['All Type Ac Repair & Services', 'LIFESTYLE', '4.3', '45', '2.2M', '10,000+', 'Free', '0', 'Everyone', 'Lifestyle', 'December 26, 2017', '0.8', '4.1 and up']\n",
      "['Digital Clock : Simple, Tiny, Ad-free Desk Clock.', 'LIFESTYLE', '4.4', '317', '74k', '50,000+', 'Free', '0', 'Everyone', 'Lifestyle', 'December 21, 2016', '3.0', '2.3 and up']\n",
      "['Tafsiir Quraan MP3 Af Soomaali Quraanka Kariimka', 'LIFESTYLE', '5.0', '7', '3.4M', '1,000+', 'Free', '0', 'Everyone', 'Lifestyle', 'June 9, 2018', '1.4', '4.0 and up']\n",
      "[\"What's Up\", 'LIFESTYLE', '4.1', '23453', '10M', '1,000,000+', 'Free', '0', 'Everyone', 'Lifestyle', 'October 26, 2017', '2.0', '4.0 and up']\n",
      "['Elim AG', 'LIFESTYLE', 'NaN', '7', 'Varies with device', '100+', 'Free', '0', 'Everyone', 'Lifestyle', 'March 31, 2017', '1.0', '4.2 and up']\n",
      "['Lakeside AG Moultrie', 'LIFESTYLE', '5.0', '3', '8.6M', '50+', 'Free', '0', 'Everyone', 'Lifestyle', 'May 23, 2017', '1.0', '4.1 and up']\n",
      "['DREAM-e: Dream Analysis A.I.', 'LIFESTYLE', '3.8', '89', '939k', '10,000+', 'Free', '0', 'Everyone', 'Lifestyle', 'February 18, 2013', '2.3', '2.1 and up']\n",
      "[\"AJ Men's Grooming\", 'LIFESTYLE', '5.0', '2', '22M', '100+', 'Free', '0', 'Everyone', 'Lifestyle', 'August 28, 2017', '5', '4.1 and up']\n",
      "['AJ and Alyssa', 'LIFESTYLE', 'NaN', '0', '475k', '100+', 'Free', '0', 'Everyone', 'Lifestyle', 'June 1, 2017', '1.0.0', '2.3.3 and up']\n",
      "['A.J. Green Wallpapers 4 Fans', 'LIFESTYLE', 'NaN', '0', '4.3M', '5+', 'Free', '0', 'Everyone', 'Lifestyle', 'May 26, 2018', '1.0', '4.0 and up']\n",
      "['Book of AK-47', 'LIFESTYLE', '3.8', '6', '3.4M', '500+', 'Free', '0', 'Everyone', 'Lifestyle', 'March 1, 2016', '1.0.2', '4.0.3 and up']\n",
      "['Al-Moazin Lite (Prayer Times)', 'LIFESTYLE', '4.6', '284670', 'Varies with device', '10,000,000+', 'Free', '0', 'Everyone', 'Lifestyle', 'July 24, 2018', 'Varies with device', 'Varies with device']\n",
      "['12 Step Meditations & Sober Prayers AA NA AL-ANON', 'LIFESTYLE', '4.7', '759', '15M', '50,000+', 'Free', '0', 'Everyone 10+', 'Lifestyle', 'January 22, 2018', '1.4.5', '4.1 and up']\n",
      "['Taha Al Junaid Quran Mp3', 'LIFESTYLE', '4.6', '518', '4.2M', '50,000+', 'Free', '0', 'Everyone', 'Lifestyle', 'March 25, 2017', '1.1', '2.3.3 and up']\n",
      "['Muslim Pro - Prayer Times, Azan, Quran & Qibla', 'LIFESTYLE', '4.7', '1133393', 'Varies with device', '10,000,000+', 'Free', '0', 'Everyone', 'Lifestyle', 'July 3, 2018', 'Varies with device', 'Varies with device']\n",
      "['I am rich', 'LIFESTYLE', '3.8', '3547', '1.8M', '100,000+', 'Paid', '$399.99', 'Everyone', 'Lifestyle', 'January 12, 2018', '2.0', '4.0.3 and up']\n",
      "['I am rich VIP', 'LIFESTYLE', '3.8', '411', '2.6M', '10,000+', 'Paid', '$299.99', 'Everyone', 'Lifestyle', 'July 21, 2018', '1.1.1', '4.3 and up']\n",
      "['I am extremely Rich', 'LIFESTYLE', '2.9', '41', '2.9M', '1,000+', 'Paid', '$379.99', 'Everyone', 'Lifestyle', 'July 1, 2018', '1.0', '4.0 and up']\n",
      "['I am Rich Person', 'LIFESTYLE', '4.2', '134', '1.8M', '1,000+', 'Paid', '$37.99', 'Everyone', 'Lifestyle', 'July 18, 2017', '1.0', '4.0.3 and up']\n",
      "['I am Millionaire - Richest guy in the town', 'LIFESTYLE', '3.6', '126', '1.4M', '5,000+', 'Paid', '$2.49', 'Everyone', 'Lifestyle', 'June 22, 2018', '8', '4.1 and up']\n",
      "['Trell: An app for Explorers | Best Wanderlust App', 'LIFESTYLE', '4.6', '8004', '34M', '100,000+', 'Free', '0', 'Teen', 'Lifestyle', 'July 31, 2018', '3.4.8', '4.1 and up']\n",
      "['Diary with lock password', 'LIFESTYLE', '4.3', '179139', '9.7M', '5,000,000+', 'Free', '0', 'Everyone', 'Lifestyle', 'November 1, 2017', '3.5.3', '4.0.3 and up']\n",
      "['The PCH App', 'LIFESTYLE', '4.5', '234971', '81M', '1,000,000+', 'Free', '0', 'Everyone', 'Lifestyle', 'July 25, 2018', '2.8.7.78579', '4.4 and up']\n",
      "['Access Point Finder', 'LIFESTYLE', '4.0', '22', '2.5M', '10,000+', 'Free', '0', 'Everyone', 'Lifestyle', 'September 6, 2016', '1.0', '3.0 and up']\n",
      "['SleepCloud Backup for Sleep as Android', 'LIFESTYLE', '4.2', '2563', 'Varies with device', '100,000+', 'Free', '0', 'Everyone', 'Lifestyle', 'June 26, 2018', 'Varies with device', 'Varies with device']\n",
      "['Sleep as Android Unlock', 'LIFESTYLE', '4.5', '23966', '872k', '1,000,000+', 'Paid', '$5.99', 'Everyone', 'Lifestyle', 'June 27, 2018', '20180608', '4.0 and up']\n",
      "['Sleep as Android: Sleep cycle tracker, smart alarm', 'LIFESTYLE', '4.3', '246201', 'Varies with device', '10,000,000+', 'Free', '0', 'Everyone', 'Lifestyle', 'July 23, 2018', 'Varies with device', 'Varies with device']\n",
      "['CAPTCHA Pack for Sleep as Android', 'LIFESTYLE', '4.0', '448', '3.1M', '50,000+', 'Free', '0', 'Everyone', 'Lifestyle', 'June 8, 2018', '1.3', '2.3 and up']\n",
      "['Sleep as Microsoft Band Add-On', 'LIFESTYLE', '3.5', '28', '121k', '1,000+', 'Free', '0', 'Everyone', 'Lifestyle', 'January 23, 2016', '1.0.0.8', '4.2 and up']\n",
      "['Timely Alarm Clock', 'LIFESTYLE', '4.3', '258717', '9.4M', '10,000,000+', 'Free', '0', 'Everyone', 'Lifestyle', 'September 25, 2017', '1.3.1', '4.0.3 and up']\n",
      "['Alarm Clock Plus★', 'LIFESTYLE', '4.4', '155693', 'Varies with device', '5,000,000+', 'Free', '0', 'Everyone', 'Lifestyle', 'September 30, 2014', 'Varies with device', 'Varies with device']\n",
      "['Au Pair Legend', 'LIFESTYLE', '4.4', '28', '8.8M', '1,000+', 'Free', '0', 'Everyone', 'Lifestyle', 'July 19, 2018', '3.5', '5.0 and up']\n",
      "['view.com.au - Buy, Rent or Research Real Estate', 'LIFESTYLE', '3.1', '212', '12M', '50,000+', 'Free', '0', 'Everyone', 'Lifestyle', 'September 26, 2017', '2.1.4', '4.1 and up']\n",
      "['Neuvaine au Saint-Esprit', 'LIFESTYLE', '4.7', '57', '5.8M', '10,000+', 'Free', '0', 'Everyone', 'Lifestyle', 'September 18, 2017', '1.1', '4.0 and up']\n",
      "['Neuvaines et prières au Coeur Sacré de Jésus', 'LIFESTYLE', 'NaN', '17', '3.7M', '5,000+', 'Free', '0', 'Everyone', 'Lifestyle', 'September 5, 2017', '1.1', '4.0 and up']\n",
      "['Au Rubis les bijoutiers', 'LIFESTYLE', 'NaN', '0', '10M', '100+', 'Free', '0', 'Everyone', 'Lifestyle', 'July 24, 2018', '1.00.33', '4.1 and up']\n",
      "['AV MAX', 'LIFESTYLE', '4.1', '9', '8.7M', '1,000+', 'Free', '0', 'Everyone', 'Lifestyle', 'July 18, 2018', '7.2.2', '4.1 and up']\n",
      "['MyAV Remote for Denon & Marantz AV Receivers', 'LIFESTYLE', '3.8', '250', '7.3M', '50,000+', 'Free', '0', 'Everyone', 'Lifestyle', 'July 31, 2018', 'Cow V3.15', '4.3 and up']\n",
      "[\"Kinot Tisha'a Be'av - Ashkenaz\", 'LIFESTYLE', '4.5', '82', '8.7M', '5,000+', 'Free', '0', 'Everyone', 'Lifestyle', 'July 26, 2015', '2.1', '2.3.3 and up']\n",
      "['Armani Exchange Connected', 'LIFESTYLE', '4.1', '305', '44M', '10,000+', 'Free', '0', 'Everyone', 'Lifestyle', 'July 4, 2017', '1.5.0', '4.4 and up']\n",
      "['AX!OM', 'LIFESTYLE', 'NaN', '5', '28M', '50+', 'Free', '0', 'Everyone', 'Lifestyle', 'February 16, 2017', '1.3', '4.1 and up']\n",
      "['AX Selfie', 'LIFESTYLE', '4.6', '10', '3.4M', '500+', 'Free', '0', 'Everyone', 'Lifestyle', 'August 31, 2015', '1.0.0', '4.0 and up']\n",
      "['Ay Telekom Oim', 'LIFESTYLE', 'NaN', '6', '13M', '100+', 'Free', '0', 'Everyone', 'Lifestyle', 'February 17, 2018', '1.0.2', '4.1 and up']\n",
      "['Holy Quran Mehmet Emin Ay', 'LIFESTYLE', 'NaN', '649', '55M', '10,000+', 'Free', '0', 'Everyone', 'Lifestyle', 'March 14, 2017', '1.3.1', '4.0.3 and up']\n",
      "['Lunar Calendar', 'LIFESTYLE', '4.5', '484', 'Varies with device', '1,000+', 'Paid', '$4.99', 'Mature 17+', 'Lifestyle', 'July 17, 2018', 'Varies with device', 'Varies with device']\n",
      "['Lunar Calendar Lite', 'LIFESTYLE', '4.1', '2954', 'Varies with device', '100,000+', 'Free', '0', 'Mature 17+', 'Lifestyle', 'July 17, 2018', 'Varies with device', 'Varies with device']\n",
      "['Long Realty AZ Home Search', 'LIFESTYLE', '4.4', '132', '33M', '10,000+', 'Free', '0', 'Everyone', 'Lifestyle', 'March 6, 2018', '5.805.180306', '4.1 and up']\n",
      "['Graffiti Letters (A-Z)', 'LIFESTYLE', '3.9', '386', '7.9M', '50,000+', 'Free', '0', 'Everyone', 'Lifestyle', 'February 18, 2017', '2.1.5', '4.0 and up']\n",
      "['Barista Coffee Dictionary A-Z', 'LIFESTYLE', '4.3', '127', '5.5M', '10,000+', 'Free', '0', 'Everyone', 'Lifestyle', 'June 3, 2016', '3.0.0', '4.1 and up']\n",
      "['Ba Zi Fortune', 'LIFESTYLE', '3.9', '592', '2.5M', '100,000+', 'Free', '0', 'Everyone', 'Lifestyle', 'January 2, 2018', '1.0.23', '2.3 and up']\n",
      "['BC Liquor Stores', 'LIFESTYLE', '3.7', '492', '4.3M', '50,000+', 'Free', '0', 'Everyone', 'Lifestyle', 'October 5, 2015', '3.6', '2.2 and up']\n",
      "[\"BC's Pizza\", 'LIFESTYLE', '4.7', '113', '20M', '1,000+', 'Free', '0', 'Everyone', 'Lifestyle', 'September 30, 2016', '3.0.0', '4.0 and up']\n",
      "['BC Mobile Intro - Americas', 'LIFESTYLE', 'NaN', '0', '3.1M', '50+', 'Free', '0', 'Everyone', 'Lifestyle', 'June 21, 2018', '4.1.0', '4.0.3 and up']\n",
      "['BC Pizza', 'LIFESTYLE', '2.3', '3', '2.6M', '500+', 'Free', '0', 'Everyone', 'Lifestyle', 'January 12, 2016', '1.0', '4.2 and up']\n",
      "[\"bd's Mongolian Grill\", 'LIFESTYLE', '4.2', '120', '14M', '10,000+', 'Free', '0', 'Everyone', 'Lifestyle', 'February 23, 2018', '1.5.1', '4.1 and up']\n",
      "['Helping BD', 'LIFESTYLE', '5.0', '15', '4.5M', '100+', 'Free', '0', 'Everyone', 'Lifestyle', 'June 19, 2018', '2.1', '4.0.3 and up']\n",
      "['Be My Eyes - Helping the blind', 'LIFESTYLE', '4.9', '8418', '21M', '500,000+', 'Free', '0', 'Everyone', 'Lifestyle', 'July 11, 2018', '1.2.9', '4.4 and up']\n",
      "['CE BF', 'LIFESTYLE', 'NaN', '0', '24M', '50+', 'Free', '0', 'Everyone', 'Lifestyle', 'January 2, 2018', '1.0.1', '4.1 and up']\n",
      "['Freedom Christian BF', 'LIFESTYLE', 'NaN', '0', '12M', '10+', 'Free', '0', 'Everyone', 'Lifestyle', 'February 22, 2016', '1.0', '4.0.3 and up']\n",
      "['Cute Questions BF', 'LIFESTYLE', '4.0', '3', '3.3M', '1,000+', 'Free', '0', 'Everyone', 'Lifestyle', 'June 2, 2018', '3.0.0', '4.4 and up']\n",
      "['BG BRIDAL GALLERY', 'LIFESTYLE', '4.6', '17', '19M', '1,000+', 'Free', '0', 'Everyone', 'Lifestyle', 'June 27, 2018', '2.1.1', '4.4 and up']\n",
      "['Board Game Stats: Play tracking for tabletop games', 'LIFESTYLE', '4.6', '275', '3.9M', '5,000+', 'Paid', '$2.99', 'Everyone', 'Lifestyle', 'July 17, 2018', '2.8.3', '4.1 and up']\n",
      "['Photo Background Changer 2018 - Blur Background', 'LIFESTYLE', '3.7', '34079', '9.2M', '5,000,000+', 'Free', '0', 'Everyone', 'Lifestyle', 'May 21, 2018', 'Arrow-202', '4.1 and up']\n",
      "['Barbers.BH', 'LIFESTYLE', '5.0', '2', '6.0M', '10+', 'Free', '0', 'Everyone', 'Lifestyle', 'May 24, 2018', '2.1', '4.0.3 and up']\n",
      "['Lexus Tech BH Service Pro', 'LIFESTYLE', 'NaN', '0', '904k', '10+', 'Free', '0', 'Teen', 'Lifestyle', 'July 26, 2016', '5.0', '3.0 and up']\n",
      "[\"B'H BURGER HEIM\", 'LIFESTYLE', 'NaN', '0', '20M', '10+', 'Free', '0', 'Everyone', 'Lifestyle', 'May 26, 2016', '1.0', '4.0 and up']\n",
      "['BI-LO', 'LIFESTYLE', '3.5', '43', '30M', '10,000+', 'Free', '0', 'Everyone', 'Lifestyle', 'July 11, 2018', '2.0.0', '4.1 and up']\n",
      "['BI-LO Rx', 'LIFESTYLE', '3.9', '77', 'Varies with device', '10,000+', 'Free', '0', 'Everyone', 'Lifestyle', 'March 26, 2018', 'Varies with device', 'Varies with device']\n",
      "['happn – Local dating app', 'LIFESTYLE', '4.3', '1118201', 'Varies with device', '10,000,000+', 'Free', '0', 'Mature 17+', 'Lifestyle', 'July 24, 2018', 'Varies with device', 'Varies with device']\n",
      "['BMH-BJ Congregation', 'LIFESTYLE', 'NaN', '0', '5.1M', '10+', 'Free', '0', 'Everyone', 'Lifestyle', 'June 29, 2018', '1.22', '4.0.3 and up']\n",
      "['BURGER KING® App', 'LIFESTYLE', '4.0', '41747', '39M', '5,000,000+', 'Free', '0', 'Everyone', 'Lifestyle', 'January 12, 2017', '3.7.1', '4.1 and up']\n",
      "['BURGER KING® MOBILE APP', 'LIFESTYLE', '3.8', '19221', '13M', '5,000,000+', 'Free', '0', 'Everyone', 'Lifestyle', 'May 24, 2018', 'Varies with device', 'Varies with device']\n",
      "['Free Coupons for Burger King', 'LIFESTYLE', '2.8', '17', '3.1M', '5,000+', 'Free', '0', 'Everyone', 'Lifestyle', 'July 29, 2018', '1.1', '4.4 and up']\n",
      "['BK Murli Offline April 2017', 'LIFESTYLE', '4.8', '33', '2.4M', '5,000+', 'Free', '0', 'Everyone', 'Lifestyle', 'May 3, 2017', '1.0', '4.0.3 and up']\n",
      "['Read it easy for BK', 'LIFESTYLE', '5.0', '1', '3.2M', '50+', 'Free', '0', 'Everyone', 'Lifestyle', 'July 15, 2018', '1.2', '4.1 and up']\n",
      "['Dr Bk Sachin bhai', 'LIFESTYLE', '5.0', '19', '3.1M', '1,000+', 'Free', '0', 'Everyone', 'Lifestyle', 'December 7, 2017', '2.2', '4.1 and up']\n",
      "['BK Suraj bhai', 'LIFESTYLE', '4.6', '9', '3.1M', '1,000+', 'Free', '0', 'Everyone', 'Lifestyle', 'December 8, 2017', '2.2', '4.1 and up']\n",
      "['BK Shivani Videos', 'LIFESTYLE', '4.7', '29', '3.2M', '1,000+', 'Free', '0', 'Everyone', 'Lifestyle', 'July 25, 2018', '1.3', '4.0.3 and up']\n",
      "['Official Madhuban Murli', 'LIFESTYLE', '4.9', '301', '25M', '10,000+', 'Free', '0', 'Everyone', 'Lifestyle', 'July 21, 2018', '1.1.2', '4.4 and up']\n",
      "['Bk Usha behn', 'LIFESTYLE', '5.0', '10', '3.0M', '1,000+', 'Free', '0', 'Everyone', 'Lifestyle', 'January 14, 2018', '1.0', '4.1 and up']\n",
      "['Burger King Italia', 'LIFESTYLE', '4.0', '4160', '30M', '500,000+', 'Free', '0', 'Everyone', 'Lifestyle', 'July 6, 2018', '2.3.6', '4.0.3 and up']\n",
      "['bm offers', 'LIFESTYLE', '3.2', '320', '31M', '50,000+', 'Free', '0', 'Everyone', 'Lifestyle', 'December 13, 2017', '1.4', '4.2 and up']\n",
      "['BN PERKS™', 'LIFESTYLE', 'NaN', '0', '15M', '100+', 'Free', '0', 'Everyone', 'Lifestyle', 'June 2, 2018', '2.13', '4.0.3 and up']\n",
      "['Bangla Calendar 1425: (EN-BN-AR) Holiday', 'LIFESTYLE', '4.5', '31', '2.3M', '1,000+', 'Free', '0', 'Everyone', 'Lifestyle', 'April 21, 2018', '2.1.0', '4.1 and up']\n",
      "['Bee.Bo', 'LIFESTYLE', 'NaN', '11', '23M', '1,000+', 'Free', '0', 'Everyone', 'Lifestyle', 'April 13, 2017', '1.2.9', '4.1 and up']\n",
      "['BP and Sugar Test Prank', 'LIFESTYLE', '4.0', '7808', '5.0M', '1,000,000+', 'Free', '0', 'Everyone', 'Lifestyle', 'November 5, 2015', '1.2.1', '2.2 and up']\n",
      "['BP Log lite', 'LIFESTYLE', '5.0', '3', '1.5M', '100+', 'Free', '0', 'Everyone', 'Lifestyle', 'November 15, 2014', '1.1', '2.2 and up']\n",
      "['bp Magazine for Bipolar', 'LIFESTYLE', '1.8', '5', '18M', '1,000+', 'Free', '0', 'Everyone 10+', 'Lifestyle', 'February 12, 2018', '26.0', '4.1 and up']\n",
      "['Bar BQ Tonight Dublin', 'LIFESTYLE', 'NaN', '0', '22M', '50+', 'Free', '0', 'Everyone', 'Lifestyle', 'May 20, 2018', '1.1.9371', '4.0.3 and up']\n",
      "['Pick-a-Paint', 'LIFESTYLE', '1.6', '242', '36M', '50,000+', 'Free', '0', 'Everyone', 'Lifestyle', 'May 14, 2018', '1.2.1', '3.0 and up']\n",
      "['BR', 'LIFESTYLE', '3.0', '859', '3.5M', '100,000+', 'Free', '0', 'Everyone', 'Lifestyle', 'July 19, 2018', '1.7.7', '2.2 and up']\n",
      "['BT Church', 'LIFESTYLE', '4.9', '26', '8.4M', '1,000+', 'Free', '0', 'Teen', 'Lifestyle', 'June 25, 2018', '3.8.0', '4.1 and up']\n",
      "['MagicLight BT', 'LIFESTYLE', '2.7', '135', '6.5M', '10,000+', 'Free', '0', 'Everyone', 'Lifestyle', 'July 11, 2018', '1.2.1', '4.3 and up']\n",
      "['sustainability@BU', 'LIFESTYLE', '4.8', '10', '11M', '1,000+', 'Free', '0', 'Everyone', 'Lifestyle', 'January 18, 2018', '4.2.7', '4.1 and up']\n",
      "['On a Bu Pour Vous OBPV', 'LIFESTYLE', 'NaN', '0', '5.4M', '10+', 'Free', '0', 'Teen', 'Lifestyle', 'February 6, 2018', '3.0', '4.1 and up']\n",
      "['Büfe BU', 'LIFESTYLE', '4.1', '14', '13M', '100+', 'Free', '0', 'Everyone', 'Lifestyle', 'October 17, 2015', '2.0', '4.0.3 and up']\n",
      "['van Gennip Textiles BV', 'LIFESTYLE', 'NaN', '1', '4.0M', '100+', 'Free', '0', 'Everyone', 'Lifestyle', 'June 28, 2018', '1.1.5', '4.1 and up']\n",
      "['StartPage Private Search', 'LIFESTYLE', '4.6', '10198', '2.2M', '100,000+', 'Free', '0', 'Everyone', 'Lifestyle', 'August 21, 2017', '1.10', '2.1 and up']\n",
      "['Philips Hue', 'LIFESTYLE', '3.1', '10006', '53M', '1,000,000+', 'Free', '0', 'Everyone', 'Lifestyle', 'July 26, 2018', '3.2.0', '5.0 and up']\n",
      "['BW App', 'LIFESTYLE', '2.8', '48', '12M', '5,000+', 'Free', '0', 'Everyone', 'Lifestyle', 'September 27, 2017', '2.8.216.6-ba', '4.0 and up']\n",
      "['Bell and Wyson Camera BW Pix +', 'LIFESTYLE', '2.0', '8', '12M', '1,000+', 'Free', '0', 'Everyone', 'Lifestyle', 'November 14, 2016', '2.0.18.23', '2.3 and up']\n",
      "['One Today by Google', 'LIFESTYLE', '4.5', '2586', '9.4M', '100,000+', 'Free', '0', 'Everyone', 'Lifestyle', 'December 17, 2015', '1.9.0.110162364', '4.0.3 and up']\n",
      "['CA Speakers Free', 'LIFESTYLE', '4.8', '74', '2.9M', '5,000+', 'Free', '0', 'Teen', 'Lifestyle', 'September 30, 2015', '1.6', '2.3.3 and up']\n",
      "['CA Speakers', 'LIFESTYLE', '5.0', '12', '1.2M', '100+', 'Paid', '$0.99', 'Teen', 'Lifestyle', 'March 25, 2014', '1.0', '3.0 and up']\n",
      "['CB Underground', 'LIFESTYLE', '3.3', '3', '7.4M', '500+', 'Free', '0', 'Everyone', 'Lifestyle', 'September 15, 2015', '1.2', '3.2 and up']\n",
      "['Design innovation CD Cassette', 'LIFESTYLE', 'NaN', '5', '8.3M', '500+', 'Free', '0', 'Everyone', 'Lifestyle', 'February 6, 2017', '1.0', '2.3 and up']\n",
      "['DIY Crafts Cds', 'LIFESTYLE', '4.0', '209', '3.1M', '50,000+', 'Free', '0', 'Everyone', 'Lifestyle', 'January 24, 2017', '3.0', '3.0 and up']\n",
      "['CD Live - Club del Deportista', 'LIFESTYLE', 'NaN', '8', '9.2M', '500+', 'Free', '0', 'Everyone', 'Lifestyle', 'June 12, 2018', '4.1', '4.1 and up']\n",
      "['Creative CD Letter Holder', 'LIFESTYLE', 'NaN', '0', '13M', '10+', 'Free', '0', 'Everyone', 'Lifestyle', 'November 15, 2017', '7.1', '4.0 and up']\n",
      "['My Movies Pro - Movie & TV Collection Library', 'LIFESTYLE', '4.6', '6477', '20M', '10,000+', 'Paid', '$7.99', 'Everyone', 'Lifestyle', 'July 16, 2018', '2.26 Build 17', '4.1 and up']\n",
      "['Best Design CD Ideas', 'LIFESTYLE', 'NaN', '0', '13M', '10+', 'Free', '0', 'Everyone', 'Lifestyle', 'April 18, 2018', '1.0.0', '4.0.3 and up']\n",
      "['DIY cd rom ideas', 'LIFESTYLE', 'NaN', '5', '12M', '500+', 'Free', '0', 'Everyone', 'Lifestyle', 'October 17, 2016', '1.0', '2.3.3 and up']\n",
      "['DIY Recycled CD Wall Art', 'LIFESTYLE', 'NaN', '3', '7.9M', '1,000+', 'Free', '0', 'Everyone', 'Lifestyle', 'December 14, 2016', '1.0', '2.3 and up']\n",
      "['DIY CD Craft Ideas', 'LIFESTYLE', '4.4', '5', '4.6M', '1,000+', 'Free', '0', 'Everyone', 'Lifestyle', 'January 14, 2017', '1.0', '2.3 and up']\n",
      "['Music Collector Inventory Organizer UPC Discogs', 'LIFESTYLE', '3.5', '155', '12M', '10,000+', 'Free', '0', 'Everyone', 'Lifestyle', 'October 13, 2017', '3.1', '4.1 and up']\n",
      "['CE KISIO', 'LIFESTYLE', 'NaN', '1', '24M', '100+', 'Free', '0', 'Everyone', 'Lifestyle', 'February 5, 2018', '1.0.1', '4.1 and up']\n",
      "['CE AR LOG', 'LIFESTYLE', 'NaN', '0', '23M', '1+', 'Free', '0', 'Everyone', 'Lifestyle', 'July 11, 2018', '1.0.1', '4.1 and up']\n",
      "['CE Airbus', 'LIFESTYLE', 'NaN', '0', 'Varies with device', '100+', 'Free', '0', 'Everyone', 'Lifestyle', 'April 24, 2018', 'Varies with device', 'Varies with device']\n",
      "['CF SHOP!', 'LIFESTYLE', '2.8', '88', '43M', '10,000+', 'Free', '0', 'Everyone', 'Lifestyle', 'June 30, 2018', '1.8.1', '4.4 and up']\n",
      "['CF Appreciation', 'LIFESTYLE', '2.0', '11', '6.2M', '1,000+', 'Free', '0', 'Everyone', 'Lifestyle', 'June 12, 2018', '2.4.78-s', '4.1 and up']\n",
      "['Unity CF', 'LIFESTYLE', '5.0', '5', '8.3M', '100+', 'Free', '0', 'Everyone', 'Lifestyle', 'April 12, 2016', '1.0', '4.0.3 and up']\n",
      "['Overcomers CF - GA', 'LIFESTYLE', '5.0', '7', '11M', '100+', 'Free', '0', 'Everyone', 'Lifestyle', 'March 20, 2017', '1.1', '4.1 and up']\n",
      "['Team CF', 'LIFESTYLE', 'NaN', '0', '3.0M', '100+', 'Free', '0', 'Everyone', 'Lifestyle', 'June 7, 2018', '3.9.9.2', '2.3 and up']\n",
      "['CF Calculator', 'LIFESTYLE', '3.3', '25', '4.7M', '1,000+', 'Free', '0', 'Everyone', 'Lifestyle', 'March 10, 2015', '1.0.2', '4.0 and up']\n",
      "['CF Climb', 'LIFESTYLE', '1.5', '2', '3.0M', '100+', 'Free', '0', 'Everyone', 'Lifestyle', 'June 7, 2018', '3.9.9.2', '2.3 and up']\n",
      "['Villarreal CF Wallpapers 4 Fans', 'LIFESTYLE', 'NaN', '2', '3.2M', '50+', 'Free', '0', 'Everyone', 'Lifestyle', 'May 22, 2018', '1.0', '4.0 and up']\n",
      "['Valencia CF Wallpapers 4 Fans', 'LIFESTYLE', 'NaN', '4', '3.1M', '100+', 'Free', '0', 'Everyone', 'Lifestyle', 'May 22, 2018', '1.0', '4.0 and up']\n",
      "['Málaga CF Wallpapers 4 Fans', 'LIFESTYLE', 'NaN', '2', '3.1M', '10+', 'Free', '0', 'Everyone', 'Lifestyle', 'May 22, 2018', '1.0', '4.0 and up']\n",
      "['Calvary.ch App', 'LIFESTYLE', '4.4', '10', '7.7M', '500+', 'Free', '0', 'Teen', 'Lifestyle', 'June 25, 2018', '3.8.0', '4.1 and up']\n",
      "['autoricardo.ch – vehicles', 'LIFESTYLE', '3.3', '1045', '13M', '100,000+', 'Free', '0', 'Everyone', 'Lifestyle', 'March 13, 2018', '5.1', '4.0 and up']\n",
      "['Legit Check App by Ch Daniel', 'LIFESTYLE', '4.9', '66', '8.1M', '1,000+', 'Free', '0', 'Everyone', 'Lifestyle', 'July 18, 2018', '1.0', '4.1 and up']\n",
      "['usgang.ch', 'LIFESTYLE', '3.7', '492', 'Varies with device', '100,000+', 'Free', '0', 'Everyone 10+', 'Lifestyle', 'June 11, 2018', '3.0.7', '4.1 and up']\n",
      "['CI Staff App', 'LIFESTYLE', 'NaN', '0', '10M', '10+', 'Free', '0', 'Everyone', 'Lifestyle', 'October 4, 2017', '1.0.7', '4.1 and up']\n",
      "['Company Kitchen', 'LIFESTYLE', '2.8', '81', '7.7M', '10,000+', 'Free', '0', 'Everyone', 'Lifestyle', 'March 6, 2018', '2.0.0 (18.03.01)', '2.3.3 and up']\n",
      "['CK 初一 十五', 'LIFESTYLE', '4.0', '294', '153k', '10,000+', 'Free', '0', 'Everyone', 'Lifestyle', 'July 3, 2013', '1.0.12', '2.1 and up']\n",
      "['Ck Coif', 'LIFESTYLE', 'NaN', '0', '22M', '10+', 'Free', '0', 'Everyone', 'Lifestyle', 'April 30, 2016', '1.0', '2.3 and up']\n",
      "['DAILY: Free Classifieds App for Android', 'LIFESTYLE', '4.1', '5025', 'Varies with device', '500,000+', 'Free', '0', 'Mature 17+', 'Lifestyle', 'August 2, 2018', 'Varies with device', 'Varies with device']\n",
      "['App for Craigslist Pro - Buy & Sell Postings', 'LIFESTYLE', '4.3', '707', '5.0M', '100,000+', 'Free', '0', 'Everyone', 'Lifestyle', 'May 9, 2018', 'App copyright', '4.1 and up']\n",
      "['CL Pebble Apps', 'LIFESTYLE', '3.6', '67', '499k', '5,000+', 'Free', '0', 'Everyone', 'Lifestyle', 'December 23, 2015', '3.5', '4.0 and up']\n",
      "['E2CR CL', 'LIFESTYLE', 'NaN', '0', '25M', '10+', 'Free', '0', 'Everyone', 'Lifestyle', 'June 30, 2017', '1.0', '4.1 and up']\n",
      "['Color CL', 'LIFESTYLE', '5.0', '2', '1.3M', '100+', 'Free', '0', 'Everyone', 'Lifestyle', 'February 2, 2017', '1.01', '4.0.3 and up']\n",
      "['Brit + Co', 'LIFESTYLE', '3.9', '987', '4.5M', '10,000+', 'Free', '0', 'Everyone', 'Lifestyle', 'August 29, 2017', '2.0.4', '4.0 and up']\n",
      "['Co-op CRS', 'LIFESTYLE', '3.6', '581', '26M', '100,000+', 'Free', '0', 'Everyone', 'Lifestyle', 'March 4, 2018', '2.4.3', '4.4 and up']\n",
      "['VCalendar - VenkatRama and Co', 'LIFESTYLE', '4.3', '87', '3.9M', '10,000+', 'Free', '0', 'Everyone', 'Lifestyle', 'March 16, 2018', '1.2', '4.1 and up']\n",
      "['Aquarium Co-Op Podcast', 'LIFESTYLE', '4.9', '206', '3.9M', '1,000+', 'Free', '0', 'Everyone', 'Lifestyle', 'June 20, 2017', '2.3.13', '4.2 and up']\n",
      "['Co-Dependents Anonymous', 'LIFESTYLE', 'NaN', '0', '12M', '500+', 'Free', '0', 'Everyone', 'Lifestyle', 'February 28, 2018', '1.0.1', '4.1 and up']\n",
      "['Holl & Co Barbers', 'LIFESTYLE', '4.7', '12', '6.0M', '500+', 'Free', '0', 'Everyone', 'Lifestyle', 'February 26, 2018', '4.9.940', '4.0 and up']\n",
      "['CP Clicker', 'LIFESTYLE', '4.2', '251', '5.0M', '10,000+', 'Free', '0', 'Everyone', 'Lifestyle', 'March 22, 2018', '3.3.003', '4.1 and up']\n",
      "['CP HAPPS - Pittsburgh Events', 'LIFESTYLE', '3.8', '85', '5.6M', '5,000+', 'Free', '0', 'Teen', 'Lifestyle', 'March 6, 2015', '1.18.10', '4.0.3 and up']\n",
      "['CP Surprise', 'LIFESTYLE', '3.8', '2548', '4.9M', '100,000+', 'Free', '0', 'Everyone', 'Lifestyle', 'January 30, 2018', '4.4.2', '4.1 and up']\n",
      "['CP Parquet', 'LIFESTYLE', 'NaN', '2', '1.2M', '100+', 'Free', '0', 'Everyone', 'Lifestyle', 'May 11, 2016', '1.0.2', '4.0 and up']\n",
      "['theCut', 'LIFESTYLE', '4.7', '499', '6.9M', '50,000+', 'Free', '0', 'Everyone', 'Lifestyle', 'May 10, 2018', '1.2.7', '4.1 and up']\n",
      "['C.S. Lewis Daily Quotes', 'LIFESTYLE', '4.1', '75', '11M', '10,000+', 'Free', '0', 'Everyone', 'Lifestyle', 'January 14, 2018', '1.0.1', '4.1 and up']\n",
      "['The Church at CW', 'LIFESTYLE', '4.5', '2', '7.8M', '100+', 'Free', '0', 'Teen', 'Lifestyle', 'June 25, 2018', '3.8.0', '4.1 and up']\n",
      "['CX-95WIFI', 'LIFESTYLE', 'NaN', '6', '11M', '500+', 'Free', '0', 'Everyone', 'Lifestyle', 'June 2, 2017', '2.1', '4.0 and up']\n",
      "['Theme for Tecno Camon CX / C8', 'LIFESTYLE', '4.6', '147', '9.8M', '10,000+', 'Free', '0', 'Everyone', 'Lifestyle', 'May 2, 2017', '1.0.1', '4.0 and up']\n",
      "['Oración CX', 'LIFESTYLE', '5.0', '103', '3.8M', '5,000+', 'Free', '0', 'Everyone', 'Lifestyle', 'September 12, 2017', '5.1.10', '4.1 and up']\n",
      "['CX-41', 'LIFESTYLE', 'NaN', '1', '32M', '100+', 'Free', '0', 'Everyone', 'Lifestyle', 'December 14, 2017', '3.0', '4.1 and up']\n",
      "['Recycling Cy', 'LIFESTYLE', '4.0', '47', '4.5M', '1,000+', 'Free', '0', 'Everyone', 'Lifestyle', 'August 2, 2017', '2.0', '3.2 and up']\n",
      "['Cy-Fair Christian Church', 'LIFESTYLE', '5.0', '2', '9.3M', '100+', 'Free', '0', 'Everyone', 'Lifestyle', 'August 3, 2017', '24.8.1', '4.1 and up']\n",
      "['CZ-USA', 'LIFESTYLE', '4.5', '11', '3.4M', '1,000+', 'Free', '0', 'Everyone', 'Lifestyle', 'March 1, 2016', '1.0.2', '4.0.3 and up']\n",
      "['KFC CZ', 'LIFESTYLE', '2.8', '1189', '18M', '100,000+', 'Free', '0', 'Everyone', 'Lifestyle', 'June 27, 2018', '5.1.0', '4.0.3 and up']\n",
      "['Breweries (CZ/SK)', 'LIFESTYLE', '4.4', '1740', '4.4M', '50,000+', 'Free', '0', 'Teen', 'Lifestyle', 'July 27, 2017', '3.1.0', '4.1 and up']\n",
      "['Vira.cz Widget', 'LIFESTYLE', 'NaN', '86', '601k', '1,000+', 'Free', '0', 'Everyone', 'Lifestyle', 'June 15, 2016', '1.0', '2.2 and up']\n",
      "['DB HOME', 'LIFESTYLE', '5.0', '5', '3.2M', '100+', 'Free', '0', 'Everyone', 'Lifestyle', 'August 31, 2017', '1.0.1', '4.0 and up']\n",
      "['AC DC Power Monitor', 'LIFESTYLE', '5.0', '1', '1.2M', '10+', 'Paid', '$3.04', 'Everyone', 'Lifestyle', 'May 29, 2016', '1.2', '2.3 and up']\n",
      "['The Divine Feminine App: the DF App', 'LIFESTYLE', '5.0', '8', '6.7M', '1,000+', 'Free', '0', 'Everyone', 'Lifestyle', 'May 16, 2016', '0.0.4', '4.1 and up']\n",
      "['MexiRoomies - roomies, mexico, df, apt, house room', 'LIFESTYLE', 'NaN', '2', '32M', '500+', 'Free', '0', 'Everyone', 'Lifestyle', 'July 4, 2018', '1.9', '4.0.3 and up']\n",
      "['Aproveita DF', 'LIFESTYLE', 'NaN', '0', '3.3M', '1+', 'Free', '0', 'Everyone', 'Lifestyle', 'August 2, 2018', '1.0', '4.0 and up']\n",
      "['DG Hair', 'LIFESTYLE', 'NaN', '0', '3.0M', '10+', 'Free', '0', 'Everyone', 'Lifestyle', 'August 30, 2017', '1.0.0', '4.0 and up']\n",
      "['Daily Horoscope', 'LIFESTYLE', '4.7', '407589', 'Varies with device', '10,000,000+', 'Free', '0', 'Everyone', 'Lifestyle', 'July 20, 2018', 'Varies with device', 'Varies with device']\n",
      "['D-H Pharmacy', 'LIFESTYLE', '5.0', '6', '2.3M', '1,000+', 'Free', '0', 'Everyone', 'Lifestyle', 'May 4, 2016', 'v6.1', '2.2 and up']\n",
      "['DH Mariage', 'LIFESTYLE', 'NaN', '0', '4.9M', '50+', 'Free', '0', 'Everyone', 'Lifestyle', 'September 12, 2017', '1.0', '4.3 and up']\n",
      "['S-Home DK', 'LIFESTYLE', 'NaN', '4', '17M', '1,000+', 'Free', '0', 'Everyone', 'Lifestyle', 'October 18, 2017', '1.26', '4.0 and up']\n",
      "['Salah Widget (DK+Malmo)', 'LIFESTYLE', '4.5', '532', '6.4M', '10,000+', 'Free', '0', 'Everyone', 'Lifestyle', 'June 28, 2015', '0.9.9.14', '2.3 and up']\n",
      "['DK Childcare Centers', 'LIFESTYLE', 'NaN', '0', '13M', '500+', 'Free', '0', 'Everyone', 'Lifestyle', 'April 2, 2018', '1.0.2', '4.1 and up']\n",
      "['Dr. D.K. Olukoya Sermons', 'LIFESTYLE', 'NaN', '1', '3.0M', '100+', 'Free', '0', 'Everyone', 'Lifestyle', 'September 26, 2017', '1.0', '4.0 and up']\n",
      "['Dr D K Olukoya', 'LIFESTYLE', 'NaN', '0', '3.3M', '1+', 'Free', '0', 'Teen', 'Lifestyle', 'July 25, 2018', '1.0', '4.1 and up']\n",
      "['DK Hair Design', 'LIFESTYLE', 'NaN', '0', '2.5M', '10+', 'Free', '0', 'Everyone', 'Lifestyle', 'May 15, 2017', '1.0.0', '4.0 and up']\n",
      "['Notes : Colorful Notepad Note,To Do,Reminder,Memo', 'LIFESTYLE', '4.6', '10484', '9.0M', '1,000,000+', 'Free', '0', 'Everyone', 'Lifestyle', 'June 9, 2018', '1.4.9', '4.1 and up']\n",
      "['DP and Status Images | All Latest Status 2018', 'LIFESTYLE', '4.7', '25', '3.8M', '10,000+', 'Free', '0', 'Teen', 'Lifestyle', 'July 22, 2017', '1.0', '4.0 and up']\n",
      "['100000+ Messages - DP, Status, Jokes & GIF 2018', 'LIFESTYLE', '3.7', '121', '3.8M', '10,000+', 'Free', '0', 'Mature 17+', 'Lifestyle', 'December 29, 2017', 'DPSTATUS1.0.1', '4.0.3 and up']\n",
      "['Taco Bell', 'LIFESTYLE', '3.8', '28140', '16M', '1,000,000+', 'Free', '0', 'Everyone', 'Lifestyle', 'July 30, 2018', '5.0.4', '4.2 and up']\n",
      "[\"Culver's\", 'LIFESTYLE', '3.9', '1638', '4.9M', '100,000+', 'Free', '0', 'Everyone', 'Lifestyle', 'April 11, 2018', '1.20', '4.3 and up']\n",
      "['DT', 'LIFESTYLE', 'NaN', '0', '8.9M', '100+', 'Free', '0', 'Everyone', 'Lifestyle', 'July 24, 2018', '7.2.2', '4.1 and up']\n",
      "['The Secret Daily Teachings', 'LIFESTYLE', '4.3', '206', '32M', '1,000+', 'Paid', '$4.99', 'Everyone', 'Lifestyle', 'February 11, 2018', '14.0', '4.0.3 and up']\n",
      "['du app', 'LIFESTYLE', '3.5', '7578', '25M', '1,000,000+', 'Free', '0', 'Everyone', 'Lifestyle', 'July 24, 2018', '3.98', '4.2 and up']\n",
      "['Sports DV', 'LIFESTYLE', '2.1', '86', '29M', '10,000+', 'Free', '0', 'Everyone', 'Lifestyle', 'July 17, 2018', '3.0.3', '4.3 and up']\n",
      "['DV Youth', 'LIFESTYLE', '5.0', '5', '15M', '100+', 'Free', '0', 'Everyone', 'Lifestyle', 'April 25, 2016', '1.2', '4.0.3 and up']\n",
      "['White Classic Petite Watch Theme for DW', 'LIFESTYLE', 'NaN', '2', '3.0M', '500+', 'Free', '0', 'Everyone', 'Lifestyle', 'July 24, 2018', '1.1.1', '4.0 and up']\n",
      "['DX Alerts', 'LIFESTYLE', '4.5', '22', '23M', '1,000+', 'Free', '0', 'Everyone', 'Lifestyle', 'July 19, 2016', '2.0', '4.0.3 and up']\n",
      "['My Dy Dice - 3D Dice Roller', 'LIFESTYLE', '4.2', '9', '22M', '100+', 'Free', '0', 'Everyone', 'Lifestyle', 'September 20, 2016', '1.01', '4.1 and up']\n",
      "['dy n fly', 'LIFESTYLE', 'NaN', '1', '4.8M', '50+', 'Free', '0', 'Everyone', 'Lifestyle', 'March 5, 2018', '1.0.3', '4.0 and up']\n",
      "['EB Experience', 'LIFESTYLE', 'NaN', '0', '1.8M', '1+', 'Free', '0', 'Everyone', 'Lifestyle', 'October 19, 2017', '1.0', '4.0.3 and up']\n",
      "['TN Electricity (TNEB)', 'LIFESTYLE', '3.9', '73', '3.8M', '10,000+', 'Free', '0', 'Everyone', 'Lifestyle', 'December 21, 2016', '8.0', '2.3 and up']\n",
      "['EC Security', 'LIFESTYLE', '4.5', '13', '28M', '1,000+', 'Free', '0', 'Everyone', 'Lifestyle', 'May 9, 2017', '1.17.0.0', '2.3.3 and up']\n",
      "['ec.tv', 'LIFESTYLE', 'NaN', '0', '8.6M', '50+', 'Free', '0', 'Everyone', 'Lifestyle', 'November 11, 2016', '1.0', '4.1 and up']\n",
      "['ECナビ×シュフー', 'LIFESTYLE', '4.0', '576', '7.4M', '50,000+', 'Free', '0', 'Everyone', 'Lifestyle', 'June 7, 2018', '1.0.2', '4.0 and up']\n",
      "['Arrayanes EC', 'LIFESTYLE', 'NaN', '2', '7.9M', '100+', 'Free', '0', 'Everyone', 'Lifestyle', 'June 27, 2018', '3.5', '4.4 and up']\n",
      "['EG India', 'LIFESTYLE', '5.0', '3', '4.0M', '100+', 'Free', '0', 'Everyone', 'Lifestyle', 'July 29, 2018', '1.1.3', '4.0.3 and up']\n",
      "['Propertyfinder', 'LIFESTYLE', '4.2', '1506', '11M', '100,000+', 'Free', '0', 'Everyone', 'Lifestyle', 'August 7, 2018', '6.5.2', '4.4 and up']\n",
      "['EH!', 'LIFESTYLE', '4.6', '10', '8.7M', '1,000+', 'Free', '0', 'Everyone', 'Lifestyle', 'July 18, 2018', '7.2.2', '4.1 and up']\n",
      "['EJ Ecuador', 'LIFESTYLE', 'NaN', '9', '6.8M', '100+', 'Free', '0', 'Teen', 'Lifestyle', 'November 22, 2016', '3.0.16', '4.0 and up']\n",
      "['Nights Keeper (do not disturb)', 'LIFESTYLE', '4.5', '16426', '1.6M', '500,000+', 'Free', '0', 'Everyone', 'Lifestyle', 'February 26, 2017', '2.7.8', '2.2 and up']\n",
      "['EK Platinum', 'LIFESTYLE', '3.8', '52', '10M', '10,000+', 'Free', '0', 'Everyone', 'Lifestyle', 'December 26, 2017', '1.0.6®', '4.0 and up']\n",
      "['Ek Onkar Mantras', 'LIFESTYLE', '4.9', '82', '5.0M', '5,000+', 'Free', '0', 'Everyone', 'Lifestyle', 'August 7, 2016', '1.0', '4.1 and up']\n",
      "['Voice Lock Screen', 'LIFESTYLE', '3.7', '6667', '2.7M', '1,000,000+', 'Free', '0', 'Everyone', 'Lifestyle', 'April 2, 2018', '2.4.2', '4.0 and up']\n",
      "['The Holy Rosary', 'LIFESTYLE', '4.7', '56197', '15M', '1,000,000+', 'Free', '0', 'Everyone', 'Lifestyle', 'August 6, 2018', '1.6.17', '1.6 and up']\n",
      "['EO Bijbel Open', 'LIFESTYLE', '4.3', '102', '41M', '10,000+', 'Free', '0', 'Everyone', 'Lifestyle', 'November 24, 2016', '2.0.0', '4.0.3 and up']\n",
      "['EO LAC', 'LIFESTYLE', 'NaN', '0', '18M', '10+', 'Free', '0', 'Everyone', 'Lifestyle', 'January 17, 2017', '1.1', '4.1 and up']\n",
      "['EP Church Annapolis', 'LIFESTYLE', '5.0', '2', '8.8M', '100+', 'Free', '0', 'Everyone', 'Lifestyle', 'January 14, 2017', '1.0', '4.1 and up']\n",
      "['EP Horlogerie', 'LIFESTYLE', '4.9', '18', '24M', '1,000+', 'Free', '0', 'Everyone', 'Lifestyle', 'March 28, 2018', '4.0.2', '4.0.3 and up']\n",
      "['EP Joaillerie', 'LIFESTYLE', 'NaN', '54', '21M', '5,000+', 'Free', '0', 'Teen', 'Lifestyle', 'March 28, 2018', '4.0.2', '4.0.3 and up']\n",
      "['ER', 'LIFESTYLE', 'NaN', '2', '28M', '500+', 'Free', '0', 'Everyone', 'Lifestyle', 'September 1, 2017', '1.1.2', '2.3.3 and up']\n",
      "['EU Exit poll', 'LIFESTYLE', '5.0', '10', '9.4M', '100+', 'Free', '0', 'Everyone', 'Lifestyle', 'July 15, 2016', '1.6', '4.1 and up']\n",
      "['GastroHunter.EU', 'LIFESTYLE', 'NaN', '1', '1.5M', '10+', 'Free', '0', 'Everyone', 'Lifestyle', 'April 23, 2015', '1.0', '4.3 and up']\n",
      "['MOTOBAZAR EU', 'LIFESTYLE', 'NaN', '1', '2.0M', '100+', 'Free', '0', 'Everyone', 'Lifestyle', 'May 6, 2018', '1.2.36', '4.0.3 and up']\n",
      "[\"I'm Rich/Eu sou Rico/أنا غني/我很有錢\", 'LIFESTYLE', 'NaN', '0', '40M', '0+', 'Paid', '$399.99', 'Everyone', 'Lifestyle', 'December 1, 2017', 'MONEY', '4.1 and up']\n",
      "['NissanConnect® EV & Services', 'LIFESTYLE', '2.3', '853', '88M', '50,000+', 'Free', '0', 'Everyone', 'Lifestyle', 'July 20, 2018', '6.2.0', '4.4 and up']\n",
      "['Emerge EV App (eBike App)', 'LIFESTYLE', '3.0', '26', 'Varies with device', '1,000+', 'Free', '0', 'Everyone', 'Lifestyle', 'May 15, 2018', 'Varies with device', '6.0 and up']\n",
      "['EV Real Estate Search', 'LIFESTYLE', '4.1', '88', '20M', '5,000+', 'Free', '0', 'Everyone', 'Lifestyle', 'July 13, 2018', '5.600.49', '4.0.3 and up']\n",
      "['Ev Dizayn', 'LIFESTYLE', '3.6', '30', '5.2M', '5,000+', 'Free', '0', 'Everyone', 'Lifestyle', 'March 4, 2015', '1.0', '4.0 and up']\n",
      "['myChevrolet', 'LIFESTYLE', '3.5', '6747', 'Varies with device', '1,000,000+', 'Free', '0', 'Everyone', 'Lifestyle', 'June 11, 2018', 'Varies with device', 'Varies with device']\n",
      "['EvAk Smart Home', 'LIFESTYLE', 'NaN', '14', 'Varies with device', '500+', 'Free', '0', 'Everyone', 'Lifestyle', 'March 13, 2018', '1.1.1', '4.1 and up']\n",
      "['Ex Quotes', 'LIFESTYLE', '4.4', '129', '8.1M', '50,000+', 'Free', '0', 'Everyone 10+', 'Lifestyle', 'June 16, 2018', '3.0.1', '4.1 and up']\n",
      "['How To Get Your Ex Back Fast', 'LIFESTYLE', '4.0', '22', '19M', '5,000+', 'Free', '0', 'Everyone', 'Lifestyle', 'February 7, 2018', '15.0', '4.0.3 and up']\n",
      "['EY Staff ENTERTAINER', 'LIFESTYLE', '4.3', '218', '19M', '10,000+', 'Free', '0', 'Everyone', 'Lifestyle', 'January 16, 2017', '1.0.3', '2.3 and up']\n",
      "['My EZ-Link Mobile', 'LIFESTYLE', '2.8', '3187', '11M', '100,000+', 'Free', '0', 'Everyone', 'Lifestyle', 'January 27, 2017', '1.0.11', '4.0 and up']\n",
      "['Comunidad De Fe Minitries', 'LIFESTYLE', '5.0', '19', '11M', '500+', 'Free', '0', 'Everyone', 'Lifestyle', 'March 1, 2018', '1.1', '4.1 and up']\n",
      "['Ríos de Fe', 'LIFESTYLE', '5.0', '141', '15M', '1,000+', 'Free', '0', 'Everyone', 'Lifestyle', 'March 24, 2018', '1.8', '4.1 and up']\n",
      "['Candy simply-Fi', 'LIFESTYLE', '2.1', '2390', '35M', '100,000+', 'Free', '0', 'Everyone', 'Lifestyle', 'July 17, 2018', '1.8.4.7', '4.4 and up']\n",
      "['Tassa.fi Finland', 'LIFESTYLE', '3.6', '346', '7.5M', '50,000+', 'Free', '0', 'Everyone', 'Lifestyle', 'May 22, 2018', '5.5', '4.0 and up']\n",
      "['Lennox iComfort Wi-Fi', 'LIFESTYLE', '3.0', '552', '7.6M', '50,000+', 'Free', '0', 'Everyone', 'Lifestyle', 'March 22, 2017', '2.0.15', '2.3.3 and up']\n",
      "['Fish|Hunt FL', 'LIFESTYLE', '3.6', '853', '34M', '100,000+', 'Free', '0', 'Everyone', 'Lifestyle', 'March 22, 2018', '3.2.0', '4.1 and up']\n",
      "['Discovery Church Florida', 'LIFESTYLE', '4.7', '40', '8.0M', '1,000+', 'Free', '0', 'Teen', 'Lifestyle', 'June 25, 2018', '3.8.0', '4.1 and up']\n",
      "['South Florida AA Meetings', 'LIFESTYLE', '5.0', '10', '21M', '1,000+', 'Free', '0', 'Everyone', 'Lifestyle', 'May 24, 2018', '2.18', '4.1 and up']\n",
      "['Trinity Church Deltona, FL', 'LIFESTYLE', '5.0', '33', '28M', '500+', 'Free', '0', 'Everyone', 'Lifestyle', 'May 7, 2018', '1.9.0.0', '2.3.3 and up']\n",
      "['Beacon Baptist Jupiter, FL', 'LIFESTYLE', '5.0', '14', '2.6M', '100+', 'Free', '0', 'Everyone', 'Lifestyle', 'October 13, 2017', '2.4', '4.0.3 and up']\n",
      "['Alachua County Sheriff FL', 'LIFESTYLE', '3.2', '5', '9.5M', '100+', 'Free', '0', 'Everyone', 'Lifestyle', 'May 13, 2015', '1.0', '4.0 and up']\n",
      "['Jax Sheriff (FL)', 'LIFESTYLE', '4.2', '53', '16M', '5,000+', 'Free', '0', 'Everyone', 'Lifestyle', 'June 25, 2018', '2.0.1', '4.1 and up']\n",
      "['My MLS App', 'LIFESTYLE', '4.1', '1213', '13M', '100,000+', 'Free', '0', 'Everyone', 'Lifestyle', 'June 4, 2018', '2.8.4', '4.0.3 and up']\n",
      "['LifePoint Church - FL', 'LIFESTYLE', 'NaN', '1', '7.6M', '50+', 'Free', '0', 'Everyone', 'Lifestyle', 'December 9, 2015', '1.1', '4.0.3 and up']\n",
      "['Gainesville Florida Police Department', 'LIFESTYLE', '4.8', '4', '15M', '500+', 'Free', '0', 'Everyone', 'Lifestyle', 'November 22, 2017', '1.1', '4.1 and up']\n",
      "['South Florida MLS', 'LIFESTYLE', '4.4', '133', '13M', '10,000+', 'Free', '0', 'Everyone', 'Lifestyle', 'June 2, 2018', '2.8.4', '4.0.3 and up']\n",
      "['F N Bail Bonds', 'LIFESTYLE', '3.8', '4', '14M', '500+', 'Free', '0', 'Everyone', 'Lifestyle', 'January 6, 2017', '1.4', '4.0.3 and up']\n",
      "['Sona - Nær við allastaðni', 'LIFESTYLE', '4.2', '31', '25M', '1,000+', 'Free', '0', 'Everyone', 'Lifestyle', 'August 2, 2018', '1.6.3', '4.4 and up']\n",
      "['GKPB FP Online Church', 'LIFESTYLE', '5.0', '32', '7.9M', '1,000+', 'Free', '0', 'Everyone', 'Lifestyle', 'December 31, 2017', '0.7.1', '4.4 and up']\n",
      "['FQ Magazine', 'LIFESTYLE', 'NaN', '1', '12M', '100+', 'Free', '0', 'Everyone', 'Lifestyle', 'December 12, 2016', '1.0', '4.1 and up']\n",
      "['FQ India', 'LIFESTYLE', 'NaN', '0', '8.9M', '10+', 'Free', '0', 'Everyone', 'Lifestyle', 'July 31, 2018', '7.2.2', '4.1 and up']\n",
      "['Fuel Rewards® program', 'LIFESTYLE', '4.6', '32433', '46M', '1,000,000+', 'Free', '0', 'Everyone', 'Lifestyle', 'June 26, 2018', '2.9.1', '5.0 and up']\n",
      "['Scoreboard FR', 'LIFESTYLE', '4.3', '3', '15M', '100+', 'Free', '0', 'Everyone', 'Lifestyle', 'August 7, 2018', '2.1', '4.2 and up']\n",
      "['lesparticuliers.fr', 'LIFESTYLE', 'NaN', '96', '1.0M', '50,000+', 'Free', '0', 'Everyone', 'Lifestyle', 'November 25, 2014', '1.5', '2.3 and up']\n",
      "['iHoroscope - 2018 Daily Horoscope & Astrology', 'LIFESTYLE', '4.5', '398307', '19M', '10,000,000+', 'Free', '0', 'Everyone', 'Lifestyle', 'July 25, 2018', 'Varies with device', 'Varies with device']\n"
     ]
    }
   ],
   "source": [
    "for i in android:\n",
    "    if i[-4] == \"Lifestyle\":\n",
    "        print(i)"
   ]
  },
  {
   "cell_type": "code",
   "execution_count": 28,
   "metadata": {},
   "outputs": [
    {
     "data": {
      "text/plain": [
       "128523"
      ]
     },
     "execution_count": 28,
     "metadata": {},
     "output_type": "execute_result"
    }
   ],
   "source": [
    "ord(\"😋\")"
   ]
  },
  {
   "cell_type": "code",
   "execution_count": 29,
   "metadata": {},
   "outputs": [
    {
     "data": {
      "text/plain": [
       "'😋'"
      ]
     },
     "execution_count": 29,
     "metadata": {},
     "output_type": "execute_result"
    }
   ],
   "source": [
    "chr(128523)"
   ]
  },
  {
   "cell_type": "code",
   "execution_count": 31,
   "metadata": {
    "collapsed": true
   },
   "outputs": [
    {
     "data": {
      "text/plain": [
       "['Life Made WI-Fi Touchscreen Photo Frame',\n",
       " 'LIFESTYLE',\n",
       " '1.9',\n",
       " '19',\n",
       " '3.0M',\n",
       " '1,000+',\n",
       " 'Free',\n",
       " '0',\n",
       " 'Everyone',\n",
       " 'Lifestyle',\n",
       " 'February 11, 2018',\n",
       " '1.0.19',\n",
       " '4.0 and up']"
      ]
     },
     "execution_count": 31,
     "metadata": {},
     "output_type": "execute_result"
    }
   ],
   "source": [
    "android[10472][-4] = \"Lifestyle\"\n",
    "android[10472]"
   ]
  },
  {
   "cell_type": "markdown",
   "metadata": {},
   "source": [
    "### Removing Duplicates Apps"
   ]
  },
  {
   "cell_type": "code",
   "execution_count": 32,
   "metadata": {},
   "outputs": [
    {
     "name": "stdout",
     "output_type": "stream",
     "text": [
      "['Instagram', 'SOCIAL', '4.5', '66577313', 'Varies with device', '1,000,000,000+', 'Free', '0', 'Teen', 'Social', 'July 31, 2018', 'Varies with device', 'Varies with device']\n",
      "['Instagram', 'SOCIAL', '4.5', '66577446', 'Varies with device', '1,000,000,000+', 'Free', '0', 'Teen', 'Social', 'July 31, 2018', 'Varies with device', 'Varies with device']\n",
      "['Instagram', 'SOCIAL', '4.5', '66577313', 'Varies with device', '1,000,000,000+', 'Free', '0', 'Teen', 'Social', 'July 31, 2018', 'Varies with device', 'Varies with device']\n",
      "['Instagram', 'SOCIAL', '4.5', '66509917', 'Varies with device', '1,000,000,000+', 'Free', '0', 'Teen', 'Social', 'July 31, 2018', 'Varies with device', 'Varies with device']\n"
     ]
    }
   ],
   "source": [
    "for i in android:\n",
    "    if i[0] == \"Instagram\":\n",
    "        print(i)"
   ]
  },
  {
   "cell_type": "code",
   "execution_count": 34,
   "metadata": {},
   "outputs": [],
   "source": [
    "duplicate_app = [] # [Instgram]\n",
    "unique_app = [] # [Instgram]\n",
    "\n",
    "for i in android:\n",
    "    app = i[0] # Instagram\n",
    "    if app in unique_app: # \n",
    "        duplicate_app.append(app)\n",
    "    else:\n",
    "        unique_app.append(app) # Instgram"
   ]
  },
  {
   "cell_type": "code",
   "execution_count": 36,
   "metadata": {},
   "outputs": [
    {
     "data": {
      "text/plain": [
       "1181"
      ]
     },
     "execution_count": 36,
     "metadata": {},
     "output_type": "execute_result"
    }
   ],
   "source": [
    "len(duplicate_app)"
   ]
  },
  {
   "cell_type": "code",
   "execution_count": 37,
   "metadata": {},
   "outputs": [
    {
     "data": {
      "text/plain": [
       "9660"
      ]
     },
     "execution_count": 37,
     "metadata": {},
     "output_type": "execute_result"
    }
   ],
   "source": [
    "len(unique_app)"
   ]
  },
  {
   "cell_type": "markdown",
   "metadata": {},
   "source": [
    "* SET"
   ]
  },
  {
   "cell_type": "code",
   "execution_count": 43,
   "metadata": {},
   "outputs": [
    {
     "data": {
      "text/plain": [
       "set"
      ]
     },
     "execution_count": 43,
     "metadata": {},
     "output_type": "execute_result"
    }
   ],
   "source": [
    "st = {\"Anas\",\"Mubashir\",\"Daniyal\",\"Daniyal\"}\n",
    "type(st)"
   ]
  },
  {
   "cell_type": "code",
   "execution_count": 44,
   "metadata": {},
   "outputs": [
    {
     "data": {
      "text/plain": [
       "{'Anas', 'Daniyal', 'Mubashir'}"
      ]
     },
     "execution_count": 44,
     "metadata": {},
     "output_type": "execute_result"
    }
   ],
   "source": [
    "st"
   ]
  },
  {
   "cell_type": "code",
   "execution_count": 45,
   "metadata": {},
   "outputs": [
    {
     "data": {
      "text/plain": [
       "10841"
      ]
     },
     "execution_count": 45,
     "metadata": {},
     "output_type": "execute_result"
    }
   ],
   "source": [
    "app_name = []\n",
    "\n",
    "for i in android:\n",
    "    app_name.append(i[0])\n",
    "\n",
    "len(app_name)"
   ]
  },
  {
   "cell_type": "code",
   "execution_count": 46,
   "metadata": {},
   "outputs": [
    {
     "data": {
      "text/plain": [
       "9660"
      ]
     },
     "execution_count": 46,
     "metadata": {},
     "output_type": "execute_result"
    }
   ],
   "source": [
    "unique = set(app_name)\n",
    "len(unique)"
   ]
  },
  {
   "cell_type": "code",
   "execution_count": 47,
   "metadata": {},
   "outputs": [
    {
     "data": {
      "text/plain": [
       "1181"
      ]
     },
     "execution_count": 47,
     "metadata": {},
     "output_type": "execute_result"
    }
   ],
   "source": [
    "10841 - 9660"
   ]
  },
  {
   "cell_type": "code",
   "execution_count": 48,
   "metadata": {},
   "outputs": [
    {
     "name": "stdout",
     "output_type": "stream",
     "text": [
      "['Instagram', 'SOCIAL', '4.5', '66577313', 'Varies with device', '1,000,000,000+', 'Free', '0', 'Teen', 'Social', 'July 31, 2018', 'Varies with device', 'Varies with device']\n",
      "['Instagram', 'SOCIAL', '4.5', '66577446', 'Varies with device', '1,000,000,000+', 'Free', '0', 'Teen', 'Social', 'July 31, 2018', 'Varies with device', 'Varies with device']\n",
      "['Instagram', 'SOCIAL', '4.5', '66577313', 'Varies with device', '1,000,000,000+', 'Free', '0', 'Teen', 'Social', 'July 31, 2018', 'Varies with device', 'Varies with device']\n",
      "['Instagram', 'SOCIAL', '4.5', '66509917', 'Varies with device', '1,000,000,000+', 'Free', '0', 'Teen', 'Social', 'July 31, 2018', 'Varies with device', 'Varies with device']\n"
     ]
    }
   ],
   "source": [
    "for i in android:\n",
    "    if i[0] == \"Instagram\":\n",
    "        print(i)"
   ]
  },
  {
   "cell_type": "code",
   "execution_count": 50,
   "metadata": {},
   "outputs": [
    {
     "name": "stdout",
     "output_type": "stream",
     "text": [
      "['App', 'Category', 'Rating', 'Reviews', 'Size', 'Installs', 'Type', 'Price', 'Content Rating', 'Genres', 'Last Updated', 'Current Ver', 'Android Ver']\n"
     ]
    }
   ],
   "source": [
    "print(header)"
   ]
  },
  {
   "cell_type": "code",
   "execution_count": null,
   "metadata": {},
   "outputs": [],
   "source": []
  }
 ],
 "metadata": {
  "kernelspec": {
   "display_name": "Python 3",
   "language": "python",
   "name": "python3"
  },
  "language_info": {
   "codemirror_mode": {
    "name": "ipython",
    "version": 3
   },
   "file_extension": ".py",
   "mimetype": "text/x-python",
   "name": "python",
   "nbconvert_exporter": "python",
   "pygments_lexer": "ipython3",
   "version": "3.8.5"
  }
 },
 "nbformat": 4,
 "nbformat_minor": 4
}
