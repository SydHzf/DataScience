{
 "cells": [
  {
   "cell_type": "code",
   "execution_count": 1,
   "metadata": {},
   "outputs": [],
   "source": [
    "faroot = ['keely','sheeb' , 'aam ', 'keely','sheeb' ,'sheeb' , 'aam ', 'aaro', 'sheeb' , 'aam ']"
   ]
  },
  {
   "cell_type": "code",
   "execution_count": 2,
   "metadata": {},
   "outputs": [],
   "source": [
    "fre = {'aam':0}"
   ]
  },
  {
   "cell_type": "code",
   "execution_count": 3,
   "metadata": {},
   "outputs": [],
   "source": [
    "fre = {}"
   ]
  },
  {
   "cell_type": "code",
   "execution_count": 4,
   "metadata": {},
   "outputs": [],
   "source": [
    "for i in faroot:\n",
    "    if i  not in fre:\n",
    "        fre[i] = 1\n",
    "    else:\n",
    "        fre[i]+=1\n",
    "        "
   ]
  },
  {
   "cell_type": "code",
   "execution_count": 5,
   "metadata": {},
   "outputs": [
    {
     "data": {
      "text/plain": [
       "{'keely': 2, 'sheeb': 4, 'aam ': 3, 'aaro': 1}"
      ]
     },
     "execution_count": 5,
     "metadata": {},
     "output_type": "execute_result"
    }
   ],
   "source": [
    "fre"
   ]
  },
  {
   "cell_type": "code",
   "execution_count": 6,
   "metadata": {},
   "outputs": [],
   "source": [
    "import csv\n",
    "opn = open(\"AppleStore.csv\", encoding=\"utf-8\")\n",
    "read_file = csv.reader(opn)\n",
    "dataset = list(read_file)"
   ]
  },
  {
   "cell_type": "code",
   "execution_count": 7,
   "metadata": {},
   "outputs": [
    {
     "data": {
      "text/plain": [
       "4"
      ]
     },
     "execution_count": 7,
     "metadata": {},
     "output_type": "execute_result"
    }
   ],
   "source": [
    "AppleStore = dataset[1:]\n",
    "dataset[0].index(\"price\")"
   ]
  },
  {
   "cell_type": "code",
   "execution_count": 16,
   "metadata": {},
   "outputs": [],
   "source": [
    "free_tab = {}\n",
    "c=1\n",
    "free_tab = {i[11]:(c+1 if i[11] in free_tab else 1 ) for i in AppleStore}\n",
    "# for i in AppleStore:\n",
    "#     if i[11] in free_tab:\n",
    "#         free_tab[i[11]] +=1\n",
    "#     else:\n",
    "#         free_tab[i[11]] =1\n",
    "        "
   ]
  },
  {
   "cell_type": "code",
   "execution_count": 15,
   "metadata": {},
   "outputs": [
    {
     "data": {
      "text/plain": [
       "{'Social Networking': 1,\n",
       " 'Photo & Video': 1,\n",
       " 'Games': 1,\n",
       " 'Music': 1,\n",
       " 'Reference': 1,\n",
       " 'Health & Fitness': 1,\n",
       " 'Weather': 1,\n",
       " 'Utilities': 1,\n",
       " 'Travel': 1,\n",
       " 'Shopping': 1,\n",
       " 'News': 1,\n",
       " 'Navigation': 1,\n",
       " 'Lifestyle': 1,\n",
       " 'Entertainment': 1,\n",
       " 'Food & Drink': 1,\n",
       " 'Sports': 1,\n",
       " 'Book': 1,\n",
       " 'Finance': 1,\n",
       " 'Education': 1,\n",
       " 'Productivity': 1,\n",
       " 'Business': 1,\n",
       " 'Catalogs': 1,\n",
       " 'Medical': 1}"
      ]
     },
     "execution_count": 15,
     "metadata": {},
     "output_type": "execute_result"
    }
   ],
   "source": [
    "free_tab "
   ]
  },
  {
   "cell_type": "code",
   "execution_count": null,
   "metadata": {},
   "outputs": [],
   "source": [
    "fre_tab = {}\n",
    "for i in AppleStore:\n",
    "    prime_gen=i[11]\n",
    "    price = i[4]\n",
    "    if i[11] not in fre_tab:\n",
    "        fre_tab[prime_gen] = 1\n",
    "    else :\n",
    "        fre_tab[prime_gen] += 1 \n"
   ]
  },
  {
   "cell_type": "code",
   "execution_count": null,
   "metadata": {},
   "outputs": [],
   "source": [
    "fre_tab;"
   ]
  },
  {
   "cell_type": "code",
   "execution_count": null,
   "metadata": {},
   "outputs": [],
   "source": [
    "dataset[0].index(\"user_rating\")\n"
   ]
  },
  {
   "cell_type": "code",
   "execution_count": null,
   "metadata": {},
   "outputs": [],
   "source": [
    "paid_tab = {}\n",
    "for i in AppleStore:\n",
    "    prime_gen=i[11]\n",
    "    price = float(i[4])\n",
    "    user_rating = float(i[7])\n",
    "    if price != 0 and user_rating > 4:\n",
    "        if i[11] not in paid_tab:\n",
    "            paid_tab[prime_gen] = 1\n",
    "        else :\n",
    "            paid_tab[prime_gen] += 1 \n",
    "        print(price,user_rating)\n"
   ]
  },
  {
   "cell_type": "code",
   "execution_count": null,
   "metadata": {},
   "outputs": [],
   "source": [
    "paid_tab"
   ]
  },
  {
   "cell_type": "code",
   "execution_count": null,
   "metadata": {},
   "outputs": [],
   "source": []
  }
 ],
 "metadata": {
  "kernelspec": {
   "display_name": "Python 3",
   "language": "python",
   "name": "python3"
  },
  "language_info": {
   "codemirror_mode": {
    "name": "ipython",
    "version": 3
   },
   "file_extension": ".py",
   "mimetype": "text/x-python",
   "name": "python",
   "nbconvert_exporter": "python",
   "pygments_lexer": "ipython3",
   "version": "3.8.5"
  }
 },
 "nbformat": 4,
 "nbformat_minor": 4
}
