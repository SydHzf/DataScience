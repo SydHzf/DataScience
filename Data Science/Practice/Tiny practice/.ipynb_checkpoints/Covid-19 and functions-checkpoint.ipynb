{
 "cells": [
  {
   "cell_type": "code",
   "execution_count": 1,
   "metadata": {},
   "outputs": [],
   "source": [
    "import csv"
   ]
  },
  {
   "cell_type": "code",
   "execution_count": 2,
   "metadata": {},
   "outputs": [],
   "source": [
    "dataset = list(csv.reader(open(\"2019_nCoV_data.csv\", encoding=\"utf-8\")))"
   ]
  },
  {
   "cell_type": "code",
   "execution_count": 3,
   "metadata": {},
   "outputs": [],
   "source": [
    "header = dataset[0]"
   ]
  },
  {
   "cell_type": "code",
   "execution_count": 4,
   "metadata": {},
   "outputs": [
    {
     "data": {
      "text/plain": [
       "['Sno',\n",
       " 'Date',\n",
       " 'Province/State',\n",
       " 'Country',\n",
       " 'Last Update',\n",
       " 'Confirmed',\n",
       " 'Deaths',\n",
       " 'Recovered']"
      ]
     },
     "execution_count": 4,
     "metadata": {},
     "output_type": "execute_result"
    }
   ],
   "source": [
    "header"
   ]
  },
  {
   "cell_type": "code",
   "execution_count": 5,
   "metadata": {},
   "outputs": [
    {
     "data": {
      "text/plain": [
       "3"
      ]
     },
     "execution_count": 5,
     "metadata": {},
     "output_type": "execute_result"
    }
   ],
   "source": [
    "header.index(\"Country\")\n"
   ]
  },
  {
   "cell_type": "code",
   "execution_count": 6,
   "metadata": {},
   "outputs": [
    {
     "data": {
      "text/plain": [
       "5"
      ]
     },
     "execution_count": 6,
     "metadata": {},
     "output_type": "execute_result"
    }
   ],
   "source": [
    "header.index(\"Confirmed\")\n"
   ]
  },
  {
   "cell_type": "code",
   "execution_count": 7,
   "metadata": {},
   "outputs": [
    {
     "data": {
      "text/plain": [
       "6"
      ]
     },
     "execution_count": 7,
     "metadata": {},
     "output_type": "execute_result"
    }
   ],
   "source": [
    "header.index(\"Deaths\")\n"
   ]
  },
  {
   "cell_type": "code",
   "execution_count": 8,
   "metadata": {},
   "outputs": [
    {
     "data": {
      "text/plain": [
       "7"
      ]
     },
     "execution_count": 8,
     "metadata": {},
     "output_type": "execute_result"
    }
   ],
   "source": [
    "header.index(\"Recovered\")"
   ]
  },
  {
   "cell_type": "code",
   "execution_count": 9,
   "metadata": {},
   "outputs": [],
   "source": [
    "corona_virus = dataset[1:]"
   ]
  },
  {
   "cell_type": "code",
   "execution_count": 10,
   "metadata": {},
   "outputs": [],
   "source": [
    "pakistan = {'confirm':0,\"recover\":0,'death':0}\n",
    "record = 0\n",
    "for i in corona_virus:\n",
    "    country = i[3]\n",
    "    confirm = float(i[5])\n",
    "    death = float(i[6])\n",
    "    recover = float(i[7])\n",
    "    if country == 'Pakistan':\n",
    "        record+=1\n",
    "        pakistan[\"confirm\"] +=confirm\n",
    "        pakistan[\"recover\"] +=recover\n",
    "        pakistan[\"death\"] +=death"
   ]
  },
  {
   "cell_type": "code",
   "execution_count": 11,
   "metadata": {},
   "outputs": [
    {
     "data": {
      "text/plain": [
       "{'confirm': 1850.0, 'recover': 45.0, 'death': 5.0}"
      ]
     },
     "execution_count": 11,
     "metadata": {},
     "output_type": "execute_result"
    }
   ],
   "source": [
    "pakistan\n"
   ]
  },
  {
   "cell_type": "code",
   "execution_count": 12,
   "metadata": {},
   "outputs": [
    {
     "data": {
      "text/plain": [
       "24"
      ]
     },
     "execution_count": 12,
     "metadata": {},
     "output_type": "execute_result"
    }
   ],
   "source": [
    "record"
   ]
  },
  {
   "cell_type": "markdown",
   "metadata": {},
   "source": [
    "# Frequency table"
   ]
  },
  {
   "cell_type": "code",
   "execution_count": 16,
   "metadata": {},
   "outputs": [],
   "source": [
    "def freq_table(data, col_no):\n",
    "    fre = {}\n",
    "    for i in data:\n",
    "        x = i[col_no]\n",
    "        if x in fre:\n",
    "            fre[x]+=1\n",
    "        else:\n",
    "            fre[x] = 1\n",
    "    print(fre)"
   ]
  },
  {
   "cell_type": "code",
   "execution_count": 17,
   "metadata": {},
   "outputs": [
    {
     "name": "stdout",
     "output_type": "stream",
     "text": [
      "{'China': 364, 'US': 1502, 'Japan': 59, 'Thailand': 59, 'South Korea': 48, 'Mainland China': 1486, 'Hong Kong': 47, 'Macau': 47, 'Taiwan': 48, 'Singapore': 58, 'Philippines': 52, 'Malaysia': 57, 'Vietnam': 57, 'Australia': 306, 'Mexico': 23, 'Brazil': 25, 'France': 109, 'Nepal': 56, 'Canada': 231, 'Cambodia': 54, 'Sri Lanka': 54, 'Ivory Coast': 1, 'Germany': 54, 'Finland': 52, 'United Arab Emirates': 52, 'India': 51, 'Italy': 51, 'Sweden': 50, 'Russia': 49, 'Spain': 50, 'UK': 40, 'Belgium': 46, 'Others': 33, 'Egypt': 36, 'Iran': 30, 'Israel': 29, 'Lebanon': 29, 'Iraq': 27, 'Oman': 26, 'Afghanistan': 26, 'Bahrain': 26, 'Kuwait': 26, 'Austria': 25, 'Algeria': 25, 'Croatia': 25, 'Switzerland': 25, 'Pakistan': 24, 'Georgia': 24, 'Greece': 24, 'North Macedonia': 24, 'Norway': 24, 'Romania': 24, 'Denmark': 35, 'Estonia': 23, 'Netherlands': 32, 'San Marino': 23, ' Azerbaijan': 1, 'Belarus': 22, 'Iceland': 22, 'Lithuania': 22, 'New Zealand': 22, 'Nigeria': 22, 'North Ireland': 1, 'Ireland': 21, 'Luxembourg': 21, 'Monaco': 21, 'Qatar': 21, 'Ecuador': 20, 'Azerbaijan': 20, 'Czech Republic': 10, 'Armenia': 20, 'Dominican Republic': 20, 'Indonesia': 19, 'Portugal': 19, 'Andorra': 19, 'Latvia': 19, 'Morocco': 19, 'Saudi Arabia': 19, 'Senegal': 19, 'Argentina': 18, 'Chile': 18, 'Jordan': 18, 'Ukraine': 18, 'Saint Barthelemy': 7, 'Hungary': 17, 'Faroe Islands': 7, 'Gibraltar': 7, 'Liechtenstein': 17, 'Poland': 17, 'Tunisia': 17, 'Palestine': 5, 'Bosnia and Herzegovina': 16, 'Slovenia': 16, 'South Africa': 16, '03/06/2020 22:00': 1, 'Bhutan': 15, 'Cameroon': 15, 'Colombia': 15, 'Costa Rica': 15, 'Peru': 15, 'Serbia': 15, 'Slovakia': 15, 'Togo': 15, 'Vatican City': 4, 'French Guiana': 13, 'Malta': 14, 'Martinique': 14, 'Republic of Ireland': 1, 'Bulgaria': 13, 'Maldives': 13, 'Bangladesh': 13, 'Moldova': 12, 'Paraguay': 13, 'Albania': 12, 'Cyprus': 12, 'St. Martin': 1, 'Brunei': 12, 'Iran (Islamic Republic of)': 1, 'Republic of Korea': 1, 'Hong Kong SAR': 1, 'Taipei and environs': 1, 'Viet Nam': 1, 'occupied Palestinian territory': 5, 'Macao SAR': 1, 'Russian Federation': 1, 'Republic of Moldova': 1, 'Saint Martin': 1, 'Burkina Faso': 11, 'Channel Islands': 1, 'Holy See': 11, 'Mongolia': 11, 'Panama': 11, 'Korea, South': 10, 'Cruise Ship': 10, 'United Kingdom': 41, 'Czechia': 10, 'Taiwan*': 9, 'Bolivia': 10, 'Honduras': 10, 'Congo (Kinshasa)': 10, \"Cote d'Ivoire\": 10, 'Jamaica': 10, 'Reunion': 10, 'Turkey': 10, 'Cuba': 9, 'Guyana': 9, 'Kazakhstan': 8, 'Cayman Islands': 3, 'Guadeloupe': 8, 'Ethiopia': 8, 'Sudan': 8, 'Guinea': 8, 'Antigua and Barbuda': 8, 'Aruba': 7, 'Kenya': 8, 'Uruguay': 7, 'Ghana': 7, 'Jersey': 7, 'Namibia': 7, 'Seychelles': 7, 'Trinidad and Tobago': 7, 'Venezuela': 7, 'Curacao': 2, 'Eswatini': 7, 'Gabon': 7, 'Guatemala': 7, 'Guernsey': 7, 'Mauritania': 7, 'Rwanda': 7, 'Saint Lucia': 7, 'Saint Vincent and the Grenadines': 7, 'Suriname': 7, 'Kosovo': 6, 'Central African Republic': 6, 'Congo (Brazzaville)': 6, 'Equatorial Guinea': 6, 'Uzbekistan': 6, 'Guam': 5, 'Puerto Rico': 5, 'Benin': 5, 'Greenland': 5, 'Liberia': 5, 'Mayotte': 5, 'Republic of the Congo': 5, 'Somalia': 5, 'Tanzania': 5, 'The Bahamas': 5, 'Barbados': 4, 'Montenegro': 4, 'The Gambia': 4, 'Kyrgyzstan': 3, 'Mauritius': 3, 'Zambia': 3, 'Djibouti': 3, 'Gambia, The': 3, 'Bahamas, The': 2, 'Chad': 2, 'El Salvador': 2, 'Fiji': 2, 'Nicaragua': 2, 'Madagascar': 1, 'Haiti': 1, 'Angola': 1, 'Cabo Verde': 1, 'Niger': 1, 'Papua New Guinea': 1, 'Zimbabwe': 1}\n"
     ]
    }
   ],
   "source": [
    "freq_table(corona_virus,3)"
   ]
  },
  {
   "cell_type": "code",
   "execution_count": null,
   "metadata": {},
   "outputs": [],
   "source": []
  }
 ],
 "metadata": {
  "kernelspec": {
   "display_name": "Python 3",
   "language": "python",
   "name": "python3"
  },
  "language_info": {
   "codemirror_mode": {
    "name": "ipython",
    "version": 3
   },
   "file_extension": ".py",
   "mimetype": "text/x-python",
   "name": "python",
   "nbconvert_exporter": "python",
   "pygments_lexer": "ipython3",
   "version": "3.8.5"
  }
 },
 "nbformat": 4,
 "nbformat_minor": 4
}
