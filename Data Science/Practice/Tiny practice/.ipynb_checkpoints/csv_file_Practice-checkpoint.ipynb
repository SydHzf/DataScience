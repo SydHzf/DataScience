{
 "cells": [
  {
   "cell_type": "code",
   "execution_count": 1,
   "metadata": {},
   "outputs": [],
   "source": [
    "import csv\n",
    "open_file= open(\"AppleStore.csv\", encoding=\"utf-8\")\n",
    "read_file=csv.reader(open_file)\n",
    "dataset=list(read_file)"
   ]
  },
  {
   "cell_type": "code",
   "execution_count": 2,
   "metadata": {},
   "outputs": [
    {
     "data": {
      "text/plain": [
       "['id',\n",
       " 'track_name',\n",
       " 'size_bytes',\n",
       " 'currency',\n",
       " 'price',\n",
       " 'rating_count_tot',\n",
       " 'rating_count_ver',\n",
       " 'user_rating',\n",
       " 'user_rating_ver',\n",
       " 'ver',\n",
       " 'cont_rating',\n",
       " 'prime_genre',\n",
       " 'sup_devices.num',\n",
       " 'ipadSc_urls.num',\n",
       " 'lang.num',\n",
       " 'vpp_lic']"
      ]
     },
     "execution_count": 2,
     "metadata": {},
     "output_type": "execute_result"
    }
   ],
   "source": [
    "dataset[0]"
   ]
  },
  {
   "cell_type": "code",
   "execution_count": 3,
   "metadata": {},
   "outputs": [
    {
     "data": {
      "text/plain": [
       "7"
      ]
     },
     "execution_count": 3,
     "metadata": {},
     "output_type": "execute_result"
    }
   ],
   "source": [
    "dataset[0].index('user_rating')"
   ]
  },
  {
   "cell_type": "code",
   "execution_count": 4,
   "metadata": {},
   "outputs": [],
   "source": [
    "user_rating=[]\n",
    "for i in dataset[1:]:\n",
    "    i[dataset[0].index('user_rating')]=float(i[dataset[0].index('user_rating')])\n",
    "    user_rating.append(i[ dataset[0].index('user_rating')])"
   ]
  },
  {
   "cell_type": "code",
   "execution_count": 5,
   "metadata": {},
   "outputs": [
    {
     "name": "stdout",
     "output_type": "stream",
     "text": [
      "3.526955675976101\n"
     ]
    }
   ],
   "source": [
    "avg = sum(user_rating)/len(user_rating)\n",
    "print(avg)"
   ]
  },
  {
   "cell_type": "code",
   "execution_count": 6,
   "metadata": {},
   "outputs": [
    {
     "name": "stdout",
     "output_type": "stream",
     "text": [
      "3.253577879672086\n"
     ]
    }
   ],
   "source": [
    "som=0\n",
    "ln=0\n",
    "for i in dataset[1:]:\n",
    "    value=float(i[8])\n",
    "    som+=value\n",
    "    ln+=1\n",
    "print(som/ln)"
   ]
  },
  {
   "cell_type": "code",
   "execution_count": 7,
   "metadata": {},
   "outputs": [
    {
     "name": "stdout",
     "output_type": "stream",
     "text": [
      "3.3767258382642997\n"
     ]
    }
   ],
   "source": [
    "free_app = []\n",
    "som,ln=0,0\n",
    "for i in dataset[1:]:\n",
    "    if float(i[4])==0:\n",
    "        som,ln = som+float(i[7]),ln+1\n",
    "print(som/ln)       \n"
   ]
  },
  {
   "cell_type": "code",
   "execution_count": 8,
   "metadata": {},
   "outputs": [
    {
     "name": "stdout",
     "output_type": "stream",
     "text": [
      "3.720948742438714\n"
     ]
    }
   ],
   "source": [
    "free_app = []\n",
    "som,ln=0,0\n",
    "for i in dataset[1:]:\n",
    "    if float(i[4])!=0:\n",
    "        som,ln = som+float(i[7]),ln+1\n",
    "print(som/ln)  "
   ]
  },
  {
   "cell_type": "code",
   "execution_count": 9,
   "metadata": {},
   "outputs": [
    {
     "ename": "SyntaxError",
     "evalue": "invalid syntax (<ipython-input-9-bbe33774cc63>, line 4)",
     "output_type": "error",
     "traceback": [
      "\u001b[1;36m  File \u001b[1;32m\"<ipython-input-9-bbe33774cc63>\"\u001b[1;36m, line \u001b[1;32m4\u001b[0m\n\u001b[1;33m    if float(i[4])==0 and i[11]='Games':\u001b[0m\n\u001b[1;37m                               ^\u001b[0m\n\u001b[1;31mSyntaxError\u001b[0m\u001b[1;31m:\u001b[0m invalid syntax\n"
     ]
    }
   ],
   "source": [
    "free_games = []\n",
    "som,ln=0,0\n",
    "for i in dataset[1:]:\n",
    "    if float(i[4])==0 and i[11]=='Games':\n",
    "        som,ln = som+float(i[7]),ln+1\n",
    "print(som/ln)  "
   ]
  },
  {
   "cell_type": "code",
   "execution_count": null,
   "metadata": {},
   "outputs": [],
   "source": [
    "free_games = []\n",
    "for i in dataset[1:]:\n",
    "    rating=float(i[7])\n",
    "    genre=i[11]\n",
    "    price=float(i[4])\n",
    "    if price==0.0 and (genre== \"Games\" or  \"Music\"):\n",
    "        print(genre)\n",
    "        print(price)\n",
    "        free_games.append(rating)"
   ]
  },
  {
   "cell_type": "code",
   "execution_count": null,
   "metadata": {},
   "outputs": [],
   "source": [
    "print(sum(free_games)/len(free_games))"
   ]
  },
  {
   "cell_type": "code",
   "execution_count": null,
   "metadata": {},
   "outputs": [],
   "source": [
    "a=1\n",
    "if 0<a<20:\n",
    "    print(\"1\")"
   ]
  },
  {
   "cell_type": "code",
   "execution_count": null,
   "metadata": {},
   "outputs": [],
   "source": [
    "dataset[0].append(\"Price Labelling\")\n",
    "print(dataset[0])"
   ]
  },
  {
   "cell_type": "code",
   "execution_count": null,
   "metadata": {},
   "outputs": [],
   "source": [
    "for i in dataset[1:]:\n",
    "    price = float(i[4])\n",
    "    if price == 0:\n",
    "        i.append('free')\n",
    "    elif 0<price<=20:\n",
    "        i.append('cheap')\n",
    "    elif 20<price<=50:\n",
    "        i.append('Affordable')\n",
    "    elif price>50:\n",
    "        i.append('Expansive')\n",
    "    else:\n",
    "        i.append('price not found')\n"
   ]
  },
  {
   "cell_type": "code",
   "execution_count": null,
   "metadata": {},
   "outputs": [],
   "source": [
    "dataset[0].append('user_rating_labelling')"
   ]
  },
  {
   "cell_type": "code",
   "execution_count": null,
   "metadata": {},
   "outputs": [],
   "source": [
    "for i in dataset[1:]:\n",
    "    "
   ]
  }
 ],
 "metadata": {
  "kernelspec": {
   "display_name": "Python 3",
   "language": "python",
   "name": "python3"
  },
  "language_info": {
   "codemirror_mode": {
    "name": "ipython",
    "version": 3
   },
   "file_extension": ".py",
   "mimetype": "text/x-python",
   "name": "python",
   "nbconvert_exporter": "python",
   "pygments_lexer": "ipython3",
   "version": "3.8.5"
  }
 },
 "nbformat": 4,
 "nbformat_minor": 4
}
