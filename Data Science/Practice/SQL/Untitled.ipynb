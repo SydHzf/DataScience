{
 "cells": [
  {
   "cell_type": "markdown",
   "metadata": {},
   "source": [
    "select *\n",
    "from employee\n",
    "where first_name like ( ma_k // mark% // %mark% )\n"
   ]
  },
  {
   "cell_type": "markdown",
   "metadata": {},
   "source": [
    "select * from employee where hire_date between \"1990-01-01\" and \"2000-01-01\";\n",
    "select * from employee where hire_date > \"1990-01-01\";\n",
    "select distinct first_name from employees;\n",
    "\n"
   ]
  },
  {
   "cell_type": "markdown",
   "metadata": {},
   "source": [
    "select e.emp_no , CONCATE(e.first_name,' ',e.last.name) \"Full Name\"\n",
    "from \n",
    "employee e\n",
    "Where e.emp_no in (select dm.emp_no from dept_manager dm)\n"
   ]
  },
  {
   "cell_type": "code",
   "execution_count": null,
   "metadata": {},
   "outputs": [],
   "source": []
  }
 ],
 "metadata": {
  "kernelspec": {
   "display_name": "Python 3",
   "language": "python",
   "name": "python3"
  },
  "language_info": {
   "codemirror_mode": {
    "name": "ipython",
    "version": 3
   },
   "file_extension": ".py",
   "mimetype": "text/x-python",
   "name": "python",
   "nbconvert_exporter": "python",
   "pygments_lexer": "ipython3",
   "version": "3.8.5"
  }
 },
 "nbformat": 4,
 "nbformat_minor": 4
}
