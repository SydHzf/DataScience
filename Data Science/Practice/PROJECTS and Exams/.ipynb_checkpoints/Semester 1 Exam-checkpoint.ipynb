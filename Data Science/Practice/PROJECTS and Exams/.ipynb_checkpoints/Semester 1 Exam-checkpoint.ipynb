{
 "cells": [
  {
   "cell_type": "markdown",
   "metadata": {},
   "source": [
    "# Test No. 01"
   ]
  },
  {
   "cell_type": "code",
   "execution_count": 1,
   "metadata": {},
   "outputs": [],
   "source": [
    "import pandas as pd\n",
    "import matplotlib.pyplot as plt\n",
    "import numpy as np"
   ]
  },
  {
   "cell_type": "code",
   "execution_count": 2,
   "metadata": {},
   "outputs": [],
   "source": [
    "dataset = pd.read_excel(\"Tesla sales data.xlsx\")"
   ]
  },
  {
   "cell_type": "code",
   "execution_count": 3,
   "metadata": {},
   "outputs": [
    {
     "data": {
      "text/html": [
       "<div>\n",
       "<style scoped>\n",
       "    .dataframe tbody tr th:only-of-type {\n",
       "        vertical-align: middle;\n",
       "    }\n",
       "\n",
       "    .dataframe tbody tr th {\n",
       "        vertical-align: top;\n",
       "    }\n",
       "\n",
       "    .dataframe thead th {\n",
       "        text-align: right;\n",
       "    }\n",
       "</style>\n",
       "<table border=\"1\" class=\"dataframe\">\n",
       "  <thead>\n",
       "    <tr style=\"text-align: right;\">\n",
       "      <th></th>\n",
       "      <th>Model</th>\n",
       "      <th>Period</th>\n",
       "      <th>Country</th>\n",
       "      <th>Purchase type</th>\n",
       "      <th>Version</th>\n",
       "      <th>Price</th>\n",
       "      <th>Gross Profit</th>\n",
       "    </tr>\n",
       "  </thead>\n",
       "  <tbody>\n",
       "    <tr>\n",
       "      <th>0</th>\n",
       "      <td>Model S</td>\n",
       "      <td>201601</td>\n",
       "      <td>US</td>\n",
       "      <td>Deposit</td>\n",
       "      <td>75D AWD</td>\n",
       "      <td>75700</td>\n",
       "      <td>22407.268985</td>\n",
       "    </tr>\n",
       "    <tr>\n",
       "      <th>1</th>\n",
       "      <td>Model S</td>\n",
       "      <td>201601</td>\n",
       "      <td>US</td>\n",
       "      <td>Cash purchase</td>\n",
       "      <td>75D AWD</td>\n",
       "      <td>75700</td>\n",
       "      <td>22407.268985</td>\n",
       "    </tr>\n",
       "    <tr>\n",
       "      <th>2</th>\n",
       "      <td>Model S</td>\n",
       "      <td>201601</td>\n",
       "      <td>US</td>\n",
       "      <td>Cash purchase</td>\n",
       "      <td>75 RWD</td>\n",
       "      <td>70700</td>\n",
       "      <td>20927.264428</td>\n",
       "    </tr>\n",
       "    <tr>\n",
       "      <th>3</th>\n",
       "      <td>Model S</td>\n",
       "      <td>201601</td>\n",
       "      <td>US</td>\n",
       "      <td>Cash purchase</td>\n",
       "      <td>75 RWD</td>\n",
       "      <td>70700</td>\n",
       "      <td>20927.264428</td>\n",
       "    </tr>\n",
       "    <tr>\n",
       "      <th>4</th>\n",
       "      <td>Model S</td>\n",
       "      <td>201601</td>\n",
       "      <td>US</td>\n",
       "      <td>Cash purchase</td>\n",
       "      <td>75 RWD</td>\n",
       "      <td>70700</td>\n",
       "      <td>20927.264428</td>\n",
       "    </tr>\n",
       "    <tr>\n",
       "      <th>...</th>\n",
       "      <td>...</td>\n",
       "      <td>...</td>\n",
       "      <td>...</td>\n",
       "      <td>...</td>\n",
       "      <td>...</td>\n",
       "      <td>...</td>\n",
       "      <td>...</td>\n",
       "    </tr>\n",
       "    <tr>\n",
       "      <th>85587</th>\n",
       "      <td>Model S</td>\n",
       "      <td>201710</td>\n",
       "      <td>US</td>\n",
       "      <td>Cash purchase</td>\n",
       "      <td>75 RWD</td>\n",
       "      <td>70700</td>\n",
       "      <td>15219.781180</td>\n",
       "    </tr>\n",
       "    <tr>\n",
       "      <th>85588</th>\n",
       "      <td>Model S</td>\n",
       "      <td>201710</td>\n",
       "      <td>US</td>\n",
       "      <td>Cash purchase</td>\n",
       "      <td>75 RWD</td>\n",
       "      <td>70700</td>\n",
       "      <td>15219.781180</td>\n",
       "    </tr>\n",
       "    <tr>\n",
       "      <th>85589</th>\n",
       "      <td>Model S</td>\n",
       "      <td>201710</td>\n",
       "      <td>US</td>\n",
       "      <td>Cash purchase</td>\n",
       "      <td>75 RWD</td>\n",
       "      <td>70700</td>\n",
       "      <td>15219.781180</td>\n",
       "    </tr>\n",
       "    <tr>\n",
       "      <th>85590</th>\n",
       "      <td>Model X</td>\n",
       "      <td>201710</td>\n",
       "      <td>US</td>\n",
       "      <td>Cash purchase</td>\n",
       "      <td>P90D</td>\n",
       "      <td>74000</td>\n",
       "      <td>18406.837858</td>\n",
       "    </tr>\n",
       "    <tr>\n",
       "      <th>85591</th>\n",
       "      <td>Model X</td>\n",
       "      <td>201710</td>\n",
       "      <td>US</td>\n",
       "      <td>Cash purchase</td>\n",
       "      <td>P90D</td>\n",
       "      <td>74000</td>\n",
       "      <td>15930.181150</td>\n",
       "    </tr>\n",
       "  </tbody>\n",
       "</table>\n",
       "<p>85592 rows × 7 columns</p>\n",
       "</div>"
      ],
      "text/plain": [
       "         Model  Period Country  Purchase type  Version  Price  Gross Profit\n",
       "0      Model S  201601      US        Deposit  75D AWD  75700  22407.268985\n",
       "1      Model S  201601      US  Cash purchase  75D AWD  75700  22407.268985\n",
       "2      Model S  201601      US  Cash purchase   75 RWD  70700  20927.264428\n",
       "3      Model S  201601      US  Cash purchase   75 RWD  70700  20927.264428\n",
       "4      Model S  201601      US  Cash purchase   75 RWD  70700  20927.264428\n",
       "...        ...     ...     ...            ...      ...    ...           ...\n",
       "85587  Model S  201710      US  Cash purchase   75 RWD  70700  15219.781180\n",
       "85588  Model S  201710      US  Cash purchase   75 RWD  70700  15219.781180\n",
       "85589  Model S  201710      US  Cash purchase   75 RWD  70700  15219.781180\n",
       "85590  Model X  201710      US  Cash purchase     P90D  74000  18406.837858\n",
       "85591  Model X  201710      US  Cash purchase     P90D  74000  15930.181150\n",
       "\n",
       "[85592 rows x 7 columns]"
      ]
     },
     "execution_count": 3,
     "metadata": {},
     "output_type": "execute_result"
    }
   ],
   "source": [
    "dataset"
   ]
  },
  {
   "cell_type": "code",
   "execution_count": 4,
   "metadata": {},
   "outputs": [
    {
     "data": {
      "text/plain": [
       "dtype('O')"
      ]
     },
     "execution_count": 4,
     "metadata": {},
     "output_type": "execute_result"
    }
   ],
   "source": [
    "dataset[\"Period\"] = dataset[\"Period\"].astype(str)\n",
    "dataset[\"Period\"].dtype"
   ]
  },
  {
   "cell_type": "code",
   "execution_count": 5,
   "metadata": {},
   "outputs": [],
   "source": [
    "dataset['Period'] = dataset['Period'].str[0:4]"
   ]
  },
  {
   "cell_type": "code",
   "execution_count": 6,
   "metadata": {},
   "outputs": [
    {
     "data": {
      "text/plain": [
       "0        2016\n",
       "1        2016\n",
       "2        2016\n",
       "3        2016\n",
       "4        2016\n",
       "         ... \n",
       "85587    2017\n",
       "85588    2017\n",
       "85589    2017\n",
       "85590    2017\n",
       "85591    2017\n",
       "Name: Period, Length: 85592, dtype: object"
      ]
     },
     "execution_count": 6,
     "metadata": {},
     "output_type": "execute_result"
    }
   ],
   "source": [
    "dataset[\"Period\"]"
   ]
  },
  {
   "cell_type": "code",
   "execution_count": 7,
   "metadata": {},
   "outputs": [
    {
     "data": {
      "text/html": [
       "<div>\n",
       "<style scoped>\n",
       "    .dataframe tbody tr th:only-of-type {\n",
       "        vertical-align: middle;\n",
       "    }\n",
       "\n",
       "    .dataframe tbody tr th {\n",
       "        vertical-align: top;\n",
       "    }\n",
       "\n",
       "    .dataframe thead th {\n",
       "        text-align: right;\n",
       "    }\n",
       "</style>\n",
       "<table border=\"1\" class=\"dataframe\">\n",
       "  <thead>\n",
       "    <tr style=\"text-align: right;\">\n",
       "      <th></th>\n",
       "      <th>Year</th>\n",
       "      <th>Model</th>\n",
       "      <th>Version</th>\n",
       "      <th>Unit Sold</th>\n",
       "      <th>Revenue</th>\n",
       "      <th>Gross Profit</th>\n",
       "      <th>COGS</th>\n",
       "    </tr>\n",
       "  </thead>\n",
       "  <tbody>\n",
       "  </tbody>\n",
       "</table>\n",
       "</div>"
      ],
      "text/plain": [
       "Empty DataFrame\n",
       "Columns: [Year, Model, Version, Unit Sold, Revenue, Gross Profit, COGS]\n",
       "Index: []"
      ]
     },
     "execution_count": 7,
     "metadata": {},
     "output_type": "execute_result"
    }
   ],
   "source": [
    "data = pd.DataFrame(columns=[\"Year\",\"Model\",\"Version\",\"Unit Sold\",\"Revenue\",\"Gross Profit\",\"COGS\"])\n",
    "data"
   ]
  },
  {
   "cell_type": "code",
   "execution_count": 8,
   "metadata": {},
   "outputs": [
    {
     "data": {
      "text/plain": [
       "array(['75D AWD', '75 RWD', '90D AWD', '60D AWD', '90D', 'P90D'],\n",
       "      dtype=object)"
      ]
     },
     "execution_count": 8,
     "metadata": {},
     "output_type": "execute_result"
    }
   ],
   "source": [
    "dataset['Version'].unique()"
   ]
  },
  {
   "cell_type": "code",
   "execution_count": 9,
   "metadata": {
    "scrolled": true
   },
   "outputs": [],
   "source": [
    "for i in dataset['Period'].unique():\n",
    "    for j in dataset['Model'].unique():\n",
    "        for k  in dataset[\"Version\"].unique():\n",
    "            temp = dataset.loc[(dataset[\"Period\"] == i) & (dataset[\"Model\"] == j) & (dataset[\"Version\"] == k)]\n",
    "            if not temp.empty:\n",
    "                unit = len(temp)\n",
    "                revenue = temp['Price'].sum()\n",
    "                gross_profit = temp['Gross Profit'].sum()\n",
    "                COGS = revenue-gross_profit\n",
    "                \n",
    "                data = data.append({\"Year\":i,\n",
    "                                    \"Model\":j,\n",
    "                                    \"Version\":k,\n",
    "                                    \"Unit Sold\":unit,\n",
    "                                    \"Revenue\":revenue,\n",
    "                                    \"Gross Profit\":gross_profit,\n",
    "                                    \"COGS\":COGS},\n",
    "                                    ignore_index=True)\n",
    "                 \n",
    "                \n"
   ]
  },
  {
   "cell_type": "code",
   "execution_count": 10,
   "metadata": {},
   "outputs": [
    {
     "data": {
      "text/html": [
       "<div>\n",
       "<style scoped>\n",
       "    .dataframe tbody tr th:only-of-type {\n",
       "        vertical-align: middle;\n",
       "    }\n",
       "\n",
       "    .dataframe tbody tr th {\n",
       "        vertical-align: top;\n",
       "    }\n",
       "\n",
       "    .dataframe thead th {\n",
       "        text-align: right;\n",
       "    }\n",
       "</style>\n",
       "<table border=\"1\" class=\"dataframe\">\n",
       "  <thead>\n",
       "    <tr style=\"text-align: right;\">\n",
       "      <th></th>\n",
       "      <th>Year</th>\n",
       "      <th>Model</th>\n",
       "      <th>Version</th>\n",
       "      <th>Unit Sold</th>\n",
       "      <th>Revenue</th>\n",
       "      <th>Gross Profit</th>\n",
       "      <th>COGS</th>\n",
       "    </tr>\n",
       "  </thead>\n",
       "  <tbody>\n",
       "    <tr>\n",
       "      <th>0</th>\n",
       "      <td>2016</td>\n",
       "      <td>Model S</td>\n",
       "      <td>75D AWD</td>\n",
       "      <td>4051</td>\n",
       "      <td>306660700</td>\n",
       "      <td>1.061040e+08</td>\n",
       "      <td>2.005567e+08</td>\n",
       "    </tr>\n",
       "    <tr>\n",
       "      <th>1</th>\n",
       "      <td>2016</td>\n",
       "      <td>Model S</td>\n",
       "      <td>75 RWD</td>\n",
       "      <td>8487</td>\n",
       "      <td>600030900</td>\n",
       "      <td>1.497561e+08</td>\n",
       "      <td>4.502748e+08</td>\n",
       "    </tr>\n",
       "    <tr>\n",
       "      <th>2</th>\n",
       "      <td>2016</td>\n",
       "      <td>Model S</td>\n",
       "      <td>90D AWD</td>\n",
       "      <td>2199</td>\n",
       "      <td>195051300</td>\n",
       "      <td>6.398013e+07</td>\n",
       "      <td>1.310712e+08</td>\n",
       "    </tr>\n",
       "    <tr>\n",
       "      <th>3</th>\n",
       "      <td>2016</td>\n",
       "      <td>Model S</td>\n",
       "      <td>60D AWD</td>\n",
       "      <td>4611</td>\n",
       "      <td>342136200</td>\n",
       "      <td>9.914472e+07</td>\n",
       "      <td>2.429915e+08</td>\n",
       "    </tr>\n",
       "    <tr>\n",
       "      <th>4</th>\n",
       "      <td>2016</td>\n",
       "      <td>Model X</td>\n",
       "      <td>90D</td>\n",
       "      <td>6765</td>\n",
       "      <td>541200000</td>\n",
       "      <td>1.500089e+08</td>\n",
       "      <td>3.911911e+08</td>\n",
       "    </tr>\n",
       "    <tr>\n",
       "      <th>5</th>\n",
       "      <td>2016</td>\n",
       "      <td>Model X</td>\n",
       "      <td>P90D</td>\n",
       "      <td>17137</td>\n",
       "      <td>1268138000</td>\n",
       "      <td>3.804198e+08</td>\n",
       "      <td>8.877182e+08</td>\n",
       "    </tr>\n",
       "    <tr>\n",
       "      <th>6</th>\n",
       "      <td>2017</td>\n",
       "      <td>Model S</td>\n",
       "      <td>75D AWD</td>\n",
       "      <td>4609</td>\n",
       "      <td>348901300</td>\n",
       "      <td>1.204282e+08</td>\n",
       "      <td>2.284731e+08</td>\n",
       "    </tr>\n",
       "    <tr>\n",
       "      <th>7</th>\n",
       "      <td>2017</td>\n",
       "      <td>Model S</td>\n",
       "      <td>75 RWD</td>\n",
       "      <td>8005</td>\n",
       "      <td>565953500</td>\n",
       "      <td>1.396392e+08</td>\n",
       "      <td>4.263143e+08</td>\n",
       "    </tr>\n",
       "    <tr>\n",
       "      <th>8</th>\n",
       "      <td>2017</td>\n",
       "      <td>Model S</td>\n",
       "      <td>90D AWD</td>\n",
       "      <td>2242</td>\n",
       "      <td>198865400</td>\n",
       "      <td>6.337160e+07</td>\n",
       "      <td>1.354938e+08</td>\n",
       "    </tr>\n",
       "    <tr>\n",
       "      <th>9</th>\n",
       "      <td>2017</td>\n",
       "      <td>Model S</td>\n",
       "      <td>60D AWD</td>\n",
       "      <td>4421</td>\n",
       "      <td>328038200</td>\n",
       "      <td>9.637541e+07</td>\n",
       "      <td>2.316628e+08</td>\n",
       "    </tr>\n",
       "    <tr>\n",
       "      <th>10</th>\n",
       "      <td>2017</td>\n",
       "      <td>Model X</td>\n",
       "      <td>90D</td>\n",
       "      <td>6547</td>\n",
       "      <td>523760000</td>\n",
       "      <td>1.448825e+08</td>\n",
       "      <td>3.788775e+08</td>\n",
       "    </tr>\n",
       "    <tr>\n",
       "      <th>11</th>\n",
       "      <td>2017</td>\n",
       "      <td>Model X</td>\n",
       "      <td>P90D</td>\n",
       "      <td>16518</td>\n",
       "      <td>1222332000</td>\n",
       "      <td>3.642491e+08</td>\n",
       "      <td>8.580829e+08</td>\n",
       "    </tr>\n",
       "  </tbody>\n",
       "</table>\n",
       "</div>"
      ],
      "text/plain": [
       "    Year    Model  Version Unit Sold     Revenue  Gross Profit          COGS\n",
       "0   2016  Model S  75D AWD      4051   306660700  1.061040e+08  2.005567e+08\n",
       "1   2016  Model S   75 RWD      8487   600030900  1.497561e+08  4.502748e+08\n",
       "2   2016  Model S  90D AWD      2199   195051300  6.398013e+07  1.310712e+08\n",
       "3   2016  Model S  60D AWD      4611   342136200  9.914472e+07  2.429915e+08\n",
       "4   2016  Model X      90D      6765   541200000  1.500089e+08  3.911911e+08\n",
       "5   2016  Model X     P90D     17137  1268138000  3.804198e+08  8.877182e+08\n",
       "6   2017  Model S  75D AWD      4609   348901300  1.204282e+08  2.284731e+08\n",
       "7   2017  Model S   75 RWD      8005   565953500  1.396392e+08  4.263143e+08\n",
       "8   2017  Model S  90D AWD      2242   198865400  6.337160e+07  1.354938e+08\n",
       "9   2017  Model S  60D AWD      4421   328038200  9.637541e+07  2.316628e+08\n",
       "10  2017  Model X      90D      6547   523760000  1.448825e+08  3.788775e+08\n",
       "11  2017  Model X     P90D     16518  1222332000  3.642491e+08  8.580829e+08"
      ]
     },
     "execution_count": 10,
     "metadata": {},
     "output_type": "execute_result"
    }
   ],
   "source": [
    "data"
   ]
  },
  {
   "cell_type": "code",
   "execution_count": 11,
   "metadata": {},
   "outputs": [
    {
     "data": {
      "text/plain": [
       "(10     90D\n",
       " 11    P90D\n",
       " Name: Version, dtype: object,\n",
       " 'Model X',\n",
       " '2017')"
      ]
     },
     "execution_count": 11,
     "metadata": {},
     "output_type": "execute_result"
    }
   ],
   "source": [
    "n = data.loc[(data['Model'] == j) & (data['Year'] == i)]['Version']\n",
    "n,j,i"
   ]
  },
  {
   "cell_type": "code",
   "execution_count": 12,
   "metadata": {},
   "outputs": [
    {
     "data": {
      "text/plain": [
       "[2, array([0. , 0.5, 1. , 1.5, 2. , 2.5, 3. , 3.5, 4. , 4.5, 5. ]), array([0])]"
      ]
     },
     "execution_count": 12,
     "metadata": {},
     "output_type": "execute_result"
    }
   ],
   "source": [
    "x = np.linspace(0, 5, 11)\n",
    "y = np.arange(0,5,11)\n",
    "n = len(data.loc[(data['Model'] == j) & (data['Year'] == i)]['Version'])\n",
    "[n,x,y]"
   ]
  },
  {
   "cell_type": "code",
   "execution_count": 13,
   "metadata": {},
   "outputs": [
    {
     "name": "stdout",
     "output_type": "stream",
     "text": [
      "2016 Model S\n",
      "2016 Model X\n",
      "2017 Model S\n",
      "2017 Model X\n"
     ]
    },
    {
     "data": {
      "image/png": "[encoded data removed]",
      "text/plain": [
       "<Figure size 864x864 with 4 Axes>"
      ]
     },
     "metadata": {
      "needs_background": "light"
     },
     "output_type": "display_data"
    }
   ],
   "source": [
    "fig, ax = plt.subplots(len(data['Year'].unique()),len(data['Model'].unique()), figsize=(12,12))\n",
    "\n",
    "c = 0\n",
    "for i in data['Year'].unique():\n",
    "    d = 0\n",
    "    for j in data['Model'].unique():\n",
    "        n = len(data.loc[(data['Model'] == j) & (data['Year'] == i)]['Version'])\n",
    "        x = np.arange(0,n)\n",
    "        height = data.loc[(data['Model'] == j) & (data['Year'] == i)]\n",
    "        print(i,j)\n",
    "        if j == \"Model S\":\n",
    "            ax[c][d].bar(x,height[\"Unit Sold\"],width = 0.7,color = (1, 51/255, 0),edgecolor = \"black\")\n",
    "        else:\n",
    "            ax[c][d].bar(x,height[\"Unit Sold\"],width = 0.7,color = (0, 102/255,1),edgecolor = \"black\")\n",
    "        ax[c][d].set_xlabel(i)\n",
    "        ax[c][d].set_ylabel(\"Unit sold\")\n",
    "        ax[c][d].set_title(j)\n",
    "        ax[c][d].set_xticks(x)\n",
    "        ax[c][d].set_xticklabels(height[\"Version\"].unique())\n",
    "        d +=1\n",
    "    c+=1\n",
    "plt.savefig(\"exam1.jpg\")\n",
    "plt.show()"
   ]
  },
  {
   "cell_type": "code",
   "execution_count": 14,
   "metadata": {},
   "outputs": [],
   "source": [
    "!jt -t oceans16 -f loraserif"
   ]
  },
  {
   "cell_type": "code",
   "execution_count": 15,
   "metadata": {},
   "outputs": [
    {
     "name": "stdout",
     "output_type": "stream",
     "text": [
      "Reset css and font defaults in:\n",
      "C:\\Users\\S_Huzaifa_Ali_H\\.jupyter\\custom &\n",
      "C:\\Users\\S_Huzaifa_Ali_H\\AppData\\Roaming\\jupyter\\nbextensions\n"
     ]
    }
   ],
   "source": [
    "!jt -r"
   ]
  },
  {
   "cell_type": "code",
   "execution_count": null,
   "metadata": {},
   "outputs": [],
   "source": []
  }
 ],
 "metadata": {
  "kernelspec": {
   "display_name": "Python 3",
   "language": "python",
   "name": "python3"
  },
  "language_info": {
   "codemirror_mode": {
    "name": "ipython",
    "version": 3
   },
   "file_extension": ".py",
   "mimetype": "text/x-python",
   "name": "python",
   "nbconvert_exporter": "python",
   "pygments_lexer": "ipython3",
   "version": "3.8.5"
  }
 },
 "nbformat": 4,
 "nbformat_minor": 4
}
