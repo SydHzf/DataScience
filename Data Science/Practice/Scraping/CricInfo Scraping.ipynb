{
 "cells": [
  {
   "cell_type": "code",
   "execution_count": 1,
   "metadata": {},
   "outputs": [
    {
     "data": {
      "text/plain": [
       "<Response [200]>"
      ]
     },
     "execution_count": 1,
     "metadata": {},
     "output_type": "execute_result"
    }
   ],
   "source": [
    "import requests\n",
    "\n",
    "from bs4 import BeautifulSoup\n",
    "\n",
    "base_site = 'https://www.espncricinfo.com/rankings/content/page/211271.html'\n",
    "\n",
    "response = requests.get(base_site)\n",
    "response"
   ]
  },
  {
   "cell_type": "code",
   "execution_count": 2,
   "metadata": {},
   "outputs": [],
   "source": [
    "html = response.text\n",
    "soup = BeautifulSoup(html,\"html.parser\")"
   ]
  },
  {
   "cell_type": "code",
   "execution_count": null,
   "metadata": {},
   "outputs": [],
   "source": []
  },
  {
   "cell_type": "code",
   "execution_count": 3,
   "metadata": {},
   "outputs": [],
   "source": [
    "all_tables = soup.find_all(\"table\",class_ = \"StoryengineTable\")"
   ]
  },
  {
   "cell_type": "code",
   "execution_count": 4,
   "metadata": {},
   "outputs": [],
   "source": [
    "odi = all_tables[1]"
   ]
  },
  {
   "cell_type": "code",
   "execution_count": 5,
   "metadata": {},
   "outputs": [
    {
     "data": {
      "text/plain": [
       "'10 July 2021'"
      ]
     },
     "execution_count": 5,
     "metadata": {},
     "output_type": "execute_result"
    }
   ],
   "source": [
    "odi.caption.text"
   ]
  },
  {
   "cell_type": "code",
   "execution_count": 6,
   "metadata": {},
   "outputs": [],
   "source": [
    "wt20 = all_tables[-1]"
   ]
  },
  {
   "cell_type": "code",
   "execution_count": 7,
   "metadata": {},
   "outputs": [],
   "source": [
    "col = []\n",
    "for i in wt20.find_all(\"th\"):\n",
    "    col.append(i.text)"
   ]
  },
  {
   "cell_type": "code",
   "execution_count": 8,
   "metadata": {},
   "outputs": [
    {
     "data": {
      "text/plain": [
       "['Pos', 'Team', 'Matches', 'Points', 'Rating']"
      ]
     },
     "execution_count": 8,
     "metadata": {},
     "output_type": "execute_result"
    }
   ],
   "source": [
    "col"
   ]
  },
  {
   "cell_type": "markdown",
   "metadata": {},
   "source": [
    "##### tr count bhi krskty hain"
   ]
  },
  {
   "cell_type": "code",
   "execution_count": 9,
   "metadata": {},
   "outputs": [
    {
     "data": {
      "text/plain": [
       "[<td class=\"left\">1</td>,\n",
       " <td class=\"left\">Australia Women</td>,\n",
       " <td class=\"left\">31</td>,\n",
       " <td class=\"left\">8967</td>,\n",
       " <td class=\"left\">289</td>,\n",
       " <td class=\"left\">2</td>,\n",
       " <td class=\"left\">England Women</td>,\n",
       " <td class=\"left\">34</td>,\n",
       " <td class=\"left\">9675</td>,\n",
       " <td class=\"left\">285</td>,\n",
       " <td class=\"left\">3</td>,\n",
       " <td class=\"left\">New Zealand Women</td>,\n",
       " <td class=\"left\">28</td>,\n",
       " <td class=\"left\">7474</td>,\n",
       " <td class=\"left\">267</td>,\n",
       " <td class=\"left\">4</td>,\n",
       " <td class=\"left\">India Women</td>,\n",
       " <td class=\"left\">36</td>,\n",
       " <td class=\"left\">9578</td>,\n",
       " <td class=\"left\">266</td>,\n",
       " <td class=\"left\">5</td>,\n",
       " <td class=\"left\">South Africa Women</td>,\n",
       " <td class=\"left\">30</td>,\n",
       " <td class=\"left\">7569</td>,\n",
       " <td class=\"left\">252</td>,\n",
       " <td class=\"left\">6</td>,\n",
       " <td class=\"left\">West Indies Women</td>,\n",
       " <td class=\"left\">29</td>,\n",
       " <td class=\"left\">6962</td>,\n",
       " <td class=\"left\">240</td>,\n",
       " <td class=\"left\">7</td>,\n",
       " <td class=\"left\">Pakistan Women</td>,\n",
       " <td class=\"left\">30</td>,\n",
       " <td class=\"left\">6778</td>,\n",
       " <td class=\"left\">226</td>,\n",
       " <td class=\"left\">8</td>,\n",
       " <td class=\"left\">Sri Lanka Women</td>,\n",
       " <td class=\"left\">18</td>,\n",
       " <td class=\"left\">3631</td>,\n",
       " <td class=\"left\">202</td>,\n",
       " <td class=\"left\">9</td>,\n",
       " <td class=\"left\">Bangladesh Women</td>,\n",
       " <td class=\"left\">26</td>,\n",
       " <td class=\"left\">5001</td>,\n",
       " <td class=\"left\">192</td>,\n",
       " <td class=\"left\">10</td>,\n",
       " <td class=\"left\">Ireland Women</td>,\n",
       " <td class=\"left\">17</td>,\n",
       " <td class=\"left\">2885</td>,\n",
       " <td class=\"left\">170</td>,\n",
       " <td class=\"left\">11</td>,\n",
       " <td class=\"left\">Thailand Women</td>,\n",
       " <td class=\"left\">26</td>,\n",
       " <td class=\"left\">4145</td>,\n",
       " <td class=\"left\">159</td>,\n",
       " <td class=\"left\">12</td>,\n",
       " <td class=\"left\">Zimbabwe Women</td>,\n",
       " <td class=\"left\">11</td>,\n",
       " <td class=\"left\">1711</td>,\n",
       " <td class=\"left\">156</td>,\n",
       " <td class=\"left\">13</td>,\n",
       " <td class=\"left\">Scotland Women</td>,\n",
       " <td class=\"left\">14</td>,\n",
       " <td class=\"left\">2056</td>,\n",
       " <td class=\"left\">147</td>,\n",
       " <td class=\"left\">14</td>,\n",
       " <td class=\"left\">Nepal Women</td>,\n",
       " <td class=\"left\">11</td>,\n",
       " <td class=\"left\">1457</td>,\n",
       " <td class=\"left\">132</td>,\n",
       " <td class=\"left\">15</td>,\n",
       " <td class=\"left\">PNG Women</td>,\n",
       " <td class=\"left\">11</td>,\n",
       " <td class=\"left\">1423</td>,\n",
       " <td class=\"left\">129</td>,\n",
       " <td class=\"left\">16</td>,\n",
       " <td class=\"left\">Samoa Women</td>,\n",
       " <td class=\"left\">6</td>,\n",
       " <td class=\"left\">749</td>,\n",
       " <td class=\"left\">125</td>,\n",
       " <td class=\"left\">17</td>,\n",
       " <td class=\"left\">UAE Women</td>,\n",
       " <td class=\"left\">11</td>,\n",
       " <td class=\"left\">1330</td>,\n",
       " <td class=\"left\">121</td>,\n",
       " <td class=\"left\">18</td>,\n",
       " <td class=\"left\">Uganda Women</td>,\n",
       " <td class=\"left\">13</td>,\n",
       " <td class=\"left\">1563</td>,\n",
       " <td class=\"left\">120</td>,\n",
       " <td class=\"left\">19</td>,\n",
       " <td class=\"left\">Tanzania Women</td>,\n",
       " <td class=\"left\">11</td>,\n",
       " <td class=\"left\">1191</td>,\n",
       " <td class=\"left\">108</td>,\n",
       " <td class=\"left\">20</td>,\n",
       " <td class=\"left\">Indonesia Women</td>,\n",
       " <td class=\"left\">13</td>,\n",
       " <td class=\"left\">1129</td>,\n",
       " <td class=\"left\">87</td>,\n",
       " <td class=\"left\">21</td>,\n",
       " <td class=\"left\">Kenya Women</td>,\n",
       " <td class=\"left\">14</td>,\n",
       " <td class=\"left\">1179</td>,\n",
       " <td class=\"left\">84</td>,\n",
       " <td class=\"left\">22</td>,\n",
       " <td class=\"left\">Netherlands Women</td>,\n",
       " <td class=\"left\">10</td>,\n",
       " <td class=\"left\">832</td>,\n",
       " <td class=\"left\">83</td>,\n",
       " <td class=\"left\">23</td>,\n",
       " <td class=\"left\">Namibia Women</td>,\n",
       " <td class=\"left\">22</td>,\n",
       " <td class=\"left\">1613</td>,\n",
       " <td class=\"left\">73</td>,\n",
       " <td class=\"left\">24</td>,\n",
       " <td class=\"left\">Germany Women</td>,\n",
       " <td class=\"left\">16</td>,\n",
       " <td class=\"left\">1166</td>,\n",
       " <td class=\"left\">73</td>,\n",
       " <td class=\"left\">25</td>,\n",
       " <td class=\"left\">Hong Kong Women</td>,\n",
       " <td class=\"left\">13</td>,\n",
       " <td class=\"left\">875</td>,\n",
       " <td class=\"left\">67</td>,\n",
       " <td class=\"left\">26</td>,\n",
       " <td class=\"left\">China Women</td>,\n",
       " <td class=\"left\">11</td>,\n",
       " <td class=\"left\">698</td>,\n",
       " <td class=\"left\">63</td>,\n",
       " <td class=\"left\">27</td>,\n",
       " <td class=\"left\">Brazil Women</td>,\n",
       " <td class=\"left\">11</td>,\n",
       " <td class=\"left\">599</td>,\n",
       " <td class=\"left\">54</td>,\n",
       " <td class=\"left\">28</td>,\n",
       " <td class=\"left\">Vanuatu Women</td>,\n",
       " <td class=\"left\">6</td>,\n",
       " <td class=\"left\">324</td>,\n",
       " <td class=\"left\">54</td>,\n",
       " <td class=\"left\">29</td>,\n",
       " <td class=\"left\">Japan Women</td>,\n",
       " <td class=\"left\">5</td>,\n",
       " <td class=\"left\">260</td>,\n",
       " <td class=\"left\">52</td>,\n",
       " <td class=\"left\">30</td>,\n",
       " <td class=\"left\">Rwanda Women</td>,\n",
       " <td class=\"left\">16</td>,\n",
       " <td class=\"left\">751</td>,\n",
       " <td class=\"left\">47</td>,\n",
       " <td class=\"left\">31</td>,\n",
       " <td class=\"left\">USA Women</td>,\n",
       " <td class=\"left\">4</td>,\n",
       " <td class=\"left\">186</td>,\n",
       " <td class=\"left\">47</td>,\n",
       " <td class=\"left\">32</td>,\n",
       " <td class=\"left\">Belize Women</td>,\n",
       " <td class=\"left\">6</td>,\n",
       " <td class=\"left\">269</td>,\n",
       " <td class=\"left\">45</td>,\n",
       " <td class=\"left\">33</td>,\n",
       " <td class=\"left\">Argentina Women</td>,\n",
       " <td class=\"left\">9</td>,\n",
       " <td class=\"left\">398</td>,\n",
       " <td class=\"left\">44</td>,\n",
       " <td class=\"left\">34</td>,\n",
       " <td class=\"left\">Myanmar Women</td>,\n",
       " <td class=\"left\">5</td>,\n",
       " <td class=\"left\">212</td>,\n",
       " <td class=\"left\">42</td>,\n",
       " <td class=\"left\">35</td>,\n",
       " <td class=\"left\">Kuwait Women</td>,\n",
       " <td class=\"left\">8</td>,\n",
       " <td class=\"left\">337</td>,\n",
       " <td class=\"left\">42</td>,\n",
       " <td class=\"left\">36</td>,\n",
       " <td class=\"left\">Sierra Leone Women</td>,\n",
       " <td class=\"left\">6</td>,\n",
       " <td class=\"left\">245</td>,\n",
       " <td class=\"left\">41</td>,\n",
       " <td class=\"left\">37</td>,\n",
       " <td class=\"left\">Malaysia Women</td>,\n",
       " <td class=\"left\">17</td>,\n",
       " <td class=\"left\">687</td>,\n",
       " <td class=\"left\">40</td>,\n",
       " <td class=\"left\">38</td>,\n",
       " <td class=\"left\">Jersey Women</td>,\n",
       " <td class=\"left\">4</td>,\n",
       " <td class=\"left\">160</td>,\n",
       " <td class=\"left\">40</td>,\n",
       " <td class=\"left\">39</td>,\n",
       " <td class=\"left\">France Women</td>,\n",
       " <td class=\"left\">8</td>,\n",
       " <td class=\"left\">241</td>,\n",
       " <td class=\"left\">30</td>,\n",
       " <td class=\"left\">40</td>,\n",
       " <td class=\"left\">Botswana Women</td>,\n",
       " <td class=\"left\">15</td>,\n",
       " <td class=\"left\">447</td>,\n",
       " <td class=\"left\">30</td>,\n",
       " <td class=\"left\">41</td>,\n",
       " <td class=\"left\">Nigeria Women</td>,\n",
       " <td class=\"left\">15</td>,\n",
       " <td class=\"left\">418</td>,\n",
       " <td class=\"left\">28</td>,\n",
       " <td class=\"left\">42</td>,\n",
       " <td class=\"left\">Oman Women</td>,\n",
       " <td class=\"left\">9</td>,\n",
       " <td class=\"left\">233</td>,\n",
       " <td class=\"left\">26</td>,\n",
       " <td class=\"left\">43</td>,\n",
       " <td class=\"left\">Bhutan Women</td>,\n",
       " <td class=\"left\">4</td>,\n",
       " <td class=\"left\">91</td>,\n",
       " <td class=\"left\">23</td>,\n",
       " <td class=\"left\">44</td>,\n",
       " <td class=\"left\">South Korea Women</td>,\n",
       " <td class=\"left\">4</td>,\n",
       " <td class=\"left\">73</td>,\n",
       " <td class=\"left\">18</td>,\n",
       " <td class=\"left\">45</td>,\n",
       " <td class=\"left\">Malawi Women</td>,\n",
       " <td class=\"left\">10</td>,\n",
       " <td class=\"left\">158</td>,\n",
       " <td class=\"left\">16</td>,\n",
       " <td class=\"left\">46</td>,\n",
       " <td class=\"left\">Chile Women</td>,\n",
       " <td class=\"left\">10</td>,\n",
       " <td class=\"left\">124</td>,\n",
       " <td class=\"left\">12</td>,\n",
       " <td class=\"left\">47</td>,\n",
       " <td class=\"left\">Singapore Women</td>,\n",
       " <td class=\"left\">6</td>,\n",
       " <td class=\"left\">61</td>,\n",
       " <td class=\"left\">10</td>,\n",
       " <td class=\"left\">48</td>,\n",
       " <td class=\"left\">Costa Rica</td>,\n",
       " <td class=\"left\">7</td>,\n",
       " <td class=\"left\">68</td>,\n",
       " <td class=\"left\">10</td>,\n",
       " <td class=\"left\">49</td>,\n",
       " <td class=\"left\">Mozambique Women</td>,\n",
       " <td class=\"left\">12</td>,\n",
       " <td class=\"left\">81</td>,\n",
       " <td class=\"left\">7</td>,\n",
       " <td class=\"left\">50</td>,\n",
       " <td class=\"left\">Mexico Women</td>,\n",
       " <td class=\"left\">7</td>,\n",
       " <td class=\"left\">33</td>,\n",
       " <td class=\"left\">5</td>,\n",
       " <td class=\"left\">51</td>,\n",
       " <td class=\"left\">Austria Women</td>,\n",
       " <td class=\"left\">8</td>,\n",
       " <td class=\"left\">9</td>,\n",
       " <td class=\"left\">1</td>,\n",
       " <td class=\"left\">52</td>,\n",
       " <td class=\"left\">Peru Women</td>,\n",
       " <td class=\"left\">8</td>,\n",
       " <td class=\"left\">0</td>,\n",
       " <td class=\"left\">0</td>,\n",
       " <td class=\"left\">53</td>,\n",
       " <td class=\"left\">Fiji Women</td>,\n",
       " <td class=\"left\">6</td>,\n",
       " <td class=\"left\">0</td>,\n",
       " <td class=\"left\">0</td>,\n",
       " <td class=\"left\">54</td>,\n",
       " <td class=\"left\">Norway Women</td>,\n",
       " <td class=\"left\">3</td>,\n",
       " <td class=\"left\">0</td>,\n",
       " <td class=\"left\">0</td>,\n",
       " <td class=\"left\">55</td>,\n",
       " <td class=\"left\">Mali Women</td>,\n",
       " <td class=\"left\">3</td>,\n",
       " <td class=\"left\">0</td>,\n",
       " <td class=\"left\">0</td>,\n",
       " <td class=\"left\">56</td>,\n",
       " <td class=\"left\">Lesotho Women</td>,\n",
       " <td class=\"left\">3</td>,\n",
       " <td class=\"left\">0</td>,\n",
       " <td class=\"left\">0</td>]"
      ]
     },
     "execution_count": 9,
     "metadata": {},
     "output_type": "execute_result"
    }
   ],
   "source": [
    "len(wt20.find_all(\"tr\"))\n",
    "table = wt20.find_all(\"td\")\n",
    "table"
   ]
  },
  {
   "cell_type": "code",
   "execution_count": 10,
   "metadata": {},
   "outputs": [
    {
     "ename": "AttributeError",
     "evalue": "'list' object has no attribute 'text'",
     "output_type": "error",
     "traceback": [
      "\u001b[1;31m---------------------------------------------------------------------------\u001b[0m",
      "\u001b[1;31mAttributeError\u001b[0m                            Traceback (most recent call last)",
      "\u001b[1;32m<ipython-input-10-f39607a8ec54>\u001b[0m in \u001b[0;36m<module>\u001b[1;34m\u001b[0m\n\u001b[0;32m      3\u001b[0m \u001b[0ms\u001b[0m \u001b[1;33m=\u001b[0m \u001b[1;36m0\u001b[0m\u001b[1;33m\u001b[0m\u001b[1;33m\u001b[0m\u001b[0m\n\u001b[0;32m      4\u001b[0m \u001b[1;32mfor\u001b[0m \u001b[0mi\u001b[0m \u001b[1;32min\u001b[0m \u001b[0mrange\u001b[0m\u001b[1;33m(\u001b[0m\u001b[1;36m20\u001b[0m\u001b[1;33m)\u001b[0m\u001b[1;33m:\u001b[0m\u001b[1;33m\u001b[0m\u001b[1;33m\u001b[0m\u001b[0m\n\u001b[1;32m----> 5\u001b[1;33m     \u001b[0mtable_list\u001b[0m\u001b[1;33m.\u001b[0m\u001b[0mappend\u001b[0m\u001b[1;33m(\u001b[0m\u001b[0mtable\u001b[0m\u001b[1;33m[\u001b[0m\u001b[0ms\u001b[0m\u001b[1;33m:\u001b[0m\u001b[0mt\u001b[0m\u001b[1;33m]\u001b[0m\u001b[1;33m.\u001b[0m\u001b[0mtext\u001b[0m\u001b[1;33m)\u001b[0m\u001b[1;33m\u001b[0m\u001b[1;33m\u001b[0m\u001b[0m\n\u001b[0m\u001b[0;32m      6\u001b[0m     \u001b[0ms\u001b[0m\u001b[1;33m+=\u001b[0m\u001b[1;36m5\u001b[0m\u001b[1;33m\u001b[0m\u001b[1;33m\u001b[0m\u001b[0m\n\u001b[0;32m      7\u001b[0m     \u001b[0mt\u001b[0m\u001b[1;33m+=\u001b[0m\u001b[1;36m5\u001b[0m\u001b[1;33m\u001b[0m\u001b[1;33m\u001b[0m\u001b[0m\n",
      "\u001b[1;31mAttributeError\u001b[0m: 'list' object has no attribute 'text'"
     ]
    }
   ],
   "source": [
    "table_list = []\n",
    "t = 4\n",
    "s = 0\n",
    "for i in range(20):\n",
    "    table_list.append(table[s:t].text)\n",
    "    s+=5 \n",
    "    t+=5"
   ]
  },
  {
   "cell_type": "code",
   "execution_count": null,
   "metadata": {},
   "outputs": [],
   "source": [
    "table_list = []\n",
    "t = 5\n",
    "s = 0\n",
    "for i in range(20):\n",
    "    Pos, Team, Matches, Points, Rating  = table[s:t]\n",
    "    table_list.append([Pos.text,Team.text,Matches.text,Points.text,Rating.text])\n",
    "    s+=5 \n",
    "    t+=5"
   ]
  },
  {
   "cell_type": "code",
   "execution_count": 11,
   "metadata": {},
   "outputs": [
    {
     "data": {
      "text/plain": [
       "[]"
      ]
     },
     "execution_count": 11,
     "metadata": {},
     "output_type": "execute_result"
    }
   ],
   "source": [
    "table_list"
   ]
  },
  {
   "cell_type": "code",
   "execution_count": 12,
   "metadata": {},
   "outputs": [
    {
     "ename": "ValueError",
     "evalue": "Shape of passed values is (5, 1), indices imply (0, 1)",
     "output_type": "error",
     "traceback": [
      "\u001b[1;31m---------------------------------------------------------------------------\u001b[0m",
      "\u001b[1;31mValueError\u001b[0m                                Traceback (most recent call last)",
      "\u001b[1;32m~\\Anaconda3\\lib\\site-packages\\pandas\\core\\internals\\managers.py\u001b[0m in \u001b[0;36mcreate_block_manager_from_blocks\u001b[1;34m(blocks, axes)\u001b[0m\n\u001b[0;32m   1664\u001b[0m \u001b[1;33m\u001b[0m\u001b[0m\n\u001b[1;32m-> 1665\u001b[1;33m         \u001b[0mmgr\u001b[0m \u001b[1;33m=\u001b[0m \u001b[0mBlockManager\u001b[0m\u001b[1;33m(\u001b[0m\u001b[0mblocks\u001b[0m\u001b[1;33m,\u001b[0m \u001b[0maxes\u001b[0m\u001b[1;33m)\u001b[0m\u001b[1;33m\u001b[0m\u001b[1;33m\u001b[0m\u001b[0m\n\u001b[0m\u001b[0;32m   1666\u001b[0m         \u001b[0mmgr\u001b[0m\u001b[1;33m.\u001b[0m\u001b[0m_consolidate_inplace\u001b[0m\u001b[1;33m(\u001b[0m\u001b[1;33m)\u001b[0m\u001b[1;33m\u001b[0m\u001b[1;33m\u001b[0m\u001b[0m\n",
      "\u001b[1;32m~\\Anaconda3\\lib\\site-packages\\pandas\\core\\internals\\managers.py\u001b[0m in \u001b[0;36m__init__\u001b[1;34m(self, blocks, axes, do_integrity_check)\u001b[0m\n\u001b[0;32m    148\u001b[0m         \u001b[1;32mif\u001b[0m \u001b[0mdo_integrity_check\u001b[0m\u001b[1;33m:\u001b[0m\u001b[1;33m\u001b[0m\u001b[1;33m\u001b[0m\u001b[0m\n\u001b[1;32m--> 149\u001b[1;33m             \u001b[0mself\u001b[0m\u001b[1;33m.\u001b[0m\u001b[0m_verify_integrity\u001b[0m\u001b[1;33m(\u001b[0m\u001b[1;33m)\u001b[0m\u001b[1;33m\u001b[0m\u001b[1;33m\u001b[0m\u001b[0m\n\u001b[0m\u001b[0;32m    150\u001b[0m \u001b[1;33m\u001b[0m\u001b[0m\n",
      "\u001b[1;32m~\\Anaconda3\\lib\\site-packages\\pandas\\core\\internals\\managers.py\u001b[0m in \u001b[0;36m_verify_integrity\u001b[1;34m(self)\u001b[0m\n\u001b[0;32m    325\u001b[0m             \u001b[1;32mif\u001b[0m \u001b[0mblock\u001b[0m\u001b[1;33m.\u001b[0m\u001b[0mshape\u001b[0m\u001b[1;33m[\u001b[0m\u001b[1;36m1\u001b[0m\u001b[1;33m:\u001b[0m\u001b[1;33m]\u001b[0m \u001b[1;33m!=\u001b[0m \u001b[0mmgr_shape\u001b[0m\u001b[1;33m[\u001b[0m\u001b[1;36m1\u001b[0m\u001b[1;33m:\u001b[0m\u001b[1;33m]\u001b[0m\u001b[1;33m:\u001b[0m\u001b[1;33m\u001b[0m\u001b[1;33m\u001b[0m\u001b[0m\n\u001b[1;32m--> 326\u001b[1;33m                 \u001b[1;32mraise\u001b[0m \u001b[0mconstruction_error\u001b[0m\u001b[1;33m(\u001b[0m\u001b[0mtot_items\u001b[0m\u001b[1;33m,\u001b[0m \u001b[0mblock\u001b[0m\u001b[1;33m.\u001b[0m\u001b[0mshape\u001b[0m\u001b[1;33m[\u001b[0m\u001b[1;36m1\u001b[0m\u001b[1;33m:\u001b[0m\u001b[1;33m]\u001b[0m\u001b[1;33m,\u001b[0m \u001b[0mself\u001b[0m\u001b[1;33m.\u001b[0m\u001b[0maxes\u001b[0m\u001b[1;33m)\u001b[0m\u001b[1;33m\u001b[0m\u001b[1;33m\u001b[0m\u001b[0m\n\u001b[0m\u001b[0;32m    327\u001b[0m         \u001b[1;32mif\u001b[0m \u001b[0mlen\u001b[0m\u001b[1;33m(\u001b[0m\u001b[0mself\u001b[0m\u001b[1;33m.\u001b[0m\u001b[0mitems\u001b[0m\u001b[1;33m)\u001b[0m \u001b[1;33m!=\u001b[0m \u001b[0mtot_items\u001b[0m\u001b[1;33m:\u001b[0m\u001b[1;33m\u001b[0m\u001b[1;33m\u001b[0m\u001b[0m\n",
      "\u001b[1;31mValueError\u001b[0m: Shape of passed values is (5, 1), indices imply (0, 1)",
      "\nDuring handling of the above exception, another exception occurred:\n",
      "\u001b[1;31mValueError\u001b[0m                                Traceback (most recent call last)",
      "\u001b[1;32m<ipython-input-12-a14d15036e94>\u001b[0m in \u001b[0;36m<module>\u001b[1;34m\u001b[0m\n\u001b[0;32m      1\u001b[0m \u001b[1;32mimport\u001b[0m \u001b[0mpandas\u001b[0m \u001b[1;32mas\u001b[0m \u001b[0mpd\u001b[0m\u001b[1;33m\u001b[0m\u001b[1;33m\u001b[0m\u001b[0m\n\u001b[1;32m----> 2\u001b[1;33m \u001b[0mwt20_info\u001b[0m \u001b[1;33m=\u001b[0m \u001b[0mpd\u001b[0m\u001b[1;33m.\u001b[0m\u001b[0mDataFrame\u001b[0m\u001b[1;33m(\u001b[0m\u001b[0mcol\u001b[0m\u001b[1;33m,\u001b[0m\u001b[0mtable_list\u001b[0m\u001b[1;33m)\u001b[0m\u001b[1;33m\u001b[0m\u001b[1;33m\u001b[0m\u001b[0m\n\u001b[0m",
      "\u001b[1;32m~\\Anaconda3\\lib\\site-packages\\pandas\\core\\frame.py\u001b[0m in \u001b[0;36m__init__\u001b[1;34m(self, data, index, columns, dtype, copy)\u001b[0m\n\u001b[0;32m    521\u001b[0m                     \u001b[0mmgr\u001b[0m \u001b[1;33m=\u001b[0m \u001b[0marrays_to_mgr\u001b[0m\u001b[1;33m(\u001b[0m\u001b[0marrays\u001b[0m\u001b[1;33m,\u001b[0m \u001b[0mcolumns\u001b[0m\u001b[1;33m,\u001b[0m \u001b[0mindex\u001b[0m\u001b[1;33m,\u001b[0m \u001b[0mcolumns\u001b[0m\u001b[1;33m,\u001b[0m \u001b[0mdtype\u001b[0m\u001b[1;33m=\u001b[0m\u001b[0mdtype\u001b[0m\u001b[1;33m)\u001b[0m\u001b[1;33m\u001b[0m\u001b[1;33m\u001b[0m\u001b[0m\n\u001b[0;32m    522\u001b[0m                 \u001b[1;32melse\u001b[0m\u001b[1;33m:\u001b[0m\u001b[1;33m\u001b[0m\u001b[1;33m\u001b[0m\u001b[0m\n\u001b[1;32m--> 523\u001b[1;33m                     \u001b[0mmgr\u001b[0m \u001b[1;33m=\u001b[0m \u001b[0minit_ndarray\u001b[0m\u001b[1;33m(\u001b[0m\u001b[0mdata\u001b[0m\u001b[1;33m,\u001b[0m \u001b[0mindex\u001b[0m\u001b[1;33m,\u001b[0m \u001b[0mcolumns\u001b[0m\u001b[1;33m,\u001b[0m \u001b[0mdtype\u001b[0m\u001b[1;33m=\u001b[0m\u001b[0mdtype\u001b[0m\u001b[1;33m,\u001b[0m \u001b[0mcopy\u001b[0m\u001b[1;33m=\u001b[0m\u001b[0mcopy\u001b[0m\u001b[1;33m)\u001b[0m\u001b[1;33m\u001b[0m\u001b[1;33m\u001b[0m\u001b[0m\n\u001b[0m\u001b[0;32m    524\u001b[0m             \u001b[1;32melse\u001b[0m\u001b[1;33m:\u001b[0m\u001b[1;33m\u001b[0m\u001b[1;33m\u001b[0m\u001b[0m\n\u001b[0;32m    525\u001b[0m                 \u001b[0mmgr\u001b[0m \u001b[1;33m=\u001b[0m \u001b[0minit_dict\u001b[0m\u001b[1;33m(\u001b[0m\u001b[1;33m{\u001b[0m\u001b[1;33m}\u001b[0m\u001b[1;33m,\u001b[0m \u001b[0mindex\u001b[0m\u001b[1;33m,\u001b[0m \u001b[0mcolumns\u001b[0m\u001b[1;33m,\u001b[0m \u001b[0mdtype\u001b[0m\u001b[1;33m=\u001b[0m\u001b[0mdtype\u001b[0m\u001b[1;33m)\u001b[0m\u001b[1;33m\u001b[0m\u001b[1;33m\u001b[0m\u001b[0m\n",
      "\u001b[1;32m~\\Anaconda3\\lib\\site-packages\\pandas\\core\\internals\\construction.py\u001b[0m in \u001b[0;36minit_ndarray\u001b[1;34m(values, index, columns, dtype, copy)\u001b[0m\n\u001b[0;32m    232\u001b[0m         \u001b[0mblock_values\u001b[0m \u001b[1;33m=\u001b[0m \u001b[1;33m[\u001b[0m\u001b[0mvalues\u001b[0m\u001b[1;33m]\u001b[0m\u001b[1;33m\u001b[0m\u001b[1;33m\u001b[0m\u001b[0m\n\u001b[0;32m    233\u001b[0m \u001b[1;33m\u001b[0m\u001b[0m\n\u001b[1;32m--> 234\u001b[1;33m     \u001b[1;32mreturn\u001b[0m \u001b[0mcreate_block_manager_from_blocks\u001b[0m\u001b[1;33m(\u001b[0m\u001b[0mblock_values\u001b[0m\u001b[1;33m,\u001b[0m \u001b[1;33m[\u001b[0m\u001b[0mcolumns\u001b[0m\u001b[1;33m,\u001b[0m \u001b[0mindex\u001b[0m\u001b[1;33m]\u001b[0m\u001b[1;33m)\u001b[0m\u001b[1;33m\u001b[0m\u001b[1;33m\u001b[0m\u001b[0m\n\u001b[0m\u001b[0;32m    235\u001b[0m \u001b[1;33m\u001b[0m\u001b[0m\n\u001b[0;32m    236\u001b[0m \u001b[1;33m\u001b[0m\u001b[0m\n",
      "\u001b[1;32m~\\Anaconda3\\lib\\site-packages\\pandas\\core\\internals\\managers.py\u001b[0m in \u001b[0;36mcreate_block_manager_from_blocks\u001b[1;34m(blocks, axes)\u001b[0m\n\u001b[0;32m   1670\u001b[0m         \u001b[0mblocks\u001b[0m \u001b[1;33m=\u001b[0m \u001b[1;33m[\u001b[0m\u001b[0mgetattr\u001b[0m\u001b[1;33m(\u001b[0m\u001b[0mb\u001b[0m\u001b[1;33m,\u001b[0m \u001b[1;34m\"values\"\u001b[0m\u001b[1;33m,\u001b[0m \u001b[0mb\u001b[0m\u001b[1;33m)\u001b[0m \u001b[1;32mfor\u001b[0m \u001b[0mb\u001b[0m \u001b[1;32min\u001b[0m \u001b[0mblocks\u001b[0m\u001b[1;33m]\u001b[0m\u001b[1;33m\u001b[0m\u001b[1;33m\u001b[0m\u001b[0m\n\u001b[0;32m   1671\u001b[0m         \u001b[0mtot_items\u001b[0m \u001b[1;33m=\u001b[0m \u001b[0msum\u001b[0m\u001b[1;33m(\u001b[0m\u001b[0mb\u001b[0m\u001b[1;33m.\u001b[0m\u001b[0mshape\u001b[0m\u001b[1;33m[\u001b[0m\u001b[1;36m0\u001b[0m\u001b[1;33m]\u001b[0m \u001b[1;32mfor\u001b[0m \u001b[0mb\u001b[0m \u001b[1;32min\u001b[0m \u001b[0mblocks\u001b[0m\u001b[1;33m)\u001b[0m\u001b[1;33m\u001b[0m\u001b[1;33m\u001b[0m\u001b[0m\n\u001b[1;32m-> 1672\u001b[1;33m         \u001b[1;32mraise\u001b[0m \u001b[0mconstruction_error\u001b[0m\u001b[1;33m(\u001b[0m\u001b[0mtot_items\u001b[0m\u001b[1;33m,\u001b[0m \u001b[0mblocks\u001b[0m\u001b[1;33m[\u001b[0m\u001b[1;36m0\u001b[0m\u001b[1;33m]\u001b[0m\u001b[1;33m.\u001b[0m\u001b[0mshape\u001b[0m\u001b[1;33m[\u001b[0m\u001b[1;36m1\u001b[0m\u001b[1;33m:\u001b[0m\u001b[1;33m]\u001b[0m\u001b[1;33m,\u001b[0m \u001b[0maxes\u001b[0m\u001b[1;33m,\u001b[0m \u001b[0me\u001b[0m\u001b[1;33m)\u001b[0m\u001b[1;33m\u001b[0m\u001b[1;33m\u001b[0m\u001b[0m\n\u001b[0m\u001b[0;32m   1673\u001b[0m \u001b[1;33m\u001b[0m\u001b[0m\n\u001b[0;32m   1674\u001b[0m \u001b[1;33m\u001b[0m\u001b[0m\n",
      "\u001b[1;31mValueError\u001b[0m: Shape of passed values is (5, 1), indices imply (0, 1)"
     ]
    }
   ],
   "source": [
    "import pandas as pd\n",
    "wt20_info = pd.DataFrame(col,table_list)"
   ]
  },
  {
   "cell_type": "code",
   "execution_count": null,
   "metadata": {},
   "outputs": [],
   "source": [
    "wt20_info"
   ]
  },
  {
   "cell_type": "code",
   "execution_count": null,
   "metadata": {},
   "outputs": [],
   "source": []
  }
 ],
 "metadata": {
  "kernelspec": {
   "display_name": "Python 3",
   "language": "python",
   "name": "python3"
  },
  "language_info": {
   "codemirror_mode": {
    "name": "ipython",
    "version": 3
   },
   "file_extension": ".py",
   "mimetype": "text/x-python",
   "name": "python",
   "nbconvert_exporter": "python",
   "pygments_lexer": "ipython3",
   "version": "3.8.5"
  }
 },
 "nbformat": 4,
 "nbformat_minor": 4
}
