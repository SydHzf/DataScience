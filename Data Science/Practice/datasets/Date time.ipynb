{
 "cells": [
  {
   "cell_type": "code",
   "execution_count": 1,
   "metadata": {},
   "outputs": [],
   "source": [
    "import datetime as dt"
   ]
  },
  {
   "cell_type": "code",
   "execution_count": 2,
   "metadata": {},
   "outputs": [
    {
     "data": {
      "text/plain": [
       "'21-March-2021'"
      ]
     },
     "execution_count": 2,
     "metadata": {},
     "output_type": "execute_result"
    }
   ],
   "source": [
    "date = \"21-March-2021\"\n",
    "date"
   ]
  },
  {
   "cell_type": "code",
   "execution_count": 3,
   "metadata": {},
   "outputs": [],
   "source": [
    "pattern = \"%d-%B-%Y\""
   ]
  },
  {
   "cell_type": "code",
   "execution_count": 4,
   "metadata": {},
   "outputs": [
    {
     "name": "stdout",
     "output_type": "stream",
     "text": [
      "2021-03-21 00:00:00\n"
     ]
    }
   ],
   "source": [
    "date = dt.datetime.strptime(date, pattern) ### string part time \n",
    "print(date)"
   ]
  },
  {
   "cell_type": "code",
   "execution_count": 5,
   "metadata": {},
   "outputs": [
    {
     "data": {
      "text/plain": [
       "datetime.datetime"
      ]
     },
     "execution_count": 5,
     "metadata": {},
     "output_type": "execute_result"
    }
   ],
   "source": [
    "type(date)"
   ]
  },
  {
   "cell_type": "markdown",
   "metadata": {},
   "source": [
    "# Attributes of Date time\n",
    "    attributes gives only information"
   ]
  },
  {
   "cell_type": "code",
   "execution_count": 6,
   "metadata": {},
   "outputs": [
    {
     "data": {
      "text/plain": [
       "2021"
      ]
     },
     "execution_count": 6,
     "metadata": {},
     "output_type": "execute_result"
    }
   ],
   "source": [
    "date.year"
   ]
  },
  {
   "cell_type": "code",
   "execution_count": 7,
   "metadata": {},
   "outputs": [
    {
     "data": {
      "text/plain": [
       "3"
      ]
     },
     "execution_count": 7,
     "metadata": {},
     "output_type": "execute_result"
    }
   ],
   "source": [
    "date.month"
   ]
  },
  {
   "cell_type": "code",
   "execution_count": 8,
   "metadata": {},
   "outputs": [
    {
     "data": {
      "text/plain": [
       "21"
      ]
     },
     "execution_count": 8,
     "metadata": {},
     "output_type": "execute_result"
    }
   ],
   "source": [
    "date.day"
   ]
  },
  {
   "cell_type": "code",
   "execution_count": 9,
   "metadata": {},
   "outputs": [],
   "source": [
    "def read_file(filename):\n",
    "    from csv import reader\n",
    "    return list(reader(open(filename, encoding = \"utf-8\")))"
   ]
  },
  {
   "cell_type": "code",
   "execution_count": 10,
   "metadata": {},
   "outputs": [],
   "source": [
    "dataset = read_file(\"potus_visitors_2015.csv\")"
   ]
  },
  {
   "cell_type": "code",
   "execution_count": 11,
   "metadata": {},
   "outputs": [],
   "source": [
    "header = dataset[0]\n",
    "dataset = dataset[1:]"
   ]
  },
  {
   "cell_type": "code",
   "execution_count": 12,
   "metadata": {},
   "outputs": [],
   "source": [
    "pattern = \"%m/%d/%Y %H:%M\""
   ]
  },
  {
   "cell_type": "code",
   "execution_count": 13,
   "metadata": {},
   "outputs": [],
   "source": [
    "for i in dataset:\n",
    "    i[2] = dt.datetime.strptime(i[2],pattern)\n",
    "#     print(i[2])"
   ]
  },
  {
   "cell_type": "code",
   "execution_count": 14,
   "metadata": {},
   "outputs": [],
   "source": [
    "for i in dataset:\n",
    "    i[3] = dt.datetime.strptime(i[3],pattern)"
   ]
  },
  {
   "cell_type": "code",
   "execution_count": 15,
   "metadata": {},
   "outputs": [
    {
     "data": {
      "text/plain": [
       "[['Joshua T. Blanton',\n",
       "  '2014-12-18T00:00:00',\n",
       "  datetime.datetime(2015, 1, 6, 9, 30),\n",
       "  datetime.datetime(2015, 1, 6, 23, 59),\n",
       "  '',\n",
       "  'potus',\n",
       "  'west wing',\n",
       "  'JointService Military Honor Guard'],\n",
       " ['Jack T. Gutting',\n",
       "  '2014-12-18T00:00:00',\n",
       "  datetime.datetime(2015, 1, 6, 9, 30),\n",
       "  datetime.datetime(2015, 1, 6, 23, 59),\n",
       "  '',\n",
       "  'potus',\n",
       "  'west wing',\n",
       "  'JointService Military Honor Guard'],\n",
       " ['Bradley T. Guiles',\n",
       "  '2014-12-18T00:00:00',\n",
       "  datetime.datetime(2015, 1, 6, 9, 30),\n",
       "  datetime.datetime(2015, 1, 6, 23, 59),\n",
       "  '',\n",
       "  'potus',\n",
       "  'west wing',\n",
       "  'JointService Military Honor Guard'],\n",
       " ['Loryn F. Grieb',\n",
       "  '2014-12-18T00:00:00',\n",
       "  datetime.datetime(2015, 1, 6, 9, 30),\n",
       "  datetime.datetime(2015, 1, 6, 23, 59),\n",
       "  '',\n",
       "  'potus',\n",
       "  'west wing',\n",
       "  'JointService Military Honor Guard'],\n",
       " ['Travis D. Gordon',\n",
       "  '2014-12-18T00:00:00',\n",
       "  datetime.datetime(2015, 1, 6, 9, 30),\n",
       "  datetime.datetime(2015, 1, 6, 23, 59),\n",
       "  '',\n",
       "  'potus',\n",
       "  'west wing',\n",
       "  'JointService Military Honor Guard']]"
      ]
     },
     "execution_count": 15,
     "metadata": {},
     "output_type": "execute_result"
    }
   ],
   "source": [
    "dataset[:5]"
   ]
  },
  {
   "cell_type": "code",
   "execution_count": 16,
   "metadata": {},
   "outputs": [
    {
     "name": "stdout",
     "output_type": "stream",
     "text": [
      "1\n"
     ]
    }
   ],
   "source": [
    "print(dataset[0][2].month)\n"
   ]
  },
  {
   "cell_type": "code",
   "execution_count": 17,
   "metadata": {},
   "outputs": [
    {
     "data": {
      "text/plain": [
       "{'January': 1248,\n",
       " 'February': 2165,\n",
       " 'March': 2262,\n",
       " 'April': 4996,\n",
       " 'May': 3013,\n",
       " 'June': 7743,\n",
       " 'July': 2930,\n",
       " 'August': 1350,\n",
       " 'September': 4416,\n",
       " 'October': 3669,\n",
       " 'November': 1133,\n",
       " 'December': 13029}"
      ]
     },
     "execution_count": 17,
     "metadata": {},
     "output_type": "execute_result"
    }
   ],
   "source": [
    "freq = {}\n",
    "for i in dataset:\n",
    "    month = i[2].strftime(\"%B\")\n",
    "    if month in freq:\n",
    "        freq[month] += 1\n",
    "    else:\n",
    "        freq[month] = 1\n",
    "freq"
   ]
  },
  {
   "cell_type": "code",
   "execution_count": 18,
   "metadata": {},
   "outputs": [
    {
     "name": "stdout",
     "output_type": "stream",
     "text": [
      "{'January': 1248, 'February': 2165, 'March': 2262, 'April': 4996, 'May': 3013, 'June': 7743, 'July': 2930, 'August': 1350, 'September': 4416, 'October': 3669, 'November': 1133, 'December': 13029}\n"
     ]
    }
   ],
   "source": [
    "print(freq)"
   ]
  },
  {
   "cell_type": "code",
   "execution_count": 19,
   "metadata": {},
   "outputs": [
    {
     "data": {
      "text/plain": [
       "str"
      ]
     },
     "execution_count": 19,
     "metadata": {},
     "output_type": "execute_result"
    }
   ],
   "source": [
    "type(dataset[0][2].strftime(\"%d-%B-%Y\")) ### string format time"
   ]
  },
  {
   "cell_type": "code",
   "execution_count": 20,
   "metadata": {},
   "outputs": [
    {
     "name": "stdout",
     "output_type": "stream",
     "text": [
      "2021-03-28 15:31:30.979260\n"
     ]
    }
   ],
   "source": [
    "current_date = dt.datetime.now()\n",
    "print(current_date)"
   ]
  },
  {
   "cell_type": "code",
   "execution_count": 21,
   "metadata": {},
   "outputs": [],
   "source": [
    "###current_date + 10"
   ]
  },
  {
   "cell_type": "code",
   "execution_count": 22,
   "metadata": {},
   "outputs": [
    {
     "data": {
      "text/plain": [
       "datetime.datetime(2021, 5, 1, 15, 31, 30, 979260)"
      ]
     },
     "execution_count": 22,
     "metadata": {},
     "output_type": "execute_result"
    }
   ],
   "source": [
    "date = current_date + dt.timedelta(20,weeks = 2)\n",
    "date"
   ]
  },
  {
   "cell_type": "code",
   "execution_count": 23,
   "metadata": {},
   "outputs": [
    {
     "data": {
      "text/plain": [
       "'01 May 2021'"
      ]
     },
     "execution_count": 23,
     "metadata": {},
     "output_type": "execute_result"
    }
   ],
   "source": [
    "date.strftime(\"%d %B %Y\")"
   ]
  },
  {
   "cell_type": "code",
   "execution_count": 24,
   "metadata": {},
   "outputs": [],
   "source": [
    "start = dataset[0][2]\n",
    "end = dataset[0][3]\n",
    "###date = current_date + dt.timedelta(20,weeks = 2)"
   ]
  },
  {
   "cell_type": "code",
   "execution_count": 25,
   "metadata": {},
   "outputs": [
    {
     "data": {
      "text/plain": [
       "datetime.timedelta(seconds=34200)"
      ]
     },
     "execution_count": 25,
     "metadata": {},
     "output_type": "execute_result"
    }
   ],
   "source": [
    "start = dt.timedelta(hours= start.hour, minutes = start.minute)\n",
    "start"
   ]
  },
  {
   "cell_type": "code",
   "execution_count": 26,
   "metadata": {},
   "outputs": [
    {
     "data": {
      "text/plain": [
       "datetime.timedelta(seconds=86340)"
      ]
     },
     "execution_count": 26,
     "metadata": {},
     "output_type": "execute_result"
    }
   ],
   "source": [
    "end = dt.timedelta(hours= end.hour, minutes = end.minute)\n",
    "end"
   ]
  },
  {
   "cell_type": "code",
   "execution_count": 27,
   "metadata": {},
   "outputs": [
    {
     "data": {
      "text/plain": [
       "datetime.timedelta(seconds=52140)"
      ]
     },
     "execution_count": 27,
     "metadata": {},
     "output_type": "execute_result"
    }
   ],
   "source": [
    "dur = end - start\n",
    "dur"
   ]
  },
  {
   "cell_type": "code",
   "execution_count": 28,
   "metadata": {},
   "outputs": [
    {
     "name": "stdout",
     "output_type": "stream",
     "text": [
      "14:29:00\n"
     ]
    }
   ],
   "source": [
    "print(dur)"
   ]
  },
  {
   "cell_type": "code",
   "execution_count": null,
   "metadata": {},
   "outputs": [],
   "source": []
  }
 ],
 "metadata": {
  "kernelspec": {
   "display_name": "Python 3",
   "language": "python",
   "name": "python3"
  },
  "language_info": {
   "codemirror_mode": {
    "name": "ipython",
    "version": 3
   },
   "file_extension": ".py",
   "mimetype": "text/x-python",
   "name": "python",
   "nbconvert_exporter": "python",
   "pygments_lexer": "ipython3",
   "version": "3.8.5"
  }
 },
 "nbformat": 4,
 "nbformat_minor": 4
}
