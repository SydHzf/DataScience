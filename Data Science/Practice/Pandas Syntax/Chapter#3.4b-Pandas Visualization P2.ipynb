{
 "cells": [
  {
   "cell_type": "code",
   "execution_count": 1,
   "metadata": {},
   "outputs": [],
   "source": [
    "import numpy as np\n",
    "import pandas as pd\n",
    "import openpyxl as opx"
   ]
  },
  {
   "cell_type": "code",
   "execution_count": 2,
   "metadata": {},
   "outputs": [
    {
     "name": "stdout",
     "output_type": "stream",
     "text": [
      "['EPL', 'Bundesliga', 'Serie A', 'La Liga', 'Ligue 1', 'MLS', 'NFL', 'NBA', 'MLB', 'NHL', 'WNBA']\n"
     ]
    }
   ],
   "source": [
    "# wb = opx.load_workbook(\"datasets/Soccer Salaries.xlsx\")\n",
    "wb = pd.ExcelFile('datasets/Soccer Salaries.xlsx')\n",
    "res = wb.sheet_names\n",
    "print(res)"
   ]
  },
  {
   "cell_type": "code",
   "execution_count": 3,
   "metadata": {},
   "outputs": [],
   "source": [
    "dataset = {}\n",
    "\n",
    "for i in res:\n",
    "    dataset[i] = pd.read_excel(\"datasets/Soccer Salaries.xlsx\",sheet_name = i)"
   ]
  },
  {
   "cell_type": "code",
   "execution_count": 4,
   "metadata": {},
   "outputs": [
    {
     "data": {
      "text/plain": [
       "dict_keys(['EPL', 'Bundesliga', 'Serie A', 'La Liga', 'Ligue 1', 'MLS', 'NFL', 'NBA', 'MLB', 'NHL', 'WNBA'])"
      ]
     },
     "execution_count": 4,
     "metadata": {},
     "output_type": "execute_result"
    }
   ],
   "source": [
    "dataset.keys()"
   ]
  },
  {
   "cell_type": "code",
   "execution_count": 5,
   "metadata": {},
   "outputs": [
    {
     "data": {
      "text/plain": [
       "Index(['Rank', 'Player', 'Weekly Salary', 'Pos.', 'Age', 'Status',\n",
       "       'Length (Yrs)', '2018-19 Salary', '2019-20 Salary', '2020-21 Salary',\n",
       "       '2021-22 Salary', '2022-23 Salary', '2023-24 Salary', '2024-25 Salary',\n",
       "       'Club'],\n",
       "      dtype='object')"
      ]
     },
     "execution_count": 5,
     "metadata": {},
     "output_type": "execute_result"
    }
   ],
   "source": [
    "liga_19 = dataset['Serie A'].sort_values(by=\"2019-20 Salary\", ascending = False)\n",
    "liga_19.shape\n",
    "liga_19.columns"
   ]
  },
  {
   "cell_type": "code",
   "execution_count": 6,
   "metadata": {},
   "outputs": [],
   "source": [
    "boolean_mask = liga_19[\"2020-21 Salary\"] != 0"
   ]
  },
  {
   "cell_type": "code",
   "execution_count": 7,
   "metadata": {},
   "outputs": [
    {
     "data": {
      "text/plain": [
       "(285, 15)"
      ]
     },
     "execution_count": 7,
     "metadata": {},
     "output_type": "execute_result"
    }
   ],
   "source": [
    "liga_19 = liga_19.loc[boolean_mask]\n",
    "liga_19.shape"
   ]
  },
  {
   "cell_type": "code",
   "execution_count": 8,
   "metadata": {},
   "outputs": [],
   "source": [
    "# liga_19[liga_19[\"2019-20 Salary\"] != np.nan]"
   ]
  },
  {
   "cell_type": "code",
   "execution_count": 9,
   "metadata": {},
   "outputs": [],
   "source": [
    "liga_19 = liga_19.dropna()"
   ]
  },
  {
   "cell_type": "code",
   "execution_count": 10,
   "metadata": {},
   "outputs": [
    {
     "data": {
      "text/html": [
       "<div>\n",
       "<style scoped>\n",
       "    .dataframe tbody tr th:only-of-type {\n",
       "        vertical-align: middle;\n",
       "    }\n",
       "\n",
       "    .dataframe tbody tr th {\n",
       "        vertical-align: top;\n",
       "    }\n",
       "\n",
       "    .dataframe thead th {\n",
       "        text-align: right;\n",
       "    }\n",
       "</style>\n",
       "<table border=\"1\" class=\"dataframe\">\n",
       "  <thead>\n",
       "    <tr style=\"text-align: right;\">\n",
       "      <th></th>\n",
       "      <th>Rank</th>\n",
       "      <th>Player</th>\n",
       "      <th>Weekly Salary</th>\n",
       "      <th>Pos.</th>\n",
       "      <th>Age</th>\n",
       "      <th>Status</th>\n",
       "      <th>Length (Yrs)</th>\n",
       "      <th>2018-19 Salary</th>\n",
       "      <th>2019-20 Salary</th>\n",
       "      <th>2020-21 Salary</th>\n",
       "      <th>2021-22 Salary</th>\n",
       "      <th>2022-23 Salary</th>\n",
       "      <th>2023-24 Salary</th>\n",
       "      <th>2024-25 Salary</th>\n",
       "      <th>Club</th>\n",
       "    </tr>\n",
       "  </thead>\n",
       "  <tbody>\n",
       "    <tr>\n",
       "      <th>0</th>\n",
       "      <td>1</td>\n",
       "      <td>Cristiano Ronaldo (http://www.capology.com/soc...</td>\n",
       "      <td>1248536</td>\n",
       "      <td>LW</td>\n",
       "      <td>34</td>\n",
       "      <td>Starter</td>\n",
       "      <td>4</td>\n",
       "      <td>64923873</td>\n",
       "      <td>64923873</td>\n",
       "      <td>64923873</td>\n",
       "      <td>64923873</td>\n",
       "      <td>0</td>\n",
       "      <td>0</td>\n",
       "      <td>0</td>\n",
       "      <td>Juventus</td>\n",
       "    </tr>\n",
       "    <tr>\n",
       "      <th>1</th>\n",
       "      <td>2</td>\n",
       "      <td>Paulo Dybala (http://www.capology.com/soccer/p...</td>\n",
       "      <td>281930</td>\n",
       "      <td>SS</td>\n",
       "      <td>25</td>\n",
       "      <td>Starter</td>\n",
       "      <td>4</td>\n",
       "      <td>14660375</td>\n",
       "      <td>14660375</td>\n",
       "      <td>14660375</td>\n",
       "      <td>14660375</td>\n",
       "      <td>0</td>\n",
       "      <td>0</td>\n",
       "      <td>0</td>\n",
       "      <td>Juventus</td>\n",
       "    </tr>\n",
       "    <tr>\n",
       "      <th>2</th>\n",
       "      <td>3</td>\n",
       "      <td>Miralem Pjanic (http://www.capology.com/soccer...</td>\n",
       "      <td>261791</td>\n",
       "      <td>CM</td>\n",
       "      <td>29</td>\n",
       "      <td>Starter</td>\n",
       "      <td>5</td>\n",
       "      <td>13613125</td>\n",
       "      <td>13613125</td>\n",
       "      <td>13613125</td>\n",
       "      <td>13613125</td>\n",
       "      <td>13613125</td>\n",
       "      <td>0</td>\n",
       "      <td>0</td>\n",
       "      <td>Juventus</td>\n",
       "    </tr>\n",
       "    <tr>\n",
       "      <th>3</th>\n",
       "      <td>4</td>\n",
       "      <td>Douglas Costa (http://www.capology.com/soccer/...</td>\n",
       "      <td>241651</td>\n",
       "      <td>RW</td>\n",
       "      <td>28</td>\n",
       "      <td>Reserve</td>\n",
       "      <td>4</td>\n",
       "      <td>12565874</td>\n",
       "      <td>12565874</td>\n",
       "      <td>12565874</td>\n",
       "      <td>12565874</td>\n",
       "      <td>0</td>\n",
       "      <td>0</td>\n",
       "      <td>0</td>\n",
       "      <td>Juventus</td>\n",
       "    </tr>\n",
       "    <tr>\n",
       "      <th>4</th>\n",
       "      <td>5</td>\n",
       "      <td>Gianluigi Donnarumma (http://www.capology.com/...</td>\n",
       "      <td>241651</td>\n",
       "      <td>GK</td>\n",
       "      <td>20</td>\n",
       "      <td>Starter</td>\n",
       "      <td>3</td>\n",
       "      <td>12565874</td>\n",
       "      <td>12565874</td>\n",
       "      <td>12565874</td>\n",
       "      <td>0</td>\n",
       "      <td>0</td>\n",
       "      <td>0</td>\n",
       "      <td>0</td>\n",
       "      <td>AC Milan</td>\n",
       "    </tr>\n",
       "  </tbody>\n",
       "</table>\n",
       "</div>"
      ],
      "text/plain": [
       "   Rank                                             Player  Weekly Salary  \\\n",
       "0     1  Cristiano Ronaldo (http://www.capology.com/soc...        1248536   \n",
       "1     2  Paulo Dybala (http://www.capology.com/soccer/p...         281930   \n",
       "2     3  Miralem Pjanic (http://www.capology.com/soccer...         261791   \n",
       "3     4  Douglas Costa (http://www.capology.com/soccer/...         241651   \n",
       "4     5  Gianluigi Donnarumma (http://www.capology.com/...         241651   \n",
       "\n",
       "  Pos.  Age   Status  Length (Yrs)  2018-19 Salary  2019-20 Salary  \\\n",
       "0   LW   34  Starter             4        64923873        64923873   \n",
       "1   SS   25  Starter             4        14660375        14660375   \n",
       "2   CM   29  Starter             5        13613125        13613125   \n",
       "3   RW   28  Reserve             4        12565874        12565874   \n",
       "4   GK   20  Starter             3        12565874        12565874   \n",
       "\n",
       "   2020-21 Salary  2021-22 Salary  2022-23 Salary  2023-24 Salary  \\\n",
       "0        64923873        64923873               0               0   \n",
       "1        14660375        14660375               0               0   \n",
       "2        13613125        13613125        13613125               0   \n",
       "3        12565874        12565874               0               0   \n",
       "4        12565874               0               0               0   \n",
       "\n",
       "   2024-25 Salary      Club  \n",
       "0               0  Juventus  \n",
       "1               0  Juventus  \n",
       "2               0  Juventus  \n",
       "3               0  Juventus  \n",
       "4               0  AC Milan  "
      ]
     },
     "execution_count": 10,
     "metadata": {},
     "output_type": "execute_result"
    }
   ],
   "source": [
    "liga_19.head()"
   ]
  },
  {
   "cell_type": "code",
   "execution_count": 11,
   "metadata": {},
   "outputs": [
    {
     "data": {
      "text/plain": [
       "24    33\n",
       "25    30\n",
       "27    28\n",
       "26    27\n",
       "21    26\n",
       "28    19\n",
       "23    19\n",
       "20    18\n",
       "22    15\n",
       "32    13\n",
       "30    12\n",
       "29    12\n",
       "31    11\n",
       "19    10\n",
       "33     4\n",
       "35     3\n",
       "18     2\n",
       "34     2\n",
       "36     1\n",
       "Name: Age, dtype: int64"
      ]
     },
     "execution_count": 11,
     "metadata": {},
     "output_type": "execute_result"
    }
   ],
   "source": [
    "liga_19[\"Age\"].value_counts()"
   ]
  },
  {
   "cell_type": "code",
   "execution_count": 12,
   "metadata": {},
   "outputs": [
    {
     "data": {
      "text/plain": [
       "18     2\n",
       "19    10\n",
       "20    18\n",
       "21    26\n",
       "22    15\n",
       "23    19\n",
       "24    33\n",
       "25    30\n",
       "26    27\n",
       "27    28\n",
       "28    19\n",
       "29    12\n",
       "30    12\n",
       "31    11\n",
       "32    13\n",
       "33     4\n",
       "34     2\n",
       "35     3\n",
       "36     1\n",
       "Name: Age, dtype: int64"
      ]
     },
     "execution_count": 12,
     "metadata": {},
     "output_type": "execute_result"
    }
   ],
   "source": [
    "liga_19[\"Age\"].value_counts().sort_index()"
   ]
  },
  {
   "cell_type": "code",
   "execution_count": 13,
   "metadata": {},
   "outputs": [
    {
     "data": {
      "text/plain": [
       "<AxesSubplot:>"
      ]
     },
     "execution_count": 13,
     "metadata": {},
     "output_type": "execute_result"
    },
    {
     "data": {
      "image/png": "[encoded data removed]",
      "text/plain": [
       "<Figure size 432x288 with 1 Axes>"
      ]
     },
     "metadata": {
      "needs_background": "light"
     },
     "output_type": "display_data"
    }
   ],
   "source": [
    "liga_19[\"Age\"].value_counts().sort_index().plot.bar()"
   ]
  },
  {
   "cell_type": "code",
   "execution_count": 14,
   "metadata": {},
   "outputs": [
    {
     "data": {
      "text/plain": [
       "<AxesSubplot:ylabel='Frequency'>"
      ]
     },
     "execution_count": 14,
     "metadata": {},
     "output_type": "execute_result"
    },
    {
     "data": {
      "image/png": "[encoded data removed]",
      "text/plain": [
       "<Figure size 576x288 with 1 Axes>"
      ]
     },
     "metadata": {
      "needs_background": "light"
     },
     "output_type": "display_data"
    }
   ],
   "source": [
    "liga_19[\"Age\"].plot.hist(bins = 10, xticks = range(18,38,1), grid =True,figsize=(8,4))"
   ]
  },
  {
   "cell_type": "code",
   "execution_count": 15,
   "metadata": {},
   "outputs": [
    {
     "data": {
      "text/plain": [
       "1.8"
      ]
     },
     "execution_count": 15,
     "metadata": {},
     "output_type": "execute_result"
    }
   ],
   "source": [
    "(liga_19[\"Age\"].max() - liga_19[\"Age\"].min())/10"
   ]
  },
  {
   "cell_type": "code",
   "execution_count": 16,
   "metadata": {},
   "outputs": [
    {
     "data": {
      "text/plain": [
       "(17.980999999999998, 19.8]    12\n",
       "(19.8, 21.6]                  44\n",
       "(21.6, 23.4]                  34\n",
       "(23.4, 25.2]                  63\n",
       "(25.2, 27.0]                  55\n",
       "(27.0, 28.8]                  19\n",
       "(28.8, 30.6]                  24\n",
       "(30.6, 32.4]                  24\n",
       "(32.4, 34.2]                   6\n",
       "(34.2, 36.0]                   4\n",
       "Name: Age, dtype: int64"
      ]
     },
     "execution_count": 16,
     "metadata": {},
     "output_type": "execute_result"
    }
   ],
   "source": [
    "liga_19[\"Age\"].value_counts(bins = 10).sort_index()"
   ]
  },
  {
   "cell_type": "code",
   "execution_count": 17,
   "metadata": {},
   "outputs": [
    {
     "data": {
      "text/plain": [
       "IntervalIndex([(15, 20], (20, 25], (25, 30], (30, 35], (35, 40]],\n",
       "              closed='right',\n",
       "              dtype='interval[int64]')"
      ]
     },
     "execution_count": 17,
     "metadata": {},
     "output_type": "execute_result"
    }
   ],
   "source": [
    "age_interval = pd.interval_range(start=15,end=40,freq=5,closed='right')\n",
    "age_interval"
   ]
  },
  {
   "cell_type": "code",
   "execution_count": 18,
   "metadata": {},
   "outputs": [
    {
     "data": {
      "text/plain": [
       "(15, 20]    0\n",
       "(20, 25]    0\n",
       "(25, 30]    0\n",
       "(30, 35]    0\n",
       "(35, 40]    0\n",
       "dtype: int64"
      ]
     },
     "execution_count": 18,
     "metadata": {},
     "output_type": "execute_result"
    }
   ],
   "source": [
    "age_interval_frq = pd.Series(index=age_interval,data=0)\n",
    "age_interval_frq"
   ]
  },
  {
   "cell_type": "code",
   "execution_count": 19,
   "metadata": {},
   "outputs": [],
   "source": [
    "for i in liga_19[\"Age\"]: # 31\n",
    "    for j in age_interval: # (30, 35] \n",
    "        if i in j:\n",
    "            age_interval_frq.loc[j] += 1"
   ]
  },
  {
   "cell_type": "code",
   "execution_count": 20,
   "metadata": {},
   "outputs": [
    {
     "data": {
      "text/plain": [
       "(15, 20]     30\n",
       "(20, 25]    123\n",
       "(25, 30]     98\n",
       "(30, 35]     33\n",
       "(35, 40]      1\n",
       "dtype: int64"
      ]
     },
     "execution_count": 20,
     "metadata": {},
     "output_type": "execute_result"
    }
   ],
   "source": [
    "age_interval_frq"
   ]
  },
  {
   "cell_type": "code",
   "execution_count": 21,
   "metadata": {},
   "outputs": [
    {
     "name": "stdout",
     "output_type": "stream",
     "text": [
      "(35, 40]\n"
     ]
    }
   ],
   "source": [
    "i = 36\n",
    "for j in age_interval: # (30, 35] \n",
    "    if i in j:\n",
    "        print(j)"
   ]
  },
  {
   "cell_type": "code",
   "execution_count": 22,
   "metadata": {},
   "outputs": [
    {
     "name": "stdout",
     "output_type": "stream",
     "text": [
      "[15, 20, 25, 30, 35, 40]\n"
     ]
    }
   ],
   "source": [
    "bins_list = list(range(15,41,5))\n",
    "print(bins_list)"
   ]
  },
  {
   "cell_type": "code",
   "execution_count": 23,
   "metadata": {},
   "outputs": [
    {
     "data": {
      "text/plain": [
       "<AxesSubplot:ylabel='Frequency'>"
      ]
     },
     "execution_count": 23,
     "metadata": {},
     "output_type": "execute_result"
    },
    {
     "data": {
      "image/png": "[encoded data removed]",
      "text/plain": [
       "<Figure size 432x288 with 1 Axes>"
      ]
     },
     "metadata": {
      "needs_background": "light"
     },
     "output_type": "display_data"
    }
   ],
   "source": [
    "liga_19[\"Age\"].plot.hist(bins=bins_list)"
   ]
  },
  {
   "cell_type": "code",
   "execution_count": 24,
   "metadata": {},
   "outputs": [
    {
     "data": {
      "text/plain": [
       "(14.999, 20.0]     30\n",
       "(20.0, 25.0]      123\n",
       "(25.0, 30.0]       98\n",
       "(30.0, 35.0]       33\n",
       "(35.0, 40.0]        1\n",
       "Name: Age, dtype: int64"
      ]
     },
     "execution_count": 24,
     "metadata": {},
     "output_type": "execute_result"
    }
   ],
   "source": [
    "liga_19[\"Age\"].value_counts(bins=bins_list).sort_index()"
   ]
  },
  {
   "cell_type": "code",
   "execution_count": 25,
   "metadata": {},
   "outputs": [
    {
     "data": {
      "text/plain": [
       "0     Cristiano Ronaldo (http://www.capology.com/soc...\n",
       "1     Paulo Dybala (http://www.capology.com/soccer/p...\n",
       "2     Miralem Pjanic (http://www.capology.com/soccer...\n",
       "3     Douglas Costa (http://www.capology.com/soccer/...\n",
       "4     Gianluigi Donnarumma (http://www.capology.com/...\n",
       "5     Leonardo Bonucci (http://www.capology.com/socc...\n",
       "6     Mario Mandzukic (http://www.capology.com/socce...\n",
       "7     Emre Can (http://www.capology.com/soccer/playe...\n",
       "8     Lorenzo Insigne (http://www.capology.com/socce...\n",
       "10    Mauro Icardi (http://www.capology.com/soccer/p...\n",
       "11    Radja Nainggolan (http://www.capology.com/socc...\n",
       "15    Ivan Perisic (http://www.capology.com/soccer/p...\n",
       "17    Sami Khedira (http://www.capology.com/soccer/p...\n",
       "18    Wojciech Szczesny (http://www.capology.com/soc...\n",
       "19    Stefan De Vrij (http://www.capology.com/soccer...\n",
       "23    Kalidou Koulibaly (http://www.capology.com/soc...\n",
       "20    Alessio Romagnoli (http://www.capology.com/soc...\n",
       "21    Javier Pastore (http://www.capology.com/soccer...\n",
       "26    Samir Handanovic (http://www.capology.com/socc...\n",
       "27    Steven Nzonzi (http://www.capology.com/soccer/...\n",
       "34    João Cancelo (http://www.capology.com/soccer/p...\n",
       "38    Suso (http://www.capology.com/soccer/player/su...\n",
       "37    Pepe Reina (http://www.capology.com/soccer/pla...\n",
       "36    Kwadwo Asamoah (http://www.capology.com/soccer...\n",
       "32    Federico Bernardeschi (http://www.capology.com...\n",
       "31    Daniele Rugani (http://www.capology.com/soccer...\n",
       "29    Antonio Candreva (http://www.capology.com/socc...\n",
       "41    Diego Perotti (http://www.capology.com/soccer/...\n",
       "39    Alessandro Florenzi (http://www.capology.com/s...\n",
       "40    Alex Sandro (http://www.capology.com/soccer/pl...\n",
       "43    João Mário (http://www.capology.com/soccer/pla...\n",
       "44    Konstantinos Manolas (http://www.capology.com/...\n",
       "50    Marcelo Brozovic (http://www.capology.com/socc...\n",
       "51    Matías Vecino (http://www.capology.com/soccer/...\n",
       "52    Patrik Schick (http://www.capology.com/soccer/...\n",
       "47    Fabio Borini (http://www.capology.com/soccer/p...\n",
       "49    Hakan Calhanoglu (http://www.capology.com/socc...\n",
       "45    Arkadiusz Milik (http://www.capology.com/socce...\n",
       "55    Faouzi Ghoulam (http://www.capology.com/soccer...\n",
       "60    Mattia Perin (http://www.capology.com/soccer/p...\n",
       "57    Ciro Immobile (http://www.capology.com/soccer/...\n",
       "63    Mattia Caldara (http://www.capology.com/soccer...\n",
       "61    Franck Kessié (http://www.capology.com/soccer/...\n",
       "65    Ricardo Rodríguez (http://www.capology.com/soc...\n",
       "64    Raúl Albiol (http://www.capology.com/soccer/pl...\n",
       "70    Andrea Conti (http://www.capology.com/soccer/p...\n",
       "72    Ivan Strinic (http://www.capology.com/soccer/p...\n",
       "74    Mattia De Sciglio (http://www.capology.com/soc...\n",
       "68    Allan (http://www.capology.com/soccer/player/a...\n",
       "73    Mateo Musacchio (http://www.capology.com/socce...\n",
       "Name: Player, dtype: object"
      ]
     },
     "execution_count": 25,
     "metadata": {},
     "output_type": "execute_result"
    }
   ],
   "source": [
    "top_salaries = liga_19.head(50)\n",
    "top_salaries['Player']"
   ]
  },
  {
   "cell_type": "markdown",
   "metadata": {},
   "source": [
    "# Eid Mubarak"
   ]
  },
  {
   "cell_type": "code",
   "execution_count": 26,
   "metadata": {},
   "outputs": [],
   "source": [
    "def Ameer_ki_kahani(dataframe,column):\n",
    "\n",
    "    ax = dataframe.head(5).plot.bar(x = \"Player\",y = column,grid = True ,color=\"coral\")\n",
    "    high_salary = list(dataframe[column].head(5))\n",
    "    a={i : high_salary[l] for l,i in enumerate(ax.patches)} \n",
    "    for loc,i in enumerate(a):\n",
    "        salary = str(i.get_height())\n",
    "        ax.annotate(text=salary.replace(salary[-1:-7:-1][-1::-1],\"M+\"),xy=(-.2+loc,i.get_height()),rotation=0)\n",
    "\n",
    "    return ax\n",
    "        \n",
    "        "
   ]
  },
  {
   "cell_type": "code",
   "execution_count": 27,
   "metadata": {},
   "outputs": [
    {
     "data": {
      "text/plain": [
       "49"
      ]
     },
     "execution_count": 27,
     "metadata": {},
     "output_type": "execute_result"
    }
   ],
   "source": [
    "len(\"Lionel Messi (http://www.capology.com/soccer/p...\")"
   ]
  },
  {
   "cell_type": "code",
   "execution_count": 28,
   "metadata": {},
   "outputs": [],
   "source": [
    "players = top_salaries[\"Player\"]\n",
    "f = []\n",
    "for i in players:\n",
    "    j,k = i.split(\" \")[0:2:]\n",
    "    if len(j+\" \"+k) >= 50:\n",
    "        f.append(j)\n",
    "    else:\n",
    "        f.append(j+\" \"+k)"
   ]
  },
  {
   "cell_type": "code",
   "execution_count": 29,
   "metadata": {},
   "outputs": [],
   "source": [
    "top_salaries = top_salaries.sort_values(\"2020-21 Salary\", ascending=False)"
   ]
  },
  {
   "cell_type": "code",
   "execution_count": 30,
   "metadata": {},
   "outputs": [],
   "source": [
    "# top_salaries.head(10)"
   ]
  },
  {
   "cell_type": "code",
   "execution_count": 31,
   "metadata": {},
   "outputs": [
    {
     "data": {
      "text/plain": [
       "'023053.0'"
      ]
     },
     "execution_count": 31,
     "metadata": {},
     "output_type": "execute_result"
    }
   ],
   "source": [
    "'80023053.0'[-1:-9:-1][-1::-1]"
   ]
  },
  {
   "cell_type": "code",
   "execution_count": 32,
   "metadata": {},
   "outputs": [],
   "source": [
    "salary = top_salaries[\"2020-21 Salary\"]\n",
    "# s = []\n",
    "# for i in salary:\n",
    "#     j = str(i)\n",
    "#     j = j.replace(j[-1:-7:-1][-1::-1],\"M+\")\n",
    "#     s.append(j)"
   ]
  },
  {
   "cell_type": "code",
   "execution_count": 33,
   "metadata": {},
   "outputs": [],
   "source": [
    "# s"
   ]
  },
  {
   "cell_type": "code",
   "execution_count": 34,
   "metadata": {},
   "outputs": [],
   "source": [
    "# top_salaries[\"2020-21 Salary\"] = pd.DataFrame(s)"
   ]
  },
  {
   "cell_type": "code",
   "execution_count": 35,
   "metadata": {},
   "outputs": [],
   "source": [
    "top_salaries[\"Player\"] = pd.DataFrame(f)"
   ]
  },
  {
   "cell_type": "code",
   "execution_count": 36,
   "metadata": {},
   "outputs": [],
   "source": [
    "top_salaries = top_salaries.dropna()"
   ]
  },
  {
   "cell_type": "code",
   "execution_count": 37,
   "metadata": {},
   "outputs": [],
   "source": [
    "# top_salaries"
   ]
  },
  {
   "cell_type": "code",
   "execution_count": 38,
   "metadata": {},
   "outputs": [
    {
     "data": {
      "text/plain": [
       "Juventus       13\n",
       "Inter Milan     8\n",
       "AC Milan        6\n",
       "Roma            5\n",
       "Napoli          3\n",
       "Name: Club, dtype: int64"
      ]
     },
     "execution_count": 38,
     "metadata": {},
     "output_type": "execute_result"
    }
   ],
   "source": [
    "top_salaries[\"Club\"].value_counts()"
   ]
  },
  {
   "cell_type": "code",
   "execution_count": 39,
   "metadata": {},
   "outputs": [
    {
     "data": {
      "text/plain": [
       "<AxesSubplot:>"
      ]
     },
     "execution_count": 39,
     "metadata": {},
     "output_type": "execute_result"
    },
    {
     "data": {
      "image/png": "[encoded data removed]",
      "text/plain": [
       "<Figure size 432x288 with 1 Axes>"
      ]
     },
     "metadata": {
      "needs_background": "light"
     },
     "output_type": "display_data"
    }
   ],
   "source": [
    "top_salaries[\"Club\"].value_counts().plot.bar()"
   ]
  },
  {
   "cell_type": "code",
   "execution_count": 40,
   "metadata": {},
   "outputs": [],
   "source": [
    "# unique = top_salaries[\"Club\"].unique()\n",
    "# unique"
   ]
  },
  {
   "cell_type": "code",
   "execution_count": 41,
   "metadata": {},
   "outputs": [
    {
     "data": {
      "text/plain": [
       "Index(['Juventus', 'Inter Milan', 'AC Milan', 'Roma', 'Napoli'], dtype='object')"
      ]
     },
     "execution_count": 41,
     "metadata": {},
     "output_type": "execute_result"
    }
   ],
   "source": [
    "unique = top_salaries[\"Club\"].value_counts().index\n",
    "unique"
   ]
  },
  {
   "cell_type": "code",
   "execution_count": 42,
   "metadata": {},
   "outputs": [],
   "source": [
    "club_sum = {}\n",
    "\n",
    "for i in unique:\n",
    "    club_sum[i] = round(top_salaries.loc[top_salaries[\"Club\"] == i,\"2019-20 Salary\"].sum())"
   ]
  },
  {
   "cell_type": "code",
   "execution_count": 43,
   "metadata": {},
   "outputs": [
    {
     "data": {
      "text/plain": [
       "{'Juventus': 180740047,\n",
       " 'Inter Milan': 60107200,\n",
       " 'AC Milan': 42935006,\n",
       " 'Roma': 31204897,\n",
       " 'Napoli': 22200352}"
      ]
     },
     "execution_count": 43,
     "metadata": {},
     "output_type": "execute_result"
    }
   ],
   "source": [
    "club_sum"
   ]
  },
  {
   "cell_type": "code",
   "execution_count": 44,
   "metadata": {},
   "outputs": [
    {
     "data": {
      "image/png": "[encoded data removed]",
      "text/plain": [
       "<Figure size 432x288 with 1 Axes>"
      ]
     },
     "metadata": {
      "needs_background": "light"
     },
     "output_type": "display_data"
    }
   ],
   "source": [
    "ax = top_salaries[\"Club\"].value_counts().plot.bar(yticks = range(0,18,2))\n",
    "\n",
    "loc = 0\n",
    "for i in club_sum.values():\n",
    "    ax.annotate(text=i,xy=(-.05+loc,6),rotation=90)\n",
    "    loc += 1\n",
    "\n"
   ]
  },
  {
   "cell_type": "code",
   "execution_count": 45,
   "metadata": {},
   "outputs": [
    {
     "data": {
      "text/plain": [
       "8"
      ]
     },
     "execution_count": 45,
     "metadata": {},
     "output_type": "execute_result"
    }
   ],
   "source": [
    "ax.patches[1].get_height()"
   ]
  },
  {
   "cell_type": "code",
   "execution_count": 46,
   "metadata": {},
   "outputs": [
    {
     "name": "stdout",
     "output_type": "stream",
     "text": [
      "['EPL', 'Bundesliga', 'Serie A', 'La Liga', 'Ligue 1']\n"
     ]
    }
   ],
   "source": [
    "print(res[0:5])"
   ]
  },
  {
   "cell_type": "code",
   "execution_count": 47,
   "metadata": {},
   "outputs": [
    {
     "data": {
      "text/plain": [
       "[13, 8, 6, 5, 3]"
      ]
     },
     "execution_count": 47,
     "metadata": {},
     "output_type": "execute_result"
    }
   ],
   "source": [
    "totals = []\n",
    "\n",
    "# find the values and append to list\n",
    "for i in ax.patches:\n",
    "    totals.append(i.get_height())\n",
    "totals"
   ]
  },
  {
   "cell_type": "code",
   "execution_count": 48,
   "metadata": {},
   "outputs": [
    {
     "data": {
      "text/html": [
       "<div>\n",
       "<style scoped>\n",
       "    .dataframe tbody tr th:only-of-type {\n",
       "        vertical-align: middle;\n",
       "    }\n",
       "\n",
       "    .dataframe tbody tr th {\n",
       "        vertical-align: top;\n",
       "    }\n",
       "\n",
       "    .dataframe thead th {\n",
       "        text-align: right;\n",
       "    }\n",
       "</style>\n",
       "<table border=\"1\" class=\"dataframe\">\n",
       "  <thead>\n",
       "    <tr style=\"text-align: right;\">\n",
       "      <th></th>\n",
       "      <th>Rank</th>\n",
       "      <th>Player</th>\n",
       "      <th>Weekly Salary</th>\n",
       "      <th>Pos.</th>\n",
       "      <th>Age</th>\n",
       "      <th>Status</th>\n",
       "      <th>Length (Yrs)</th>\n",
       "      <th>2018-19 Salary</th>\n",
       "      <th>2019-20 Salary</th>\n",
       "      <th>2020-21 Salary</th>\n",
       "      <th>2021-22 Salary</th>\n",
       "      <th>2022-23 Salary</th>\n",
       "      <th>2023-24 Salary</th>\n",
       "      <th>2024-25 Salary</th>\n",
       "      <th>Club</th>\n",
       "    </tr>\n",
       "  </thead>\n",
       "  <tbody>\n",
       "    <tr>\n",
       "      <th>0</th>\n",
       "      <td>1</td>\n",
       "      <td>Cristiano Ronaldo</td>\n",
       "      <td>1248536</td>\n",
       "      <td>LW</td>\n",
       "      <td>34</td>\n",
       "      <td>Starter</td>\n",
       "      <td>4</td>\n",
       "      <td>64923873</td>\n",
       "      <td>64923873</td>\n",
       "      <td>64923873</td>\n",
       "      <td>64923873</td>\n",
       "      <td>0</td>\n",
       "      <td>0</td>\n",
       "      <td>0</td>\n",
       "      <td>Juventus</td>\n",
       "    </tr>\n",
       "    <tr>\n",
       "      <th>1</th>\n",
       "      <td>2</td>\n",
       "      <td>Paulo Dybala</td>\n",
       "      <td>281930</td>\n",
       "      <td>SS</td>\n",
       "      <td>25</td>\n",
       "      <td>Starter</td>\n",
       "      <td>4</td>\n",
       "      <td>14660375</td>\n",
       "      <td>14660375</td>\n",
       "      <td>14660375</td>\n",
       "      <td>14660375</td>\n",
       "      <td>0</td>\n",
       "      <td>0</td>\n",
       "      <td>0</td>\n",
       "      <td>Juventus</td>\n",
       "    </tr>\n",
       "    <tr>\n",
       "      <th>2</th>\n",
       "      <td>3</td>\n",
       "      <td>Miralem Pjanic</td>\n",
       "      <td>261791</td>\n",
       "      <td>CM</td>\n",
       "      <td>29</td>\n",
       "      <td>Starter</td>\n",
       "      <td>5</td>\n",
       "      <td>13613125</td>\n",
       "      <td>13613125</td>\n",
       "      <td>13613125</td>\n",
       "      <td>13613125</td>\n",
       "      <td>13613125</td>\n",
       "      <td>0</td>\n",
       "      <td>0</td>\n",
       "      <td>Juventus</td>\n",
       "    </tr>\n",
       "    <tr>\n",
       "      <th>3</th>\n",
       "      <td>4</td>\n",
       "      <td>Douglas Costa</td>\n",
       "      <td>241651</td>\n",
       "      <td>RW</td>\n",
       "      <td>28</td>\n",
       "      <td>Reserve</td>\n",
       "      <td>4</td>\n",
       "      <td>12565874</td>\n",
       "      <td>12565874</td>\n",
       "      <td>12565874</td>\n",
       "      <td>12565874</td>\n",
       "      <td>0</td>\n",
       "      <td>0</td>\n",
       "      <td>0</td>\n",
       "      <td>Juventus</td>\n",
       "    </tr>\n",
       "    <tr>\n",
       "      <th>4</th>\n",
       "      <td>5</td>\n",
       "      <td>Gianluigi Donnarumma</td>\n",
       "      <td>241651</td>\n",
       "      <td>GK</td>\n",
       "      <td>20</td>\n",
       "      <td>Starter</td>\n",
       "      <td>3</td>\n",
       "      <td>12565874</td>\n",
       "      <td>12565874</td>\n",
       "      <td>12565874</td>\n",
       "      <td>0</td>\n",
       "      <td>0</td>\n",
       "      <td>0</td>\n",
       "      <td>0</td>\n",
       "      <td>AC Milan</td>\n",
       "    </tr>\n",
       "  </tbody>\n",
       "</table>\n",
       "</div>"
      ],
      "text/plain": [
       "   Rank                Player  Weekly Salary Pos.  Age   Status  Length (Yrs)  \\\n",
       "0     1     Cristiano Ronaldo        1248536   LW   34  Starter             4   \n",
       "1     2          Paulo Dybala         281930   SS   25  Starter             4   \n",
       "2     3        Miralem Pjanic         261791   CM   29  Starter             5   \n",
       "3     4         Douglas Costa         241651   RW   28  Reserve             4   \n",
       "4     5  Gianluigi Donnarumma         241651   GK   20  Starter             3   \n",
       "\n",
       "   2018-19 Salary  2019-20 Salary  2020-21 Salary  2021-22 Salary  \\\n",
       "0        64923873        64923873        64923873        64923873   \n",
       "1        14660375        14660375        14660375        14660375   \n",
       "2        13613125        13613125        13613125        13613125   \n",
       "3        12565874        12565874        12565874        12565874   \n",
       "4        12565874        12565874        12565874               0   \n",
       "\n",
       "   2022-23 Salary  2023-24 Salary  2024-25 Salary      Club  \n",
       "0               0               0               0  Juventus  \n",
       "1               0               0               0  Juventus  \n",
       "2        13613125               0               0  Juventus  \n",
       "3               0               0               0  Juventus  \n",
       "4               0               0               0  AC Milan  "
      ]
     },
     "execution_count": 48,
     "metadata": {},
     "output_type": "execute_result"
    }
   ],
   "source": [
    "top_salaries.head()"
   ]
  },
  {
   "cell_type": "code",
   "execution_count": 49,
   "metadata": {},
   "outputs": [
    {
     "data": {
      "text/plain": [
       "<AxesSubplot:xlabel='Player'>"
      ]
     },
     "execution_count": 49,
     "metadata": {},
     "output_type": "execute_result"
    },
    {
     "data": {
      "image/png": "[encoded data removed]",
      "text/plain": [
       "<Figure size 432x288 with 1 Axes>"
      ]
     },
     "metadata": {
      "needs_background": "light"
     },
     "output_type": "display_data"
    }
   ],
   "source": [
    "Ameer_ki_kahani(top_salaries,\"2020-21 Salary\")"
   ]
  },
  {
   "cell_type": "code",
   "execution_count": 50,
   "metadata": {},
   "outputs": [
    {
     "data": {
      "text/plain": [
       "<AxesSubplot:xlabel='Player'>"
      ]
     },
     "execution_count": 50,
     "metadata": {},
     "output_type": "execute_result"
    },
    {
     "data": {
      "image/png": "[encoded data removed]",
      "text/plain": [
       "<Figure size 432x288 with 1 Axes>"
      ]
     },
     "metadata": {
      "needs_background": "light"
     },
     "output_type": "display_data"
    }
   ],
   "source": [
    "Ameer_ki_kahani(top_salaries,\"2019-20 Salary\")"
   ]
  },
  {
   "cell_type": "code",
   "execution_count": 51,
   "metadata": {},
   "outputs": [
    {
     "data": {
      "text/html": [
       "<div>\n",
       "<style scoped>\n",
       "    .dataframe tbody tr th:only-of-type {\n",
       "        vertical-align: middle;\n",
       "    }\n",
       "\n",
       "    .dataframe tbody tr th {\n",
       "        vertical-align: top;\n",
       "    }\n",
       "\n",
       "    .dataframe thead th {\n",
       "        text-align: right;\n",
       "    }\n",
       "</style>\n",
       "<table border=\"1\" class=\"dataframe\">\n",
       "  <thead>\n",
       "    <tr style=\"text-align: right;\">\n",
       "      <th></th>\n",
       "      <th>Rank</th>\n",
       "      <th>Player</th>\n",
       "      <th>Weekly Salary</th>\n",
       "      <th>Pos.</th>\n",
       "      <th>Age</th>\n",
       "      <th>Status</th>\n",
       "      <th>Length (Yrs)</th>\n",
       "      <th>2018-19 Salary</th>\n",
       "      <th>2019-20 Salary</th>\n",
       "      <th>2020-21 Salary</th>\n",
       "      <th>2021-22 Salary</th>\n",
       "      <th>2022-23 Salary</th>\n",
       "      <th>2023-24 Salary</th>\n",
       "      <th>2024-25 Salary</th>\n",
       "      <th>Club</th>\n",
       "    </tr>\n",
       "  </thead>\n",
       "  <tbody>\n",
       "    <tr>\n",
       "      <th>0</th>\n",
       "      <td>1</td>\n",
       "      <td>Cristiano Ronaldo</td>\n",
       "      <td>1248536</td>\n",
       "      <td>LW</td>\n",
       "      <td>34</td>\n",
       "      <td>Starter</td>\n",
       "      <td>4</td>\n",
       "      <td>64923873</td>\n",
       "      <td>64923873</td>\n",
       "      <td>64923873</td>\n",
       "      <td>64923873</td>\n",
       "      <td>0</td>\n",
       "      <td>0</td>\n",
       "      <td>0</td>\n",
       "      <td>Juventus</td>\n",
       "    </tr>\n",
       "    <tr>\n",
       "      <th>1</th>\n",
       "      <td>2</td>\n",
       "      <td>Paulo Dybala</td>\n",
       "      <td>281930</td>\n",
       "      <td>SS</td>\n",
       "      <td>25</td>\n",
       "      <td>Starter</td>\n",
       "      <td>4</td>\n",
       "      <td>14660375</td>\n",
       "      <td>14660375</td>\n",
       "      <td>14660375</td>\n",
       "      <td>14660375</td>\n",
       "      <td>0</td>\n",
       "      <td>0</td>\n",
       "      <td>0</td>\n",
       "      <td>Juventus</td>\n",
       "    </tr>\n",
       "    <tr>\n",
       "      <th>2</th>\n",
       "      <td>3</td>\n",
       "      <td>Miralem Pjanic</td>\n",
       "      <td>261791</td>\n",
       "      <td>CM</td>\n",
       "      <td>29</td>\n",
       "      <td>Starter</td>\n",
       "      <td>5</td>\n",
       "      <td>13613125</td>\n",
       "      <td>13613125</td>\n",
       "      <td>13613125</td>\n",
       "      <td>13613125</td>\n",
       "      <td>13613125</td>\n",
       "      <td>0</td>\n",
       "      <td>0</td>\n",
       "      <td>Juventus</td>\n",
       "    </tr>\n",
       "    <tr>\n",
       "      <th>3</th>\n",
       "      <td>4</td>\n",
       "      <td>Douglas Costa</td>\n",
       "      <td>241651</td>\n",
       "      <td>RW</td>\n",
       "      <td>28</td>\n",
       "      <td>Reserve</td>\n",
       "      <td>4</td>\n",
       "      <td>12565874</td>\n",
       "      <td>12565874</td>\n",
       "      <td>12565874</td>\n",
       "      <td>12565874</td>\n",
       "      <td>0</td>\n",
       "      <td>0</td>\n",
       "      <td>0</td>\n",
       "      <td>Juventus</td>\n",
       "    </tr>\n",
       "    <tr>\n",
       "      <th>4</th>\n",
       "      <td>5</td>\n",
       "      <td>Gianluigi Donnarumma</td>\n",
       "      <td>241651</td>\n",
       "      <td>GK</td>\n",
       "      <td>20</td>\n",
       "      <td>Starter</td>\n",
       "      <td>3</td>\n",
       "      <td>12565874</td>\n",
       "      <td>12565874</td>\n",
       "      <td>12565874</td>\n",
       "      <td>0</td>\n",
       "      <td>0</td>\n",
       "      <td>0</td>\n",
       "      <td>0</td>\n",
       "      <td>AC Milan</td>\n",
       "    </tr>\n",
       "    <tr>\n",
       "      <th>5</th>\n",
       "      <td>6</td>\n",
       "      <td>Leonardo Bonucci</td>\n",
       "      <td>221512</td>\n",
       "      <td>CB</td>\n",
       "      <td>31</td>\n",
       "      <td>Starter</td>\n",
       "      <td>5</td>\n",
       "      <td>11518624</td>\n",
       "      <td>11518624</td>\n",
       "      <td>11518624</td>\n",
       "      <td>11518624</td>\n",
       "      <td>11518624</td>\n",
       "      <td>0</td>\n",
       "      <td>0</td>\n",
       "      <td>Juventus</td>\n",
       "    </tr>\n",
       "    <tr>\n",
       "      <th>6</th>\n",
       "      <td>7</td>\n",
       "      <td>Mario Mandzukic</td>\n",
       "      <td>221512</td>\n",
       "      <td>CF</td>\n",
       "      <td>32</td>\n",
       "      <td>Starter</td>\n",
       "      <td>3</td>\n",
       "      <td>11518624</td>\n",
       "      <td>11518624</td>\n",
       "      <td>11518624</td>\n",
       "      <td>0</td>\n",
       "      <td>0</td>\n",
       "      <td>0</td>\n",
       "      <td>0</td>\n",
       "      <td>Juventus</td>\n",
       "    </tr>\n",
       "    <tr>\n",
       "      <th>7</th>\n",
       "      <td>8</td>\n",
       "      <td>Emre Can</td>\n",
       "      <td>201373</td>\n",
       "      <td>DM</td>\n",
       "      <td>25</td>\n",
       "      <td>Reserve</td>\n",
       "      <td>4</td>\n",
       "      <td>10471373</td>\n",
       "      <td>10471373</td>\n",
       "      <td>10471373</td>\n",
       "      <td>10471373</td>\n",
       "      <td>0</td>\n",
       "      <td>0</td>\n",
       "      <td>0</td>\n",
       "      <td>Juventus</td>\n",
       "    </tr>\n",
       "    <tr>\n",
       "      <th>8</th>\n",
       "      <td>9</td>\n",
       "      <td>Lorenzo Insigne</td>\n",
       "      <td>185278</td>\n",
       "      <td>LW</td>\n",
       "      <td>27</td>\n",
       "      <td>Starter</td>\n",
       "      <td>4</td>\n",
       "      <td>9634478</td>\n",
       "      <td>9634478</td>\n",
       "      <td>9634478</td>\n",
       "      <td>9634478</td>\n",
       "      <td>0</td>\n",
       "      <td>0</td>\n",
       "      <td>0</td>\n",
       "      <td>Napoli</td>\n",
       "    </tr>\n",
       "    <tr>\n",
       "      <th>10</th>\n",
       "      <td>11</td>\n",
       "      <td>Radja Nainggolan</td>\n",
       "      <td>181233</td>\n",
       "      <td>CF</td>\n",
       "      <td>26</td>\n",
       "      <td>Starter</td>\n",
       "      <td>3</td>\n",
       "      <td>9424123</td>\n",
       "      <td>9424123</td>\n",
       "      <td>9424123</td>\n",
       "      <td>0</td>\n",
       "      <td>0</td>\n",
       "      <td>0</td>\n",
       "      <td>0</td>\n",
       "      <td>Inter Milan</td>\n",
       "    </tr>\n",
       "  </tbody>\n",
       "</table>\n",
       "</div>"
      ],
      "text/plain": [
       "    Rank                Player  Weekly Salary Pos.  Age   Status  \\\n",
       "0      1     Cristiano Ronaldo        1248536   LW   34  Starter   \n",
       "1      2          Paulo Dybala         281930   SS   25  Starter   \n",
       "2      3        Miralem Pjanic         261791   CM   29  Starter   \n",
       "3      4         Douglas Costa         241651   RW   28  Reserve   \n",
       "4      5  Gianluigi Donnarumma         241651   GK   20  Starter   \n",
       "5      6      Leonardo Bonucci         221512   CB   31  Starter   \n",
       "6      7       Mario Mandzukic         221512   CF   32  Starter   \n",
       "7      8              Emre Can         201373   DM   25  Reserve   \n",
       "8      9       Lorenzo Insigne         185278   LW   27  Starter   \n",
       "10    11      Radja Nainggolan         181233   CF   26  Starter   \n",
       "\n",
       "    Length (Yrs)  2018-19 Salary  2019-20 Salary  2020-21 Salary  \\\n",
       "0              4        64923873        64923873        64923873   \n",
       "1              4        14660375        14660375        14660375   \n",
       "2              5        13613125        13613125        13613125   \n",
       "3              4        12565874        12565874        12565874   \n",
       "4              3        12565874        12565874        12565874   \n",
       "5              5        11518624        11518624        11518624   \n",
       "6              3        11518624        11518624        11518624   \n",
       "7              4        10471373        10471373        10471373   \n",
       "8              4         9634478         9634478         9634478   \n",
       "10             3         9424123         9424123         9424123   \n",
       "\n",
       "    2021-22 Salary  2022-23 Salary  2023-24 Salary  2024-25 Salary  \\\n",
       "0         64923873               0               0               0   \n",
       "1         14660375               0               0               0   \n",
       "2         13613125        13613125               0               0   \n",
       "3         12565874               0               0               0   \n",
       "4                0               0               0               0   \n",
       "5         11518624        11518624               0               0   \n",
       "6                0               0               0               0   \n",
       "7         10471373               0               0               0   \n",
       "8          9634478               0               0               0   \n",
       "10               0               0               0               0   \n",
       "\n",
       "           Club  \n",
       "0      Juventus  \n",
       "1      Juventus  \n",
       "2      Juventus  \n",
       "3      Juventus  \n",
       "4      AC Milan  \n",
       "5      Juventus  \n",
       "6      Juventus  \n",
       "7      Juventus  \n",
       "8        Napoli  \n",
       "10  Inter Milan  "
      ]
     },
     "execution_count": 51,
     "metadata": {},
     "output_type": "execute_result"
    }
   ],
   "source": [
    "top_salaries.head(10)"
   ]
  },
  {
   "cell_type": "code",
   "execution_count": 52,
   "metadata": {},
   "outputs": [
    {
     "data": {
      "text/plain": [
       "64923873"
      ]
     },
     "execution_count": 52,
     "metadata": {},
     "output_type": "execute_result"
    }
   ],
   "source": [
    "salary[0]"
   ]
  },
  {
   "cell_type": "markdown",
   "metadata": {},
   "source": [
    "### Abhi to Khahani Shuru hoi hai"
   ]
  },
  {
   "cell_type": "code",
   "execution_count": 53,
   "metadata": {},
   "outputs": [],
   "source": [
    "p = []\n",
    "for i in players:\n",
    "    j,k = i.split(\" \")[0:2:]\n",
    "    if len(j+\" \"+k) >= 50:\n",
    "        p.append(j)\n",
    "    else:\n",
    "        p.append(j+\" \"+k)\n",
    "s = []\n",
    "for i in salary:\n",
    "    j = str(i)\n",
    "    j = j.replace(j[-1:-7:-1][-1::-1],\"M+\")\n",
    "    s.append(j)\n",
    "\n",
    "    \n",
    "high_salary = {p[i]:s[i] for i in range(50)}\n"
   ]
  },
  {
   "cell_type": "code",
   "execution_count": 54,
   "metadata": {},
   "outputs": [
    {
     "data": {
      "text/plain": [
       "50"
      ]
     },
     "execution_count": 54,
     "metadata": {},
     "output_type": "execute_result"
    }
   ],
   "source": [
    "len(players)"
   ]
  },
  {
   "cell_type": "code",
   "execution_count": 55,
   "metadata": {},
   "outputs": [
    {
     "data": {
      "text/plain": [
       "('64M+', '14M+', '13M+', '12M+', '12M+')"
      ]
     },
     "execution_count": 55,
     "metadata": {},
     "output_type": "execute_result"
    }
   ],
   "source": [
    "high_salary = tuple(high_salary.values())[:5]\n",
    "high_salary"
   ]
  },
  {
   "cell_type": "code",
   "execution_count": 56,
   "metadata": {},
   "outputs": [
    {
     "data": {
      "text/plain": [
       "{<matplotlib.patches.Rectangle at 0x288f2a44df0>: '64M+',\n",
       " <matplotlib.patches.Rectangle at 0x288f2a44c70>: '14M+',\n",
       " <matplotlib.patches.Rectangle at 0x288f2a50310>: '13M+',\n",
       " <matplotlib.patches.Rectangle at 0x288f2a50610>: '12M+',\n",
       " <matplotlib.patches.Rectangle at 0x288f2a508e0>: '12M+'}"
      ]
     },
     "execution_count": 56,
     "metadata": {},
     "output_type": "execute_result"
    }
   ],
   "source": [
    "top_salaries[\"Player\"] = pd.DataFrame(p)\n",
    "# a={}\n",
    "# for l,i in enumerate(ax.patches):\n",
    "#     a[i] = high_salary[l]\n",
    "a={i : high_salary[l] for l,i in enumerate(ax.patches)} \n",
    "a"
   ]
  },
  {
   "cell_type": "code",
   "execution_count": 57,
   "metadata": {},
   "outputs": [
    {
     "name": "stdout",
     "output_type": "stream",
     "text": [
      "AxesSubplot(0.125,0.125;0.775x0.755)\n"
     ]
    },
    {
     "data": {
      "image/png": "[encoded data removed]",
      "text/plain": [
       "<Figure size 432x288 with 1 Axes>"
      ]
     },
     "metadata": {
      "needs_background": "light"
     },
     "output_type": "display_data"
    }
   ],
   "source": [
    "\n",
    "ax = top_salaries.head().plot.bar(x = \"Player\",\n",
    "                                y = \"2020-21 Salary\",grid = True ,color=\"coral\")\n",
    "loc = 0\n",
    "for i in a:\n",
    "    salary = str(i.get_height())\n",
    "    ax.annotate(text=salary.replace(salary[-1:-7:-1][-1::-1],\"M+\"),xy=(loc-.2,i.get_height()),\n",
    "                rotation=0)\n",
    "    loc += 1\n",
    "\n",
    "print(ax)"
   ]
  },
  {
   "cell_type": "code",
   "execution_count": 58,
   "metadata": {},
   "outputs": [
    {
     "data": {
      "text/plain": [
       "'80M+'"
      ]
     },
     "execution_count": 58,
     "metadata": {},
     "output_type": "execute_result"
    }
   ],
   "source": [
    "\"80023053\".replace(\"80023053\"[-1:-7:-1][-1::-1],\"M+\")"
   ]
  },
  {
   "cell_type": "code",
   "execution_count": 59,
   "metadata": {},
   "outputs": [
    {
     "name": "stdout",
     "output_type": "stream",
     "text": [
      "<bound method Rectangle.get_height of <matplotlib.patches.Rectangle object at 0x00000288F2B775B0>>\n"
     ]
    }
   ],
   "source": [
    "print(ax.patch.get_height)"
   ]
  },
  {
   "cell_type": "code",
   "execution_count": null,
   "metadata": {},
   "outputs": [],
   "source": []
  }
 ],
 "metadata": {
  "kernelspec": {
   "display_name": "Python 3",
   "language": "python",
   "name": "python3"
  },
  "language_info": {
   "codemirror_mode": {
    "name": "ipython",
    "version": 3
   },
   "file_extension": ".py",
   "mimetype": "text/x-python",
   "name": "python",
   "nbconvert_exporter": "python",
   "pygments_lexer": "ipython3",
   "version": "3.8.5"
  }
 },
 "nbformat": 4,
 "nbformat_minor": 4
}
