{
 "cells": [
  {
   "cell_type": "code",
   "execution_count": 32,
   "metadata": {},
   "outputs": [],
   "source": [
    "import datetime as dt"
   ]
  },
  {
   "cell_type": "code",
   "execution_count": 33,
   "metadata": {},
   "outputs": [],
   "source": [
    "date = \"21-March-2021\"#date = \"12/31/18\""
   ]
  },
  {
   "cell_type": "code",
   "execution_count": 34,
   "metadata": {},
   "outputs": [],
   "source": [
    "pattern = \"%d-%B-%Y\"#pattern = \"%x\""
   ]
  },
  {
   "cell_type": "code",
   "execution_count": 35,
   "metadata": {},
   "outputs": [],
   "source": [
    "date = dt.datetime.strptime(date, pattern)### string part time"
   ]
  },
  {
   "cell_type": "code",
   "execution_count": 36,
   "metadata": {
    "scrolled": true
   },
   "outputs": [
    {
     "data": {
      "text/plain": [
       "datetime.datetime(2021, 3, 21, 0, 0)"
      ]
     },
     "execution_count": 36,
     "metadata": {},
     "output_type": "execute_result"
    }
   ],
   "source": [
    "date"
   ]
  },
  {
   "cell_type": "code",
   "execution_count": 37,
   "metadata": {},
   "outputs": [
    {
     "name": "stdout",
     "output_type": "stream",
     "text": [
      "2021-03-21 00:00:00\n"
     ]
    }
   ],
   "source": [
    "print(date)"
   ]
  },
  {
   "cell_type": "code",
   "execution_count": 38,
   "metadata": {},
   "outputs": [
    {
     "data": {
      "text/plain": [
       "datetime.datetime"
      ]
     },
     "execution_count": 38,
     "metadata": {},
     "output_type": "execute_result"
    }
   ],
   "source": [
    "type(date)"
   ]
  },
  {
   "cell_type": "markdown",
   "metadata": {},
   "source": [
    "# Attributes of date time\n",
    "attribute = information \\\n",
    "date.year \\\n",
    "date.month \\\n",
    "date.day \\\n",
    "date.hour \\\n",
    "date.minute \n",
    "\n",
    "date.second"
   ]
  },
  {
   "cell_type": "code",
   "execution_count": 39,
   "metadata": {},
   "outputs": [
    {
     "data": {
      "text/plain": [
       "2021"
      ]
     },
     "execution_count": 39,
     "metadata": {},
     "output_type": "execute_result"
    }
   ],
   "source": [
    "date.year"
   ]
  },
  {
   "cell_type": "code",
   "execution_count": 40,
   "metadata": {},
   "outputs": [
    {
     "data": {
      "text/plain": [
       "3"
      ]
     },
     "execution_count": 40,
     "metadata": {},
     "output_type": "execute_result"
    }
   ],
   "source": [
    "date.month"
   ]
  },
  {
   "cell_type": "code",
   "execution_count": 41,
   "metadata": {},
   "outputs": [
    {
     "data": {
      "text/plain": [
       "21"
      ]
     },
     "execution_count": 41,
     "metadata": {},
     "output_type": "execute_result"
    }
   ],
   "source": [
    "date.day"
   ]
  },
  {
   "cell_type": "code",
   "execution_count": 42,
   "metadata": {},
   "outputs": [
    {
     "data": {
      "text/plain": [
       "0"
      ]
     },
     "execution_count": 42,
     "metadata": {},
     "output_type": "execute_result"
    }
   ],
   "source": [
    "date.hour"
   ]
  },
  {
   "cell_type": "code",
   "execution_count": 43,
   "metadata": {},
   "outputs": [],
   "source": [
    "def read_file(filename):\n",
    "    from csv import reader\n",
    "    return list(reader(open(filename, encoding = \"utf-8\")))\n",
    "dataset = read_file(\"datasets/potus_visitors_2015.csv\")"
   ]
  },
  {
   "cell_type": "code",
   "execution_count": 44,
   "metadata": {},
   "outputs": [],
   "source": [
    "header = dataset[0]"
   ]
  },
  {
   "cell_type": "code",
   "execution_count": 45,
   "metadata": {},
   "outputs": [
    {
     "data": {
      "text/plain": [
       "['name',\n",
       " 'appt_made_date',\n",
       " 'appt_start_date',\n",
       " 'appt_end_date',\n",
       " 'visitee_namelast',\n",
       " 'visitee_namefirst',\n",
       " 'meeting_room',\n",
       " 'description']"
      ]
     },
     "execution_count": 45,
     "metadata": {},
     "output_type": "execute_result"
    }
   ],
   "source": [
    "header"
   ]
  },
  {
   "cell_type": "code",
   "execution_count": 46,
   "metadata": {},
   "outputs": [],
   "source": [
    "lotus_potus = dataset[1:]"
   ]
  },
  {
   "cell_type": "code",
   "execution_count": 47,
   "metadata": {},
   "outputs": [],
   "source": [
    "pattern = \"%m/%d/%Y %H:%M\""
   ]
  },
  {
   "cell_type": "code",
   "execution_count": 48,
   "metadata": {},
   "outputs": [],
   "source": [
    "for i in lotus_potus:\n",
    "    i[3] = dt.datetime.strptime(i[3],pattern)\n",
    "    i[2] = dt.datetime.strptime(i[2],pattern)"
   ]
  },
  {
   "cell_type": "code",
   "execution_count": 49,
   "metadata": {},
   "outputs": [],
   "source": [
    "meeting = {}\n",
    "for i in lotus_potus:\n",
    "    month=i[2].strftime('%B')### string format time\n",
    "    if month not in meeting:\n",
    "        meeting[month] = 1\n",
    "    else:\n",
    "        meeting[month] +=1"
   ]
  },
  {
   "cell_type": "code",
   "execution_count": 50,
   "metadata": {},
   "outputs": [
    {
     "data": {
      "text/plain": [
       "{'January': 1248,\n",
       " 'February': 2165,\n",
       " 'March': 2262,\n",
       " 'April': 4996,\n",
       " 'May': 3013,\n",
       " 'June': 7743,\n",
       " 'July': 2930,\n",
       " 'August': 1350,\n",
       " 'September': 4416,\n",
       " 'October': 3669,\n",
       " 'November': 1133,\n",
       " 'December': 13029}"
      ]
     },
     "execution_count": 50,
     "metadata": {},
     "output_type": "execute_result"
    }
   ],
   "source": [
    "meeting"
   ]
  },
  {
   "cell_type": "code",
   "execution_count": 51,
   "metadata": {},
   "outputs": [],
   "source": [
    "current_date = dt.datetime.now()"
   ]
  },
  {
   "cell_type": "code",
   "execution_count": 52,
   "metadata": {},
   "outputs": [
    {
     "data": {
      "text/plain": [
       "datetime.datetime(2021, 5, 11, 2, 33, 3, 60435)"
      ]
     },
     "execution_count": 52,
     "metadata": {},
     "output_type": "execute_result"
    }
   ],
   "source": [
    "current_date"
   ]
  },
  {
   "cell_type": "code",
   "execution_count": 53,
   "metadata": {},
   "outputs": [],
   "source": [
    "# current_date + 10"
   ]
  },
  {
   "cell_type": "code",
   "execution_count": 54,
   "metadata": {},
   "outputs": [
    {
     "data": {
      "text/plain": [
       "datetime.datetime(2021, 5, 21, 2, 33, 3, 60435)"
      ]
     },
     "execution_count": 54,
     "metadata": {},
     "output_type": "execute_result"
    }
   ],
   "source": [
    "date = current_date+dt.timedelta(10)\n",
    "date"
   ]
  },
  {
   "cell_type": "code",
   "execution_count": 55,
   "metadata": {},
   "outputs": [
    {
     "data": {
      "text/plain": [
       "'21 May 2021'"
      ]
     },
     "execution_count": 55,
     "metadata": {},
     "output_type": "execute_result"
    }
   ],
   "source": [
    "date.strftime(\"%d %B %Y\")"
   ]
  },
  {
   "cell_type": "code",
   "execution_count": 56,
   "metadata": {},
   "outputs": [
    {
     "name": "stdout",
     "output_type": "stream",
     "text": [
      "['Joshua T. Blanton', '2014-12-18T00:00:00', datetime.datetime(2015, 1, 6, 9, 30), datetime.datetime(2015, 1, 6, 23, 59), '', 'potus', 'west wing', 'JointService Military Honor Guard']\n",
      "['Jack T. Gutting', '2014-12-18T00:00:00', datetime.datetime(2015, 1, 6, 9, 30), datetime.datetime(2015, 1, 6, 23, 59), '', 'potus', 'west wing', 'JointService Military Honor Guard']\n",
      "['Bradley T. Guiles', '2014-12-18T00:00:00', datetime.datetime(2015, 1, 6, 9, 30), datetime.datetime(2015, 1, 6, 23, 59), '', 'potus', 'west wing', 'JointService Military Honor Guard']\n",
      "['Loryn F. Grieb', '2014-12-18T00:00:00', datetime.datetime(2015, 1, 6, 9, 30), datetime.datetime(2015, 1, 6, 23, 59), '', 'potus', 'west wing', 'JointService Military Honor Guard']\n",
      "['Travis D. Gordon', '2014-12-18T00:00:00', datetime.datetime(2015, 1, 6, 9, 30), datetime.datetime(2015, 1, 6, 23, 59), '', 'potus', 'west wing', 'JointService Military Honor Guard']\n"
     ]
    }
   ],
   "source": [
    "for i in lotus_potus[:5]:\n",
    "    print(i)"
   ]
  },
  {
   "cell_type": "code",
   "execution_count": 57,
   "metadata": {
    "scrolled": false
   },
   "outputs": [],
   "source": [
    "for i in lotus_potus:#start = i[2] & end = i[3]\n",
    "    i[2] = dt.timedelta( hours = i[2].hour , minutes = i[2].minute)\n",
    "    i[3] = dt.timedelta( hours = i[3].hour , minutes = i[3].minute)\n",
    "    duration = i[3] - i[2]\n",
    "    i.append(duration)\n",
    "#     lotus_potus.append(duration)\n",
    "    #lotus_potus.append( (dt.timedelta( hours = i[3].hour , minutes = i[3].minute)) - (dt.timedelta( hours = i[2].hour , minutes = i[2].minute)) )"
   ]
  },
  {
   "cell_type": "code",
   "execution_count": 58,
   "metadata": {},
   "outputs": [
    {
     "data": {
      "text/plain": [
       "9"
      ]
     },
     "execution_count": 58,
     "metadata": {},
     "output_type": "execute_result"
    }
   ],
   "source": [
    "len(lotus_potus[0])"
   ]
  },
  {
   "cell_type": "code",
   "execution_count": 59,
   "metadata": {},
   "outputs": [
    {
     "data": {
      "text/plain": [
       "['Joshua T. Blanton',\n",
       " '2014-12-18T00:00:00',\n",
       " datetime.timedelta(seconds=34200),\n",
       " datetime.timedelta(seconds=86340),\n",
       " '',\n",
       " 'potus',\n",
       " 'west wing',\n",
       " 'JointService Military Honor Guard',\n",
       " datetime.timedelta(seconds=52140)]"
      ]
     },
     "execution_count": 59,
     "metadata": {},
     "output_type": "execute_result"
    }
   ],
   "source": [
    "lotus_potus[0]"
   ]
  },
  {
   "cell_type": "code",
   "execution_count": 62,
   "metadata": {},
   "outputs": [],
   "source": [
    "header.append(\"Meeting Duration\")"
   ]
  },
  {
   "cell_type": "code",
   "execution_count": 64,
   "metadata": {},
   "outputs": [
    {
     "data": {
      "text/plain": [
       "['Grace M. Bauman',\n",
       " '2015-12-16T00:00:00',\n",
       " datetime.timedelta(seconds=59400),\n",
       " datetime.timedelta(seconds=86340),\n",
       " '',\n",
       " 'POTUS/FLOTUS',\n",
       " 'State Floo',\n",
       " '',\n",
       " datetime.timedelta(seconds=26940)]"
      ]
     },
     "execution_count": 64,
     "metadata": {},
     "output_type": "execute_result"
    }
   ],
   "source": [
    "lotus_potus[-1]"
   ]
  },
  {
   "cell_type": "code",
   "execution_count": null,
   "metadata": {},
   "outputs": [],
   "source": []
  }
 ],
 "metadata": {
  "kernelspec": {
   "display_name": "Python 3",
   "language": "python",
   "name": "python3"
  },
  "language_info": {
   "codemirror_mode": {
    "name": "ipython",
    "version": 3
   },
   "file_extension": ".py",
   "mimetype": "text/x-python",
   "name": "python",
   "nbconvert_exporter": "python",
   "pygments_lexer": "ipython3",
   "version": "3.8.5"
  }
 },
 "nbformat": 4,
 "nbformat_minor": 4
}
