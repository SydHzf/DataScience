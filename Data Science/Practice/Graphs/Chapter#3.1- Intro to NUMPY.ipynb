{
 "cells": [
  {
   "cell_type": "markdown",
   "metadata": {},
   "source": [
    " # Numpy  \n",
    " * (only work on Numbers) \n",
    " * (Based on C language) \n",
    " * (ndarray) "
   ]
  },
  {
   "cell_type": "code",
   "execution_count": 1,
   "metadata": {},
   "outputs": [
    {
     "data": {
      "text/plain": [
       "numpy.ndarray"
      ]
     },
     "execution_count": 1,
     "metadata": {},
     "output_type": "execute_result"
    }
   ],
   "source": [
    "import numpy as np \n",
    "\n",
    "lst = [2,4,6,8]\n",
    "\n",
    "array = np.array(lst)\n",
    "\n",
    "array\n",
    "\n",
    "type(array)"
   ]
  },
  {
   "cell_type": "markdown",
   "metadata": {},
   "source": [
    "## SIMD: Single Instruction Multiple Data."
   ]
  },
  {
   "cell_type": "code",
   "execution_count": 2,
   "metadata": {},
   "outputs": [
    {
     "data": {
      "text/plain": [
       "1"
      ]
     },
     "execution_count": 2,
     "metadata": {},
     "output_type": "execute_result"
    }
   ],
   "source": [
    "lst = [2,4,6,8]\n",
    "\n",
    "array = np.array(lst)\n",
    "\n",
    "array\n",
    "\n",
    "type(array)\n",
    "\n",
    "array**2\n",
    "\n",
    "array.dtype\n",
    "\n",
    "array.ndim"
   ]
  },
  {
   "cell_type": "markdown",
   "metadata": {},
   "source": [
    "### Jitni indexing mai value fetch hojye wo dimension hoga\n",
    "##### Example: i[0][2] == 2-dimensional "
   ]
  },
  {
   "cell_type": "markdown",
   "metadata": {},
   "source": [
    "# Axis\n",
    "  ### * axis = 0 (row-wise operation)\n",
    "  ### * axis = 1 (column-wise operation)\n"
   ]
  },
  {
   "cell_type": "code",
   "execution_count": 3,
   "metadata": {},
   "outputs": [],
   "source": [
    "arr = np.array([[1,2,3,4],[1,2,3,4]])"
   ]
  },
  {
   "cell_type": "code",
   "execution_count": 4,
   "metadata": {},
   "outputs": [
    {
     "data": {
      "text/plain": [
       "array([2, 4, 6, 8])"
      ]
     },
     "execution_count": 4,
     "metadata": {},
     "output_type": "execute_result"
    }
   ],
   "source": [
    "arr.sum(axis=0)"
   ]
  },
  {
   "cell_type": "code",
   "execution_count": 5,
   "metadata": {},
   "outputs": [
    {
     "data": {
      "text/plain": [
       "array([10, 10])"
      ]
     },
     "execution_count": 5,
     "metadata": {},
     "output_type": "execute_result"
    }
   ],
   "source": [
    "arr.sum()\n",
    "\n",
    "arr.sum(axis = 1)"
   ]
  },
  {
   "cell_type": "code",
   "execution_count": 6,
   "metadata": {},
   "outputs": [],
   "source": [
    "# def read_file(filename):\n",
    "#     from csv import reader\n",
    "#     return list(reader(open(filename, encoding = \"utf-8\")))"
   ]
  },
  {
   "cell_type": "markdown",
   "metadata": {},
   "source": [
    "# .genfromtxt(*file addrease*) == list(reader(open(*file addrease*)))"
   ]
  },
  {
   "cell_type": "code",
   "execution_count": 7,
   "metadata": {},
   "outputs": [],
   "source": [
    "array = np.genfromtxt(\"datasets/nyc_taxis.csv\" , delimiter = \",\" , skip_header = 1)"
   ]
  },
  {
   "cell_type": "code",
   "execution_count": 8,
   "metadata": {},
   "outputs": [
    {
     "data": {
      "text/plain": [
       "2"
      ]
     },
     "execution_count": 8,
     "metadata": {},
     "output_type": "execute_result"
    }
   ],
   "source": [
    "array.ndim"
   ]
  },
  {
   "cell_type": "code",
   "execution_count": 9,
   "metadata": {},
   "outputs": [
    {
     "data": {
      "text/plain": [
       "array([[2.016e+03, 1.000e+00, 1.000e+00, 5.000e+00, 1.000e+00, 4.000e+00,\n",
       "        3.000e+00, 1.209e+01, 1.265e+03, 3.350e+01, 1.300e+00, 5.540e+00,\n",
       "        1.008e+01, 5.042e+01, 1.000e+00],\n",
       "       [2.016e+03, 1.000e+00, 1.000e+00, 5.000e+00, 1.000e+00, 2.000e+00,\n",
       "        4.000e+00, 1.730e+01, 1.588e+03, 5.200e+01, 8.000e-01, 5.540e+00,\n",
       "        0.000e+00, 5.834e+01, 2.000e+00],\n",
       "       [2.016e+03, 1.000e+00, 1.000e+00, 5.000e+00, 1.000e+00, 2.000e+00,\n",
       "        1.000e+00, 1.374e+01, 2.304e+03, 4.200e+01, 1.300e+00, 0.000e+00,\n",
       "        5.000e+00, 4.830e+01, 1.000e+00],\n",
       "       [2.016e+03, 1.000e+00, 1.000e+00, 5.000e+00, 1.000e+00, 4.000e+00,\n",
       "        2.000e+00, 1.757e+01, 1.654e+03, 5.200e+01, 8.000e-01, 5.540e+00,\n",
       "        0.000e+00, 5.834e+01, 2.000e+00],\n",
       "       [2.016e+03, 1.000e+00, 1.000e+00, 5.000e+00, 1.000e+00, 4.000e+00,\n",
       "        3.000e+00, 9.500e+00, 1.299e+03, 2.850e+01, 1.300e+00, 0.000e+00,\n",
       "        5.960e+00, 3.576e+01, 1.000e+00],\n",
       "       [2.016e+03, 1.000e+00, 1.000e+00, 5.000e+00, 1.000e+00, 4.000e+00,\n",
       "        3.000e+00, 9.300e+00, 1.125e+03, 2.700e+01, 1.300e+00, 0.000e+00,\n",
       "        8.450e+00, 3.675e+01, 1.000e+00],\n",
       "       [2.016e+03, 1.000e+00, 1.000e+00, 5.000e+00, 1.000e+00, 4.000e+00,\n",
       "        3.000e+00, 1.010e+01, 1.274e+03, 3.000e+01, 1.300e+00, 5.540e+00,\n",
       "        5.000e+00, 4.184e+01, 1.000e+00],\n",
       "       [2.016e+03, 1.000e+00, 1.000e+00, 5.000e+00, 1.000e+00, 2.000e+00,\n",
       "        4.000e+00, 2.057e+01, 1.834e+03, 5.200e+01, 8.000e-01, 5.540e+00,\n",
       "        0.000e+00, 5.834e+01, 2.000e+00],\n",
       "       [2.016e+03, 1.000e+00, 1.000e+00, 5.000e+00, 1.000e+00, 4.000e+00,\n",
       "        3.000e+00, 7.900e+00, 8.730e+02, 2.350e+01, 8.000e-01, 5.540e+00,\n",
       "        0.000e+00, 2.984e+01, 2.000e+00],\n",
       "       [2.016e+03, 1.000e+00, 1.000e+00, 5.000e+00, 1.000e+00, 4.000e+00,\n",
       "        2.000e+00, 1.733e+01, 1.561e+03, 5.200e+01, 8.000e-01, 0.000e+00,\n",
       "        1.056e+01, 6.336e+01, 1.000e+00],\n",
       "       [2.016e+03, 1.000e+00, 1.000e+00, 5.000e+00, 1.000e+00, 4.000e+00,\n",
       "        2.000e+00, 2.034e+01, 1.860e+03, 5.200e+01, 8.000e-01, 5.540e+00,\n",
       "        1.167e+01, 7.001e+01, 1.000e+00]])"
      ]
     },
     "execution_count": 9,
     "metadata": {},
     "output_type": "execute_result"
    }
   ],
   "source": [
    "array[15:26]     # [rows , columns]"
   ]
  },
  {
   "cell_type": "code",
   "execution_count": 10,
   "metadata": {},
   "outputs": [
    {
     "data": {
      "text/plain": [
       "array([[ 52.  ,   0.8 ,   5.54,  11.65],\n",
       "       [ 45.  ,   1.3 ,   0.  ,   8.  ],\n",
       "       [ 36.5 ,   1.3 ,   0.  ,   0.  ],\n",
       "       [ 26.  ,   1.3 ,   0.  ,   5.46],\n",
       "       [ 17.5 ,   1.3 ,   0.  ,   0.  ],\n",
       "       [ 52.  ,   0.8 ,   0.  ,  52.8 ],\n",
       "       [ 24.5 ,   1.3 ,   0.  ,   6.45],\n",
       "       [ 21.5 ,   1.3 ,   0.  ,   0.  ],\n",
       "       [109.5 ,   0.8 ,  11.08,  10.  ],\n",
       "       [ 36.  ,   1.3 ,   0.  ,   0.  ],\n",
       "       [ 52.  ,   0.8 ,   5.54,   0.  ]])"
      ]
     },
     "execution_count": 10,
     "metadata": {},
     "output_type": "execute_result"
    }
   ],
   "source": [
    "# Array[Rows,Colum]\n",
    "array[:11,9:13]"
   ]
  },
  {
   "cell_type": "code",
   "execution_count": 11,
   "metadata": {},
   "outputs": [],
   "source": [
    "Cal_Account = array[:,9:13].sum(axis = 1)"
   ]
  },
  {
   "cell_type": "code",
   "execution_count": 12,
   "metadata": {},
   "outputs": [],
   "source": [
    "Act = array[:,13]"
   ]
  },
  {
   "cell_type": "code",
   "execution_count": 13,
   "metadata": {},
   "outputs": [],
   "source": [
    "boolean = Cal_Account == Act"
   ]
  },
  {
   "cell_type": "code",
   "execution_count": 14,
   "metadata": {},
   "outputs": [
    {
     "data": {
      "text/plain": [
       "89560"
      ]
     },
     "execution_count": 14,
     "metadata": {},
     "output_type": "execute_result"
    }
   ],
   "source": [
    "len(boolean)"
   ]
  },
  {
   "cell_type": "code",
   "execution_count": 15,
   "metadata": {},
   "outputs": [
    {
     "data": {
      "text/plain": [
       "57151"
      ]
     },
     "execution_count": 15,
     "metadata": {},
     "output_type": "execute_result"
    }
   ],
   "source": [
    "len(array[boolean])"
   ]
  },
  {
   "cell_type": "code",
   "execution_count": 16,
   "metadata": {},
   "outputs": [
    {
     "data": {
      "text/plain": [
       "32409"
      ]
     },
     "execution_count": 16,
     "metadata": {},
     "output_type": "execute_result"
    }
   ],
   "source": [
    "89560 - 57151"
   ]
  },
  {
   "cell_type": "code",
   "execution_count": 17,
   "metadata": {},
   "outputs": [
    {
     "data": {
      "text/plain": [
       "32409"
      ]
     },
     "execution_count": 17,
     "metadata": {},
     "output_type": "execute_result"
    }
   ],
   "source": [
    "len(array[boolean==False])"
   ]
  },
  {
   "cell_type": "code",
   "execution_count": 18,
   "metadata": {},
   "outputs": [
    {
     "data": {
      "text/plain": [
       "array([ 0.  , 11.67,  0.  , ...,  0.  ,  5.  ,  0.  ])"
      ]
     },
     "execution_count": 18,
     "metadata": {},
     "output_type": "execute_result"
    }
   ],
   "source": [
    "array[boolean == False , 12] # Indexing sy maloom krna hai kysy kryngy"
   ]
  },
  {
   "cell_type": "code",
   "execution_count": 19,
   "metadata": {},
   "outputs": [],
   "source": [
    "array[:,13] = Cal_Account"
   ]
  },
  {
   "cell_type": "code",
   "execution_count": 20,
   "metadata": {},
   "outputs": [
    {
     "data": {
      "text/plain": [
       "(array([   10,    12,    13, ..., 89556, 89557, 89559], dtype=int64),)"
      ]
     },
     "execution_count": 20,
     "metadata": {},
     "output_type": "execute_result"
    }
   ],
   "source": [
    "np.where(boolean == False)"
   ]
  }
 ],
 "metadata": {
  "kernelspec": {
   "display_name": "Python 3",
   "language": "python",
   "name": "python3"
  },
  "language_info": {
   "codemirror_mode": {
    "name": "ipython",
    "version": 3
   },
   "file_extension": ".py",
   "mimetype": "text/x-python",
   "name": "python",
   "nbconvert_exporter": "python",
   "pygments_lexer": "ipython3",
   "version": "3.8.5"
  }
 },
 "nbformat": 4,
 "nbformat_minor": 4
}
