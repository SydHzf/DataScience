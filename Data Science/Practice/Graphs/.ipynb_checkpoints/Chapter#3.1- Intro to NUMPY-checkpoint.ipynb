{
 "cells": [
  {
   "cell_type": "markdown",
   "metadata": {},
   "source": [
    " # Numpy  \n",
    " *(only work on Numbers) \\\n",
    " *(Based on C language) \\\n",
    " *(ndarray) "
   ]
  },
  {
   "cell_type": "code",
   "execution_count": 1,
   "metadata": {},
   "outputs": [],
   "source": [
    "import numpy as np "
   ]
  },
  {
   "cell_type": "code",
   "execution_count": 2,
   "metadata": {},
   "outputs": [],
   "source": [
    "lst = [2,4,6,8]"
   ]
  },
  {
   "cell_type": "code",
   "execution_count": 3,
   "metadata": {},
   "outputs": [],
   "source": [
    "array = np.array(lst)"
   ]
  },
  {
   "cell_type": "code",
   "execution_count": 4,
   "metadata": {},
   "outputs": [
    {
     "data": {
      "text/plain": [
       "array([2, 4, 6, 8])"
      ]
     },
     "execution_count": 4,
     "metadata": {},
     "output_type": "execute_result"
    }
   ],
   "source": [
    "array"
   ]
  },
  {
   "cell_type": "code",
   "execution_count": 5,
   "metadata": {},
   "outputs": [
    {
     "data": {
      "text/plain": [
       "numpy.ndarray"
      ]
     },
     "execution_count": 5,
     "metadata": {},
     "output_type": "execute_result"
    }
   ],
   "source": [
    "type(array)"
   ]
  },
  {
   "cell_type": "markdown",
   "metadata": {},
   "source": [
    "## SIMD: Single Instruction Multiple Data."
   ]
  },
  {
   "cell_type": "code",
   "execution_count": 6,
   "metadata": {},
   "outputs": [
    {
     "data": {
      "text/plain": [
       "array([ 4, 16, 36, 64], dtype=int32)"
      ]
     },
     "execution_count": 6,
     "metadata": {},
     "output_type": "execute_result"
    }
   ],
   "source": [
    "array**2"
   ]
  },
  {
   "cell_type": "code",
   "execution_count": 7,
   "metadata": {},
   "outputs": [
    {
     "data": {
      "text/plain": [
       "dtype('int32')"
      ]
     },
     "execution_count": 7,
     "metadata": {},
     "output_type": "execute_result"
    }
   ],
   "source": [
    "array.dtype"
   ]
  },
  {
   "cell_type": "code",
   "execution_count": 8,
   "metadata": {},
   "outputs": [
    {
     "data": {
      "text/plain": [
       "1"
      ]
     },
     "execution_count": 8,
     "metadata": {},
     "output_type": "execute_result"
    }
   ],
   "source": [
    "array.ndim"
   ]
  },
  {
   "cell_type": "markdown",
   "metadata": {},
   "source": [
    "### Jitni indexing mai value fetch hojye wo dimension hoga\n"
   ]
  },
  {
   "cell_type": "markdown",
   "metadata": {},
   "source": [
    "# Axis\n",
    "#        * axis = 0 (row-wise operation)\n",
    "#        * axis = 1 (column-wise operation)\n"
   ]
  },
  {
   "cell_type": "code",
   "execution_count": 9,
   "metadata": {},
   "outputs": [
    {
     "data": {
      "text/plain": [
       "20"
      ]
     },
     "execution_count": 9,
     "metadata": {},
     "output_type": "execute_result"
    }
   ],
   "source": [
    "array.sum(axis=0)"
   ]
  },
  {
   "cell_type": "code",
   "execution_count": 10,
   "metadata": {},
   "outputs": [
    {
     "data": {
      "text/plain": [
       "array([2, 4, 6, 8])"
      ]
     },
     "execution_count": 10,
     "metadata": {},
     "output_type": "execute_result"
    }
   ],
   "source": [
    "array"
   ]
  },
  {
   "cell_type": "code",
   "execution_count": 16,
   "metadata": {},
   "outputs": [
    {
     "ename": "AxisError",
     "evalue": "axis 1 is out of bounds for array of dimension 1",
     "output_type": "error",
     "traceback": [
      "\u001b[1;31m---------------------------------------------------------------------------\u001b[0m",
      "\u001b[1;31mAxisError\u001b[0m                                 Traceback (most recent call last)",
      "\u001b[1;32m<ipython-input-16-24a3add927c5>\u001b[0m in \u001b[0;36m<module>\u001b[1;34m\u001b[0m\n\u001b[1;32m----> 1\u001b[1;33m \u001b[0marray\u001b[0m\u001b[1;33m.\u001b[0m\u001b[0msum\u001b[0m\u001b[1;33m(\u001b[0m\u001b[0maxis\u001b[0m \u001b[1;33m=\u001b[0m \u001b[1;36m1\u001b[0m\u001b[1;33m)\u001b[0m\u001b[1;33m\u001b[0m\u001b[1;33m\u001b[0m\u001b[0m\n\u001b[0m",
      "\u001b[1;32m~\\Anaconda3\\lib\\site-packages\\numpy\\core\\_methods.py\u001b[0m in \u001b[0;36m_sum\u001b[1;34m(a, axis, dtype, out, keepdims, initial, where)\u001b[0m\n\u001b[0;32m     45\u001b[0m def _sum(a, axis=None, dtype=None, out=None, keepdims=False,\n\u001b[0;32m     46\u001b[0m          initial=_NoValue, where=True):\n\u001b[1;32m---> 47\u001b[1;33m     \u001b[1;32mreturn\u001b[0m \u001b[0mumr_sum\u001b[0m\u001b[1;33m(\u001b[0m\u001b[0ma\u001b[0m\u001b[1;33m,\u001b[0m \u001b[0maxis\u001b[0m\u001b[1;33m,\u001b[0m \u001b[0mdtype\u001b[0m\u001b[1;33m,\u001b[0m \u001b[0mout\u001b[0m\u001b[1;33m,\u001b[0m \u001b[0mkeepdims\u001b[0m\u001b[1;33m,\u001b[0m \u001b[0minitial\u001b[0m\u001b[1;33m,\u001b[0m \u001b[0mwhere\u001b[0m\u001b[1;33m)\u001b[0m\u001b[1;33m\u001b[0m\u001b[1;33m\u001b[0m\u001b[0m\n\u001b[0m\u001b[0;32m     48\u001b[0m \u001b[1;33m\u001b[0m\u001b[0m\n\u001b[0;32m     49\u001b[0m def _prod(a, axis=None, dtype=None, out=None, keepdims=False,\n",
      "\u001b[1;31mAxisError\u001b[0m: axis 1 is out of bounds for array of dimension 1"
     ]
    }
   ],
   "source": [
    "array.sum(axis = 1)"
   ]
  },
  {
   "cell_type": "code",
   "execution_count": 22,
   "metadata": {},
   "outputs": [],
   "source": [
    "# def read_file(filename):\n",
    "#     from csv import reader\n",
    "#     return list(reader(open(filename, encoding = \"utf-8\")))"
   ]
  },
  {
   "cell_type": "code",
   "execution_count": 23,
   "metadata": {},
   "outputs": [],
   "source": [
    "array = np.genfromtxt(\"datasets/nyc_taxis.csv\" , delimiter = \",\" , skip_header = 1)"
   ]
  },
  {
   "cell_type": "code",
   "execution_count": 24,
   "metadata": {},
   "outputs": [
    {
     "data": {
      "text/plain": [
       "2"
      ]
     },
     "execution_count": 24,
     "metadata": {},
     "output_type": "execute_result"
    }
   ],
   "source": [
    "array.ndim"
   ]
  },
  {
   "cell_type": "code",
   "execution_count": 25,
   "metadata": {},
   "outputs": [
    {
     "data": {
      "text/plain": [
       "array([[2.016e+03, 1.000e+00, 1.000e+00, 5.000e+00, 1.000e+00, 4.000e+00,\n",
       "        3.000e+00, 1.209e+01, 1.265e+03, 3.350e+01, 1.300e+00, 5.540e+00,\n",
       "        1.008e+01, 5.042e+01, 1.000e+00],\n",
       "       [2.016e+03, 1.000e+00, 1.000e+00, 5.000e+00, 1.000e+00, 2.000e+00,\n",
       "        4.000e+00, 1.730e+01, 1.588e+03, 5.200e+01, 8.000e-01, 5.540e+00,\n",
       "        0.000e+00, 5.834e+01, 2.000e+00],\n",
       "       [2.016e+03, 1.000e+00, 1.000e+00, 5.000e+00, 1.000e+00, 2.000e+00,\n",
       "        1.000e+00, 1.374e+01, 2.304e+03, 4.200e+01, 1.300e+00, 0.000e+00,\n",
       "        5.000e+00, 4.830e+01, 1.000e+00],\n",
       "       [2.016e+03, 1.000e+00, 1.000e+00, 5.000e+00, 1.000e+00, 4.000e+00,\n",
       "        2.000e+00, 1.757e+01, 1.654e+03, 5.200e+01, 8.000e-01, 5.540e+00,\n",
       "        0.000e+00, 5.834e+01, 2.000e+00],\n",
       "       [2.016e+03, 1.000e+00, 1.000e+00, 5.000e+00, 1.000e+00, 4.000e+00,\n",
       "        3.000e+00, 9.500e+00, 1.299e+03, 2.850e+01, 1.300e+00, 0.000e+00,\n",
       "        5.960e+00, 3.576e+01, 1.000e+00],\n",
       "       [2.016e+03, 1.000e+00, 1.000e+00, 5.000e+00, 1.000e+00, 4.000e+00,\n",
       "        3.000e+00, 9.300e+00, 1.125e+03, 2.700e+01, 1.300e+00, 0.000e+00,\n",
       "        8.450e+00, 3.675e+01, 1.000e+00],\n",
       "       [2.016e+03, 1.000e+00, 1.000e+00, 5.000e+00, 1.000e+00, 4.000e+00,\n",
       "        3.000e+00, 1.010e+01, 1.274e+03, 3.000e+01, 1.300e+00, 5.540e+00,\n",
       "        5.000e+00, 4.184e+01, 1.000e+00],\n",
       "       [2.016e+03, 1.000e+00, 1.000e+00, 5.000e+00, 1.000e+00, 2.000e+00,\n",
       "        4.000e+00, 2.057e+01, 1.834e+03, 5.200e+01, 8.000e-01, 5.540e+00,\n",
       "        0.000e+00, 5.834e+01, 2.000e+00],\n",
       "       [2.016e+03, 1.000e+00, 1.000e+00, 5.000e+00, 1.000e+00, 4.000e+00,\n",
       "        3.000e+00, 7.900e+00, 8.730e+02, 2.350e+01, 8.000e-01, 5.540e+00,\n",
       "        0.000e+00, 2.984e+01, 2.000e+00],\n",
       "       [2.016e+03, 1.000e+00, 1.000e+00, 5.000e+00, 1.000e+00, 4.000e+00,\n",
       "        2.000e+00, 1.733e+01, 1.561e+03, 5.200e+01, 8.000e-01, 0.000e+00,\n",
       "        1.056e+01, 6.336e+01, 1.000e+00],\n",
       "       [2.016e+03, 1.000e+00, 1.000e+00, 5.000e+00, 1.000e+00, 4.000e+00,\n",
       "        2.000e+00, 2.034e+01, 1.860e+03, 5.200e+01, 8.000e-01, 5.540e+00,\n",
       "        1.167e+01, 7.001e+01, 1.000e+00]])"
      ]
     },
     "execution_count": 25,
     "metadata": {},
     "output_type": "execute_result"
    }
   ],
   "source": [
    "array[15:26]"
   ]
  },
  {
   "cell_type": "code",
   "execution_count": 31,
   "metadata": {},
   "outputs": [
    {
     "data": {
      "text/plain": [
       "array([[ 52.  ,   0.8 ,   5.54,  11.65],\n",
       "       [ 45.  ,   1.3 ,   0.  ,   8.  ],\n",
       "       [ 36.5 ,   1.3 ,   0.  ,   0.  ],\n",
       "       [ 26.  ,   1.3 ,   0.  ,   5.46],\n",
       "       [ 17.5 ,   1.3 ,   0.  ,   0.  ],\n",
       "       [ 52.  ,   0.8 ,   0.  ,  52.8 ],\n",
       "       [ 24.5 ,   1.3 ,   0.  ,   6.45],\n",
       "       [ 21.5 ,   1.3 ,   0.  ,   0.  ],\n",
       "       [109.5 ,   0.8 ,  11.08,  10.  ],\n",
       "       [ 36.  ,   1.3 ,   0.  ,   0.  ],\n",
       "       [ 52.  ,   0.8 ,   5.54,   0.  ]])"
      ]
     },
     "execution_count": 31,
     "metadata": {},
     "output_type": "execute_result"
    }
   ],
   "source": [
    "# Array[Rows,Colum]\n",
    "array[:11,9:13]"
   ]
  },
  {
   "cell_type": "code",
   "execution_count": 34,
   "metadata": {},
   "outputs": [],
   "source": [
    "Cal_Account = array[:,9:13].sum(axis = 1)"
   ]
  },
  {
   "cell_type": "code",
   "execution_count": 35,
   "metadata": {},
   "outputs": [],
   "source": [
    "Act = array[:,13]"
   ]
  },
  {
   "cell_type": "code",
   "execution_count": 38,
   "metadata": {},
   "outputs": [],
   "source": [
    "boolean = Cal_Account == Act"
   ]
  },
  {
   "cell_type": "code",
   "execution_count": 39,
   "metadata": {},
   "outputs": [
    {
     "data": {
      "text/plain": [
       "89560"
      ]
     },
     "execution_count": 39,
     "metadata": {},
     "output_type": "execute_result"
    }
   ],
   "source": [
    "len(boolean)"
   ]
  },
  {
   "cell_type": "code",
   "execution_count": 40,
   "metadata": {},
   "outputs": [
    {
     "data": {
      "text/plain": [
       "57151"
      ]
     },
     "execution_count": 40,
     "metadata": {},
     "output_type": "execute_result"
    }
   ],
   "source": [
    "len(array[boolean])"
   ]
  },
  {
   "cell_type": "code",
   "execution_count": 41,
   "metadata": {},
   "outputs": [
    {
     "data": {
      "text/plain": [
       "32409"
      ]
     },
     "execution_count": 41,
     "metadata": {},
     "output_type": "execute_result"
    }
   ],
   "source": [
    "89560 - 57151"
   ]
  },
  {
   "cell_type": "code",
   "execution_count": 42,
   "metadata": {},
   "outputs": [
    {
     "data": {
      "text/plain": [
       "32409"
      ]
     },
     "execution_count": 42,
     "metadata": {},
     "output_type": "execute_result"
    }
   ],
   "source": [
    "len(array[boolean==False])"
   ]
  },
  {
   "cell_type": "code",
   "execution_count": 44,
   "metadata": {},
   "outputs": [
    {
     "data": {
      "text/plain": [
       "array([58.34, 70.01, 58.34, ..., 58.34, 63.34, 54.84])"
      ]
     },
     "execution_count": 44,
     "metadata": {},
     "output_type": "execute_result"
    }
   ],
   "source": [
    "array[boolean == False , 13] # Indexing sy maloom krna hai kysy kryngy"
   ]
  },
  {
   "cell_type": "code",
   "execution_count": 45,
   "metadata": {},
   "outputs": [],
   "source": [
    "array[:,13] = Cal_Account"
   ]
  },
  {
   "cell_type": "code",
   "execution_count": 46,
   "metadata": {},
   "outputs": [
    {
     "data": {
      "text/plain": [
       "(array([   10,    12,    13, ..., 89556, 89557, 89559], dtype=int64),)"
      ]
     },
     "execution_count": 46,
     "metadata": {},
     "output_type": "execute_result"
    }
   ],
   "source": [
    "np.where(boolean == False)"
   ]
  },
  {
   "cell_type": "code",
   "execution_count": null,
   "metadata": {},
   "outputs": [],
   "source": []
  }
 ],
 "metadata": {
  "kernelspec": {
   "display_name": "Python 3",
   "language": "python",
   "name": "python3"
  },
  "language_info": {
   "codemirror_mode": {
    "name": "ipython",
    "version": 3
   },
   "file_extension": ".py",
   "mimetype": "text/x-python",
   "name": "python",
   "nbconvert_exporter": "python",
   "pygments_lexer": "ipython3",
   "version": "3.8.5"
  }
 },
 "nbformat": 4,
 "nbformat_minor": 4
}
